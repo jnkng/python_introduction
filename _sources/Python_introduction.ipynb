{
 "cells": [
  {
   "cell_type": "markdown",
   "id": "ed3382e3",
   "metadata": {},
   "source": [
    "# First steps\n",
    "\n",
    "This chapter provides an introduction to basic commands and useful built-in libraries.  \n",
    "\n",
    "As mentioned, this course will rely on jupyter notebooks. Code will be written in cells, which can be run independently. \n",
    "To run a cell, one can use the run symbol above the cells by clicking on it. A more convenient way is again using the corresponding keyboard shortcut: holding **shift** and  pressing **enter**.\\\n",
    "This will run the current cell and select the next cell below."
   ]
  },
  {
   "cell_type": "code",
   "execution_count": 1,
   "id": "6673bcc1",
   "metadata": {
    "pycharm": {
     "name": "#%%\n"
    }
   },
   "outputs": [
    {
     "data": {
      "text/plain": [
       "'3.8.8 (v3.8.8:024d8058b0, Feb 19 2021, 08:48:17) \\n[Clang 6.0 (clang-600.0.57)]'"
      ]
     },
     "execution_count": 1,
     "metadata": {},
     "output_type": "execute_result"
    }
   ],
   "source": [
    "import sys\n",
    "sys.version"
   ]
  },
  {
   "cell_type": "markdown",
   "id": "d9f1a600",
   "metadata": {},
   "source": [
    "## Basic Python\n",
    "\n",
    "Just starting a jupyter notebook and thus a python kernel already allows several basic operations. The perhaps most obvious functionality would be to use a cell to calculate a mathematical expression. To do so, just enter the expression and run the cell:"
   ]
  },
  {
   "cell_type": "code",
   "execution_count": 2,
   "id": "88004abc",
   "metadata": {
    "pycharm": {
     "name": "#%%\n"
    }
   },
   "outputs": [
    {
     "data": {
      "text/plain": [
       "1000"
      ]
     },
     "execution_count": 2,
     "metadata": {},
     "output_type": "execute_result"
    }
   ],
   "source": [
    "999+1"
   ]
  },
  {
   "cell_type": "code",
   "execution_count": 3,
   "id": "4129378b",
   "metadata": {
    "pycharm": {
     "name": "#%%\n"
    }
   },
   "outputs": [
    {
     "data": {
      "text/plain": [
       "4"
      ]
     },
     "execution_count": 3,
     "metadata": {},
     "output_type": "execute_result"
    }
   ],
   "source": [
    "# comments inside the cell, starting with '#' help readers to understand your code. \n",
    "# These lines are not run! \n",
    "2 * (2 + 2) - 4"
   ]
  },
  {
   "cell_type": "markdown",
   "id": "b2717637",
   "metadata": {},
   "source": [
    "While jupyter will print the result of such one line expressions immediately, writing both expressions in one cell will print only the last computed result:"
   ]
  },
  {
   "cell_type": "code",
   "execution_count": 4,
   "id": "91894ed7",
   "metadata": {
    "pycharm": {
     "name": "#%%\n"
    }
   },
   "outputs": [
    {
     "data": {
      "text/plain": [
       "4"
      ]
     },
     "execution_count": 4,
     "metadata": {},
     "output_type": "execute_result"
    }
   ],
   "source": [
    "999+1\n",
    "2 * (2 + 2) - 4"
   ]
  },
  {
   "cell_type": "markdown",
   "id": "52c0c72d",
   "metadata": {},
   "source": [
    "In the common case, where code inside one cell will exceed one line or will produce more than just on result, the ```print()``` function can be used. Functions in python get their parameters in parentheses (more on functions later):"
   ]
  },
  {
   "cell_type": "code",
   "execution_count": 5,
   "id": "e1633ff4",
   "metadata": {
    "pycharm": {
     "name": "#%%\n"
    }
   },
   "outputs": [
    {
     "name": "stdout",
     "output_type": "stream",
     "text": [
      "1000\n",
      "4\n"
     ]
    }
   ],
   "source": [
    "print(999+1)\n",
    "print(2 * (2 + 2) - 4)"
   ]
  },
  {
   "cell_type": "markdown",
   "id": "7a7df33c",
   "metadata": {},
   "source": [
    "Some basic operations and functions are"
   ]
  },
  {
   "cell_type": "code",
   "execution_count": 6,
   "id": "a23cd74e",
   "metadata": {
    "pycharm": {
     "name": "#%%\n"
    }
   },
   "outputs": [
    {
     "name": "stdout",
     "output_type": "stream",
     "text": [
      "Addition: 2\n",
      "Subtraction: 1\n",
      "Division: 2\n",
      "Multiplication: 2.0\n",
      "Modulus: 1\n",
      "Floor division: 2\n",
      "Exponent: 8\n",
      "Minimum: 2\n",
      "Maximum: 5\n"
     ]
    }
   ],
   "source": [
    "print('Addition:',       1 + 1 )      \n",
    "print('Subtraction:',    2 - 1 )      \n",
    "print('Division:',       1 * 2 )      \n",
    "print('Multiplication:', 2 / 1 )      \n",
    "print('Modulus:',        3 % 2 )      \n",
    "print('Floor division:', 5 // 2 )     \n",
    "print('Exponent:',       2 ** 3 )     \n",
    "print('Minimum:',       min(2,5))\n",
    "print('Maximum:',       max(2,5))"
   ]
  },
  {
   "cell_type": "markdown",
   "id": "23c5de6e",
   "metadata": {},
   "source": [
    "Autocompletion is a very useful tool for writing code. Not only will it provide already defined variables. It will also show you available methods on different objects (more on objects later).\n",
    "\n",
    "Autocompletion or suggestions for completion will appear when pressing **tab** in code, as long as it is not the beginning of a line (where it will indent the line, see loops, functions).\\\n",
    "For instance, when typing ```pri``` and hitting **tab**, jupyter will complete it to ```print```."
   ]
  },
  {
   "cell_type": "markdown",
   "id": "c2214d0f",
   "metadata": {},
   "source": [
    "### Help\n",
    "In order to get information, for example on the ```print()```function, help can be summoned by using yet another function:"
   ]
  },
  {
   "cell_type": "code",
   "execution_count": 7,
   "id": "ce6f9c50",
   "metadata": {
    "pycharm": {
     "name": "#%%\n"
    }
   },
   "outputs": [
    {
     "name": "stdout",
     "output_type": "stream",
     "text": [
      "Help on built-in function print in module builtins:\n",
      "\n",
      "print(...)\n",
      "    print(value, ..., sep=' ', end='\\n', file=sys.stdout, flush=False)\n",
      "    \n",
      "    Prints the values to a stream, or to sys.stdout by default.\n",
      "    Optional keyword arguments:\n",
      "    file:  a file-like object (stream); defaults to the current sys.stdout.\n",
      "    sep:   string inserted between values, default a space.\n",
      "    end:   string appended after the last value, default a newline.\n",
      "    flush: whether to forcibly flush the stream.\n",
      "\n"
     ]
    }
   ],
   "source": [
    "help(print)"
   ]
  },
  {
   "cell_type": "markdown",
   "id": "1ea039a8",
   "metadata": {},
   "source": [
    "### Data Types\n",
    "\n",
    "The most basic data types in python are numeric, string and boolean. However, there are many, many more. In order for many operations wo work properly, the data types must be compatible with one another. With the ```type()``` function the datatype of an object can be printed. "
   ]
  },
  {
   "cell_type": "code",
   "execution_count": 8,
   "id": "f49e7824",
   "metadata": {
    "pycharm": {
     "name": "#%%\n"
    }
   },
   "outputs": [
    {
     "name": "stdout",
     "output_type": "stream",
     "text": [
      "a: <class 'int'>\n",
      "b: <class 'float'>\n",
      "c: <class 'str'>\n",
      "d: <class 'bool'>\n"
     ]
    }
   ],
   "source": [
    "a = 1\n",
    "b = 1.0\n",
    "c = 'two'\n",
    "d = True\n",
    "print('a:', type(a))\n",
    "print('b:', type(b))\n",
    "print('c:', type(c))\n",
    "print('d:', type(d))"
   ]
  },
  {
   "cell_type": "markdown",
   "id": "90da2600",
   "metadata": {},
   "source": [
    "Changing the type of a variable can be achieved by the respective functions:"
   ]
  },
  {
   "cell_type": "code",
   "execution_count": 9,
   "id": "bf014c00",
   "metadata": {
    "pycharm": {
     "name": "#%%\n"
    }
   },
   "outputs": [
    {
     "name": "stdout",
     "output_type": "stream",
     "text": [
      "3\n",
      "12.5\n"
     ]
    }
   ],
   "source": [
    "print(int(3.14))\n",
    "\n",
    "f = \"2.5\"\n",
    "print(10 + float(f))"
   ]
  },
  {
   "cell_type": "markdown",
   "id": "d7de15ff",
   "metadata": {},
   "source": [
    "Some mathematical operations can also be applied to strings/lists:"
   ]
  },
  {
   "cell_type": "code",
   "execution_count": 10,
   "id": "409cf801",
   "metadata": {
    "pycharm": {
     "name": "#%%\n"
    }
   },
   "outputs": [
    {
     "name": "stdout",
     "output_type": "stream",
     "text": [
      "Who would have thought?????\n"
     ]
    }
   ],
   "source": [
    "a = 'Who would '\n",
    "b = 'have thought'\n",
    "c = '?'\n",
    "print(a+b+(c*5))"
   ]
  },
  {
   "cell_type": "markdown",
   "id": "225ddc8e",
   "metadata": {},
   "source": [
    "## Packages and Modules\n",
    "\n",
    "Python's functionality can be expanded by loading modules to the namespace. A module may be seen as a chunk of python code for a special task someone has already written for you to use while package signifies the inclusion of the underlying file structure to load the modules. \n",
    "\n",
    "In order to make a module's complete functionality available, it has to be loaded to the namespace trailing the ```import``` statement. Calling a module function in this case requires the module name with a dot before the function: ```package.function()```. \n",
    "\n",
    "A module can be imported under an alias, using the ```as``` statement. This can help someone reading your code to know from which module a function is imported while keeping the code shorter and thus better readable.\n",
    "\n",
    ":::{admonition} Tip \n",
    ":class: tip\n",
    "By convention all imports are done at the beginning of the code.\n",
    ":::"
   ]
  },
  {
   "cell_type": "code",
   "execution_count": 11,
   "id": "9e11312a",
   "metadata": {
    "pycharm": {
     "name": "#%%\n"
    }
   },
   "outputs": [
    {
     "name": "stdout",
     "output_type": "stream",
     "text": [
      "2.0\n",
      "2.0\n"
     ]
    }
   ],
   "source": [
    "import math\n",
    "print(math.sqrt(4))\n",
    "\n",
    "import numpy as np\n",
    "print(np.sqrt(4.0))"
   ]
  },
  {
   "cell_type": "markdown",
   "id": "21534d93",
   "metadata": {},
   "source": [
    "To import a single function (or class) from a module one calls ```from <module> import <function>```. Here, the module's name does not need to be added when calling the function. Similarly, an asterisk can be used as a wild card, as in ```from <package> import *```, to import all functions (classes) from one module (so not to add the module prefix every time in the code). \\\n",
    "The following examples uses the ```math``` module, which contains functions such as the sine, cosine or square root."
   ]
  },
  {
   "cell_type": "code",
   "execution_count": 12,
   "id": "ba4fb797",
   "metadata": {
    "pycharm": {
     "name": "#%%\n"
    }
   },
   "outputs": [
    {
     "name": "stdout",
     "output_type": "stream",
     "text": [
      "2.0\n"
     ]
    }
   ],
   "source": [
    "from math import sqrt\n",
    "print(sqrt(4))"
   ]
  },
  {
   "cell_type": "markdown",
   "id": "9803116e",
   "metadata": {},
   "source": [
    ":::{admonition} Note\n",
    "Calling a function which is not imported results in an error.\n",
    "    \n",
    "Usually, python is rather explicit in where to look for your mistake.\n",
    ":::"
   ]
  },
  {
   "cell_type": "code",
   "execution_count": 13,
   "id": "0046b930",
   "metadata": {
    "pycharm": {
     "name": "#%%\n"
    }
   },
   "outputs": [],
   "source": [
    "#print(cos(0))    # would raise error as cos() function is not imported"
   ]
  },
  {
   "cell_type": "markdown",
   "id": "2ee8ad38",
   "metadata": {},
   "source": [
    "![](graphics/cos_error.png)"
   ]
  },
  {
   "cell_type": "markdown",
   "id": "d0800bb8",
   "metadata": {},
   "source": [
    "With the wild card, all functions from the math module are now loaded to the namespace."
   ]
  },
  {
   "cell_type": "code",
   "execution_count": 14,
   "id": "1f810392",
   "metadata": {
    "pycharm": {
     "name": "#%%\n"
    }
   },
   "outputs": [
    {
     "data": {
      "text/plain": [
       "1.0"
      ]
     },
     "execution_count": 14,
     "metadata": {},
     "output_type": "execute_result"
    }
   ],
   "source": [
    "from math import *\n",
    "cos(0)"
   ]
  },
  {
   "cell_type": "markdown",
   "id": "7808821b",
   "metadata": {},
   "source": [
    "## Variables\n",
    "\n",
    "Objects can be stored in variables by assigning them using ```=```. Since everything in python is an object, anything can be saved in a variable: numbers, strings, lists, etc. Python will automatically recognize the format of a variable to let the user know about incompatibilities. Calling a variable before it is assigned will also throw an error.\\\n",
    "Note that python is case sensitive, meaning that when assigning variables a ≠ A."
   ]
  },
  {
   "cell_type": "code",
   "execution_count": 15,
   "id": "584e416e",
   "metadata": {
    "pycharm": {
     "name": "#%%\n"
    }
   },
   "outputs": [
    {
     "name": "stdout",
     "output_type": "stream",
     "text": [
      "25\n",
      "twenty five\n"
     ]
    }
   ],
   "source": [
    "var_1 = 5 ** 2\n",
    "print(var_1)\n",
    "var_2 = 'twenty five'\n",
    "print(var_2)"
   ]
  },
  {
   "cell_type": "markdown",
   "id": "4d82a218",
   "metadata": {},
   "source": [
    ":::{admonition} Caution\n",
    ":class: caution\n",
    "Do not name your variables like built-in python objects!\n",
    ":::\n",
    "In jupyter notebooks, built-in objects are automatically coloured green.\n",
    "For example:"
   ]
  },
  {
   "cell_type": "code",
   "execution_count": 16,
   "id": "f15c8c05",
   "metadata": {
    "pycharm": {
     "name": "#%%\n"
    }
   },
   "outputs": [
    {
     "data": {
      "text/plain": [
       "dict"
      ]
     },
     "execution_count": 16,
     "metadata": {},
     "output_type": "execute_result"
    }
   ],
   "source": [
    "list\n",
    "int\n",
    "dict"
   ]
  },
  {
   "cell_type": "markdown",
   "id": "ce52c9a6",
   "metadata": {},
   "source": [
    "## Logical Conditions\n",
    "\n",
    "\n",
    "In order to compare values, logical operators can be used. The most common are\n",
    "\n",
    "| Operator   | Meaning |\n",
    "| :--------- | ------: |\n",
    "| ==  | equal  |\n",
    "| 1!=  | not equal  |\n",
    "| >  | greater than |\n",
    "| <  | less than |\n",
    "| >=  | greater than or equal to |\n",
    "| <=  | less than or equal to |\n",
    "\n",
    "The result will be a boolean: either ```True``` or ```False```. \\\n",
    "Comparing statements may also be combined by ```and``` or ```or``` and can be negated by ```not```."
   ]
  },
  {
   "cell_type": "code",
   "execution_count": 17,
   "id": "bdf55579",
   "metadata": {
    "pycharm": {
     "name": "#%%\n"
    }
   },
   "outputs": [
    {
     "name": "stdout",
     "output_type": "stream",
     "text": [
      "True False\n",
      "False\n",
      "True\n"
     ]
    }
   ],
   "source": [
    "a = (1<2)\n",
    "b = (0 == 1)\n",
    "print(a, b)\n",
    "print(a and b)\n",
    "print(a or b)"
   ]
  },
  {
   "cell_type": "markdown",
   "id": "796a70b2",
   "metadata": {},
   "source": [
    "## Branching\n",
    "\n",
    "In a program, code must often be run conditionally on some input or previous result. The ```if```, ```else``` and ```elif```statement can be used to select which branch of code shall be run. The condition is followed by a colon and the respective code for that condition must be indented (automatically with a line break or by pressing ***tab***).\n",
    "\n",
    ":::{admonition} Caution\n",
    ":class: caution\n",
    "Indentation is not to be used for better readability. \n",
    "    \n",
    "Instead, it has a function and must not be used when not necessary!\n",
    ":::"
   ]
  },
  {
   "cell_type": "code",
   "execution_count": 18,
   "id": "b7d6ce12",
   "metadata": {
    "pycharm": {
     "name": "#%%\n"
    }
   },
   "outputs": [
    {
     "name": "stdout",
     "output_type": "stream",
     "text": [
      "a is positive\n"
     ]
    }
   ],
   "source": [
    "a = 4\n",
    "\n",
    "if a < 0:\n",
    "    print('a is negative')\n",
    "elif a > 0:\n",
    "    print('a is positive')\n",
    "else:\n",
    "    print('a equals zero')"
   ]
  },
  {
   "cell_type": "markdown",
   "id": "d80398c2",
   "metadata": {},
   "source": [
    "## Lists and Tuples\n",
    "\n",
    "Lists and tuples are both an ordered collection of objects. While tuples cannot be modified, lists are rather flexible. Objects can be added to a list, removed or replaced. Lists appear in square brackets ```[]```, tuples in parentheses ```()```.  \\\n",
    "Lists and tuples can be nested, meaning elements of a list or tuple can again be a list or tuple. Duplicates are also allowed. (A ```set()``` would not allow duplicates and is not ordered). \\\n",
    "Elements can be accessed by indexing with square brackets behind the list name.\n",
    "\n",
    "\n",
    "\n",
    ":::{admonition} Note\n",
    "Indexing in python starts with zero, so the first element of a list will have index 0.\n",
    ":::"
   ]
  },
  {
   "cell_type": "code",
   "execution_count": 19,
   "id": "aaaadc58",
   "metadata": {
    "pycharm": {
     "name": "#%%\n"
    }
   },
   "outputs": [
    {
     "name": "stdout",
     "output_type": "stream",
     "text": [
      "0. the length of my list is 5 , the length of the word \"list\" 4\n",
      "1. first element from my_list: 1\n",
      "2. second element of my_tuple: b\n",
      "3. changing the third element in my_list: [1, 2, 3, 4, 5]\n",
      "4. first letter in my_str: e\n",
      "5. last element of my_tuple: c\n",
      "6. from element 3 to end of my_list: [3, 4, 5]\n",
      "7. reverse order of my_list and slice: [4, 3, 2, 1]\n",
      "8. add new element: [1, 2, 3, 4]\n"
     ]
    }
   ],
   "source": [
    "my_list = [1,2,0,4,5]\n",
    "my_tuple = ('a', 'b', 'c')\n",
    "\n",
    "# length of object:\n",
    "print('0. the length of my list is', len(my_list),', the length of the word \"list\"', len('list'))\n",
    "\n",
    "# access first element\n",
    "print('1. first element from my_list:', my_list[0])\n",
    "\n",
    "# print variables more conveniently\n",
    "print(f'2. second element of my_tuple: {my_tuple[1]}')\n",
    "\n",
    "# to change an element\n",
    "my_list[2] = 3\n",
    "print(f'3. changing the third element in my_list: {my_list}')\n",
    "\n",
    "# note that strings are lists of characters:\n",
    "my_str = 'expression'\n",
    "print(f'4. first letter in my_str: {my_str[0]}')\n",
    "\n",
    "# last element \n",
    "print(f'5. last element of my_tuple: {my_tuple[-1]}')\n",
    "\n",
    "# slicing\n",
    "print(f'6. from element 3 to end of my_list: {my_list[2:]}')\n",
    "\n",
    "# reverse order\n",
    "print(f'7. reverse order of my_list and slice: {my_list[3::-1]}')\n",
    "\n",
    "# delete element\n",
    "del(my_list[4])\n",
    "print(f'8. add new element: {my_list}')"
   ]
  },
  {
   "cell_type": "markdown",
   "id": "bc4a2d93",
   "metadata": {},
   "source": [
    "Lists also allow for element checks using ```in``` (negated by ```not```):"
   ]
  },
  {
   "cell_type": "code",
   "execution_count": 20,
   "id": "93dd9173",
   "metadata": {
    "pycharm": {
     "name": "#%%\n"
    }
   },
   "outputs": [
    {
     "name": "stdout",
     "output_type": "stream",
     "text": [
      "2 is an element of my_list\n"
     ]
    }
   ],
   "source": [
    "my_list = [1,2,3,4]\n",
    "\n",
    "if 2 in my_list:\n",
    "    print('2 is an element of my_list')\n",
    "    \n",
    "if 10 in my_list:\n",
    "    print('10 is an element of my_list')"
   ]
  },
  {
   "cell_type": "markdown",
   "id": "d15d60fc",
   "metadata": {},
   "source": [
    "Beside definition by hand, the the functions ```list()``` and ```tuple()``` can be used to transform a suitable object to a list or tuple."
   ]
  },
  {
   "cell_type": "code",
   "execution_count": 21,
   "id": "b3b6bcae",
   "metadata": {
    "pycharm": {
     "name": "#%%\n"
    }
   },
   "outputs": [
    {
     "name": "stdout",
     "output_type": "stream",
     "text": [
      "(1, 2, 3, 4)\n",
      "['p', 'y', 't', 'h', 'o', 'n']\n"
     ]
    }
   ],
   "source": [
    "print(tuple(my_list))\n",
    "print(list('python'))"
   ]
  },
  {
   "cell_type": "markdown",
   "id": "d6b407ba",
   "metadata": {},
   "source": [
    "## Dictionaries\n",
    "\n",
    "Dictionaries allow to store *key - value* pairs in a kind of named list fashion. By convention the *key* element is of type string, while the *value* can be any object (including dictionaries). To define a dictionary, inside curly braces ```{}```, the *key* element is followed by a colon and the *value*. The *keys* must be unique in a dictionary, since the *value* elements are accessed via the respective *key*: as in lists, one uses square brackets. Yet not with an index number but the desired *key*.\\\n",
    "New key-value pairs can be added to a dict in a similar way as they are accessed. The new *key* in square brackets follows the dict name and a *value* is assigned by an equal sign.\\\n",
    "Dictionaries are not ordered, as can be seen from the way of accessing and adding new k-v pairs."
   ]
  },
  {
   "cell_type": "code",
   "execution_count": 22,
   "id": "82cbeb5f",
   "metadata": {
    "pycharm": {
     "name": "#%%\n"
    }
   },
   "outputs": [
    {
     "name": "stdout",
     "output_type": "stream",
     "text": [
      "1\n",
      "{'start': 1, 'end': 20, 'mid': 10}\n"
     ]
    }
   ],
   "source": [
    "my_dict = {'start': 1, 'end': 20}\n",
    "print(my_dict['start'])\n",
    "\n",
    "# new k-v pair\n",
    "my_dict['mid'] = 10\n",
    "print(my_dict)"
   ]
  },
  {
   "cell_type": "markdown",
   "id": "39f58aa9",
   "metadata": {},
   "source": [
    "All *keys* and *value* can be accessed with the ```.keys()``` and ```.values()``` method (more on methods later)."
   ]
  },
  {
   "cell_type": "code",
   "execution_count": 23,
   "id": "41c41841",
   "metadata": {
    "pycharm": {
     "name": "#%%\n"
    }
   },
   "outputs": [
    {
     "name": "stdout",
     "output_type": "stream",
     "text": [
      "dict_keys(['start', 'end', 'mid']) dict_values([1, 20, 10])\n"
     ]
    }
   ],
   "source": [
    "print(my_dict.keys(), my_dict.values())"
   ]
  },
  {
   "cell_type": "markdown",
   "id": "d0e765ea",
   "metadata": {},
   "source": [
    "## (Un)packing\n",
    "\n",
    "Python allows to assign multiple variables at once, called (un)packing. This is most common with tuples but can be expanded to other iterables. The variables to be assigned are separated by a comma. "
   ]
  },
  {
   "cell_type": "code",
   "execution_count": 24,
   "id": "6140f169",
   "metadata": {
    "pycharm": {
     "name": "#%%\n"
    }
   },
   "outputs": [
    {
     "name": "stdout",
     "output_type": "stream",
     "text": [
      "one 2 three\n",
      "[1, 2, 3] 4\n"
     ]
    }
   ],
   "source": [
    "my_tuple = ('one', 2, 'three')\n",
    "a, b, c = my_tuple\n",
    "print(a, b, c)\n",
    "\n",
    "# the asterisk assigns all surplus values on the right hand side of the equal sign to a\n",
    "*a, b = 1, 2, 3, 4\n",
    "print(a ,b)"
   ]
  },
  {
   "cell_type": "markdown",
   "id": "ecf4bc22",
   "metadata": {},
   "source": [
    "## Loops\n",
    "\n",
    "### for-loop\n",
    "\n",
    "A for-loop is used for iteration, if the number of iterations is known prior to execution. A for loop iterates over any sequence like lists, tuples, strings etc. A common way is to loop over a ```range(n)``` object. Caution: indexing starts from 0 and for range objects ends at ```n-1```!\\\n",
    "\n",
    "Note that when iterating a list or tuple it might be worth considering to choose an informative name (especially when nesting loops).\\ \n",
    "\n",
    "To write a loop, ```for``` is followed by the iterating variable, ```in``` and the sequence to iterate before a colon. The code to execute every step begins in the next line and is indented.  "
   ]
  },
  {
   "cell_type": "code",
   "execution_count": 25,
   "id": "90838318",
   "metadata": {
    "pycharm": {
     "name": "#%%\n"
    }
   },
   "outputs": [
    {
     "name": "stdout",
     "output_type": "stream",
     "text": [
      "0 squared is 0\n",
      "1 squared is 1\n",
      "2 squared is 4\n",
      "3 squared is 9\n",
      "4 squared is 16\n",
      "\n",
      "one\n",
      "2\n",
      "three\n",
      "\n",
      "one at position 0\n",
      "2 at position 1\n",
      "three at position 2\n",
      "\n",
      "key: start, value: 1 \n",
      "key: end, value: 20 \n",
      "key: mid, value: 10 \n"
     ]
    }
   ],
   "source": [
    "# range object for iterating numbers\n",
    "for i in range(5):\n",
    "    print(f'{i} squared is {i**2}')  \n",
    "print('')\n",
    "\n",
    "# iterate over a tuple/list\n",
    "for tuple_element in my_tuple:\n",
    "    print(tuple_element)\n",
    "print('')\n",
    "# iterate over tuple/list element and index\n",
    "for i, tup_el in enumerate(my_tuple):\n",
    "    print(f'{tup_el} at position {i}')\n",
    "print('')  \n",
    "# iterate over keys and values in dict\n",
    "for k,v in my_dict.items():\n",
    "    print(f'key: {k}, value: {v} ')"
   ]
  },
  {
   "cell_type": "markdown",
   "id": "8c4da820",
   "metadata": {},
   "source": [
    "### while-loop\n",
    "\n",
    "When the number of iterations for a loop is not known beforehand, a while-loop can be used. It will run, until a terminal state is reached or some criterion is satisfied. Usually, an initial state is given which will be altered by some operation and thus lead to termination.\\\n",
    "A while-loop start with ```while``` followed by the condition and a colon. The condition may be negated with ```not```.\\\n",
    ":::{admonition} Warning\n",
    ":class: warning\n",
    "Infinite loops may occur when the terminal criterion is not properly defined or the code is otherwise defective.\n",
    ":::\n"
   ]
  },
  {
   "cell_type": "code",
   "execution_count": 26,
   "id": "9376a6ae",
   "metadata": {
    "pycharm": {
     "name": "#%%\n"
    }
   },
   "outputs": [
    {
     "name": "stdout",
     "output_type": "stream",
     "text": [
      "0\n",
      "1\n",
      "2\n",
      "3\n",
      "5 is greater zero\n",
      "4 is greater zero\n",
      "3 is greater zero\n",
      "2 is greater zero\n",
      "1 is greater zero\n"
     ]
    }
   ],
   "source": [
    "a = 0\n",
    "while a < 4:\n",
    "    print(a)\n",
    "    # use combined operator a += 1, equal to a = a + 1\n",
    "    a += 1      # when not including this line, a will forever stay a = 0 and the loop will not terminate by itself\n",
    "                # What will be printed in this case?\n",
    "    \n",
    "var = 5\n",
    "check = True\n",
    "while check:\n",
    "    print(f'{var} is greater zero')\n",
    "    var -= 1 \n",
    "    check = var > 0\n"
   ]
  },
  {
   "cell_type": "markdown",
   "id": "600a4f51",
   "metadata": {},
   "source": [
    "## List comprehension\n",
    "Python offers a handy way to create lists. It looks like a for-loop in a list and is called list comprehension. It is written in one line instead of indenting as in ordinary for-loops. These expression can also be nested."
   ]
  },
  {
   "cell_type": "code",
   "execution_count": 27,
   "id": "c4a8a082",
   "metadata": {
    "pycharm": {
     "name": "#%%\n"
    }
   },
   "outputs": [
    {
     "name": "stdout",
     "output_type": "stream",
     "text": [
      "list_1: [0, 1, 2, 3, 4]\n",
      "list_2: [[0, 0, 0, 0, 0], [0, 1, 2, 3, 4]]\n"
     ]
    }
   ],
   "source": [
    "list_1 = [i for i in range(5)]\n",
    "print('list_1:', list_1)\n",
    "\n",
    "# a nested expression\n",
    "list_2 = [[i*j for i in list_1] for j in [0,1]]\n",
    "print('list_2:', list_2)"
   ]
  },
  {
   "cell_type": "markdown",
   "id": "36677462",
   "metadata": {},
   "source": [
    "### break and continue\n",
    "\n",
    "For more control over a loop, the ```break```and ```continue``` statements can be engaged. Used with a condition, ```break``` will terminate the loop when satisfied while ```continue``` will stop and skip the current iteration to jump to the next."
   ]
  },
  {
   "cell_type": "code",
   "execution_count": 28,
   "id": "1bf4ea25",
   "metadata": {
    "pycharm": {
     "name": "#%%\n"
    }
   },
   "outputs": [
    {
     "name": "stdout",
     "output_type": "stream",
     "text": [
      "0 is even\n",
      "2 is even\n",
      "4 is even\n",
      "6 is even\n",
      "8 is even\n"
     ]
    }
   ],
   "source": [
    "for i in range(100):\n",
    "    if i % 2 != 0:    # % is the modulo operator\n",
    "        continue      # continue in the if-statement skips printing for odd i\n",
    "    print(f'{i} is even')\n",
    "    if i == 8:        # when i equals 8, the loop terminates (the print statement for i == 8 is executed before)\n",
    "        break"
   ]
  },
  {
   "cell_type": "markdown",
   "id": "6c94fee6",
   "metadata": {},
   "source": [
    "## Functions\n",
    "\n",
    "Python come with many built in functions, some of which have been shown or used before, as well as the option to define new functions.\n",
    "\n",
    "To define a function, use ```def function_name(args):``` before the indented body of the function begins in a new line. ```args``` here means arguments, which are passed to function. \n",
    "\n",
    "Note that a function must not necessarily be defined using arguments."
   ]
  },
  {
   "cell_type": "code",
   "execution_count": 29,
   "id": "1b108131",
   "metadata": {
    "pycharm": {
     "name": "#%%\n"
    }
   },
   "outputs": [
    {
     "name": "stdout",
     "output_type": "stream",
     "text": [
      "Greetings\n",
      "hi\n"
     ]
    }
   ],
   "source": [
    "def my_print(word):\n",
    "    print(word)\n",
    "    \n",
    "my_print('Greetings')\n",
    "\n",
    "def print_hi():\n",
    "    print('hi')\n",
    "    \n",
    "print_hi()"
   ]
  },
  {
   "cell_type": "markdown",
   "id": "70b115f7",
   "metadata": {},
   "source": [
    "### Return\n",
    "\n",
    "To assign the result of a function to a variable for further use, the ```return``` keyword is used. If more than one object is to be returned, use commas to separate them.\n",
    "\n",
    "The ```return``` statement is indented at least once from ```def```, even more than once when using branching, for example.\n",
    "With branching, several return statements may appear in one function. \n",
    "\n",
    "The ```return``` command must not be confused with a ```print()``` statement! "
   ]
  },
  {
   "cell_type": "code",
   "execution_count": 30,
   "id": "35baba24",
   "metadata": {
    "pycharm": {
     "name": "#%%\n"
    }
   },
   "outputs": [
    {
     "name": "stdout",
     "output_type": "stream",
     "text": [
      "4.0\n",
      "4.0\n"
     ]
    }
   ],
   "source": [
    "import numpy as np\n",
    "\n",
    "data = [1,2,3,4,5,6,7]\n",
    "print(np.mean(data))\n",
    "\n",
    "def my_mean(arg_list):\n",
    "    sum_ = 0\n",
    "    length_count = 0\n",
    "    for el in arg_list:\n",
    "        sum_ += el\n",
    "        length_count += 1\n",
    "    return sum_/length_count\n",
    "\n",
    "print(my_mean(data))"
   ]
  },
  {
   "cell_type": "markdown",
   "id": "a349cd6d",
   "metadata": {},
   "source": [
    "### Yield\n",
    "\n",
    "Besides ```return```, another option is ```yield```. The main difference is that ```return``` will do a calculation and send the result back at once, while when using ```yield``` a **generator object** is created and results can be returned sequentially.\n",
    "\n",
    "Comparing the following two examples, the ```return_list``` function stores the complete list in the memory, while the ```yield_list``` function does not. Instead, it returns the values one after another (when using the ```next()``` function or a loop) remembering the current state of the function."
   ]
  },
  {
   "cell_type": "code",
   "execution_count": 31,
   "id": "e55f5896",
   "metadata": {
    "pycharm": {
     "name": "#%%\n"
    }
   },
   "outputs": [],
   "source": [
    "def return_list(n):\n",
    "    return [i for i in range(n)]\n",
    "\n",
    "def yield_list(n):    # function mimics range()\n",
    "    i = 0\n",
    "    while i < n:\n",
    "        yield i\n",
    "        i += 1"
   ]
  },
  {
   "cell_type": "code",
   "execution_count": 32,
   "id": "52173e29",
   "metadata": {
    "pycharm": {
     "name": "#%%\n"
    }
   },
   "outputs": [
    {
     "data": {
      "text/plain": [
       "[0, 1, 2, 3, 4]"
      ]
     },
     "execution_count": 32,
     "metadata": {},
     "output_type": "execute_result"
    }
   ],
   "source": [
    "return_list(5)"
   ]
  },
  {
   "cell_type": "code",
   "execution_count": 33,
   "id": "0f2175b1",
   "metadata": {
    "pycharm": {
     "name": "#%%\n"
    }
   },
   "outputs": [
    {
     "data": {
      "text/plain": [
       "<generator object yield_list at 0x7f9eb8019190>"
      ]
     },
     "execution_count": 33,
     "metadata": {},
     "output_type": "execute_result"
    }
   ],
   "source": [
    "yield_list(5)   # creates a generator object"
   ]
  },
  {
   "cell_type": "code",
   "execution_count": 34,
   "id": "171d1d3a",
   "metadata": {
    "pycharm": {
     "name": "#%%\n"
    }
   },
   "outputs": [],
   "source": [
    "gen = yield_list(5)    # assign generator object to variable"
   ]
  },
  {
   "cell_type": "code",
   "execution_count": 35,
   "id": "732e9f1f",
   "metadata": {
    "pycharm": {
     "name": "#%%\n"
    }
   },
   "outputs": [
    {
     "name": "stdout",
     "output_type": "stream",
     "text": [
      "0\n",
      "1\n",
      "2\n"
     ]
    }
   ],
   "source": [
    "print(next(gen))    # call next() to jump to next 'yield'\n",
    "print(next(gen))    # only one value in memory\n",
    "print(next(gen)) # another next() throws error because the generator is depleted after 4!"
   ]
  },
  {
   "cell_type": "markdown",
   "id": "3ab80acb",
   "metadata": {},
   "source": [
    "Since the state of the generator is remembered and we have already moved beyond 2 using ```next()```, the following for loop 'finishes' the generator:"
   ]
  },
  {
   "cell_type": "code",
   "execution_count": 36,
   "id": "86e52eb9",
   "metadata": {
    "pycharm": {
     "name": "#%%\n"
    }
   },
   "outputs": [
    {
     "name": "stdout",
     "output_type": "stream",
     "text": [
      "3\n",
      "4\n"
     ]
    }
   ],
   "source": [
    "for i in gen:\n",
    "    print(i)"
   ]
  },
  {
   "cell_type": "markdown",
   "id": "447c9f36",
   "metadata": {},
   "source": [
    "Generator object can be useful when working with huge files which do not fit into memory."
   ]
  },
  {
   "cell_type": "markdown",
   "id": "20f27306",
   "metadata": {},
   "source": [
    "For functions with several arguments, the order of inputs is important. They will be read according to the function definition. When the arguments are specified in the function call, the input order does not matter."
   ]
  },
  {
   "cell_type": "code",
   "execution_count": 37,
   "id": "6b18e671",
   "metadata": {
    "pycharm": {
     "name": "#%%\n"
    }
   },
   "outputs": [
    {
     "name": "stdout",
     "output_type": "stream",
     "text": [
      "5.0\n",
      "0.2\n",
      "5.0\n"
     ]
    }
   ],
   "source": [
    "def divide(numer, denom):\n",
    "    return numer / denom\n",
    "\n",
    "print(divide(10,2))\n",
    "print(divide(2,10))\n",
    "\n",
    "print(divide(denom=2, numer=10))"
   ]
  },
  {
   "cell_type": "markdown",
   "id": "77268c43",
   "metadata": {},
   "source": [
    "Default values for a function can be set. If an argument is not specified when calling the function, the default value will be used."
   ]
  },
  {
   "cell_type": "code",
   "execution_count": 38,
   "id": "28138bd3",
   "metadata": {
    "pycharm": {
     "name": "#%%\n"
    }
   },
   "outputs": [
    {
     "name": "stdout",
     "output_type": "stream",
     "text": [
      "10.0\n"
     ]
    }
   ],
   "source": [
    "def divide(numer, denom = 1):\n",
    "    return numer / denom\n",
    "print(divide(numer=10))"
   ]
  },
  {
   "cell_type": "markdown",
   "id": "33d46f57",
   "metadata": {},
   "source": [
    "More advanced function writing involves recursion, meaning python allows a function to call itself."
   ]
  },
  {
   "cell_type": "code",
   "execution_count": 39,
   "id": "ccf4ee77",
   "metadata": {
    "pycharm": {
     "name": "#%%\n"
    }
   },
   "outputs": [
    {
     "name": "stdout",
     "output_type": "stream",
     "text": [
      "120\n",
      "120\n"
     ]
    }
   ],
   "source": [
    "import math\n",
    "\n",
    "def my_factorial(n):\n",
    "    if n == 0:\n",
    "        return 1\n",
    "    else:\n",
    "        return n * my_factorial(n-1)\n",
    "    \n",
    "print(my_factorial(5))\n",
    "print(math.factorial(5))"
   ]
  },
  {
   "cell_type": "markdown",
   "id": "4aa8f74d",
   "metadata": {},
   "source": [
    "### Global and Local Variables\n",
    "\n",
    "Variables can be defined globally, i.e. outside of functions. A variable defined inside a function will only exist inside the scope of the function. Should a local variable be given the same name as a global variable, the function will use the value locally defined!\\\n",
    "Global variables inside functions can be defined using the ```global``` keyword before the respective variables."
   ]
  },
  {
   "cell_type": "code",
   "execution_count": 40,
   "id": "3753456e",
   "metadata": {
    "pycharm": {
     "name": "#%%\n"
    }
   },
   "outputs": [
    {
     "name": "stdout",
     "output_type": "stream",
     "text": [
      "calling f_1, x = 7\n",
      "after calling f_2: x = 7\n",
      "calling f_3: x = 10\n",
      "after calling f_3: x = 7\n",
      "after calling f_4: x = 10\n"
     ]
    }
   ],
   "source": [
    "x = 7\n",
    "def f_1():\n",
    "    print('calling f_1, x =',x)\n",
    "\n",
    "f_1()\n",
    "    \n",
    "def f_2():\n",
    "    x = 10\n",
    "\n",
    "f_2()\n",
    "print('after calling f_2: x =', x)\n",
    "    \n",
    "def f_3():\n",
    "    x = 10\n",
    "    print('calling f_3: x =', x)\n",
    "    \n",
    "f_3()\n",
    "print('after calling f_3: x =', x)\n",
    "    \n",
    "def f_4():\n",
    "    global x\n",
    "    x = 10\n",
    "\n",
    "f_4()\n",
    "print('after calling f_4: x =', x)"
   ]
  },
  {
   "cell_type": "markdown",
   "id": "f680483a",
   "metadata": {},
   "source": [
    "## Lambda functions\n",
    "It might occur that a function is needed which is only needed once and has only a limited functionality. To spare you and the reader of the code from jumping to a block of defining such a function you can use a **lambda function**. They are written in-line by the keyword ```lambda```, followed by the parameters and a colon before the body.\\\n",
    "Arguments are passed in parentheses as usual.\n",
    "\n",
    ":::{admonition} Note\n",
    "The lambda syntax should only be used for simple functions!\n",
    ":::"
   ]
  },
  {
   "cell_type": "code",
   "execution_count": 41,
   "id": "1994be9c",
   "metadata": {
    "pycharm": {
     "name": "#%%\n"
    }
   },
   "outputs": [
    {
     "name": "stdout",
     "output_type": "stream",
     "text": [
      "0.6065306597126334\n",
      "0.6065306597126334\n",
      "0.6065306597126334\n"
     ]
    }
   ],
   "source": [
    "from math import exp\n",
    "\n",
    "# regular way\n",
    "def reg_func(x):\n",
    "    return 1/exp(x)\n",
    "print(reg_func(.5))\n",
    "\n",
    "#lambda function with identifier \n",
    "l_func = lambda x: 1/exp(x)        # this way, it is hard to find the origin of a function if it is called elsewhere\n",
    "print(l_func(.5))                  # in your code. It is not recommended, yet still possible.\n",
    "\n",
    "# for single use, no identifier\n",
    "print((lambda x: 1/exp(x))(.5) )"
   ]
  },
  {
   "cell_type": "markdown",
   "id": "635107fa",
   "metadata": {},
   "source": [
    "Lambda functions can be easily applied in combination with list comprehension, where the can be defined in place."
   ]
  },
  {
   "cell_type": "code",
   "execution_count": 42,
   "id": "4ba03198",
   "metadata": {
    "pycharm": {
     "name": "#%%\n"
    }
   },
   "outputs": [
    {
     "name": "stdout",
     "output_type": "stream",
     "text": [
      "[1.0, 0.36787944117144233, 0.1353352832366127, 0.049787068367863944, 0.018315638888734182]\n",
      "[1.0, 0.36787944117144233, 0.1353352832366127, 0.049787068367863944, 0.018315638888734182]\n"
     ]
    }
   ],
   "source": [
    "# with list comprehension\n",
    "l_list = [(lambda x: 1/exp(x))(i) for i in list_1]\n",
    "print(l_list)\n",
    "\n",
    "# always consider doing it without a lambda function\n",
    "print([(1/exp(i)) for i in list_1])"
   ]
  },
  {
   "cell_type": "markdown",
   "id": "aad4d514",
   "metadata": {},
   "source": [
    "## Callbacks\n",
    "\n",
    "A callback is a function, which is run as soon as some criterion is met, usually when some other task is finished to use this result in further computations. One example might be a file which needs to be imported and subsequently transformed in some way, but only as the import is complete. When defining callbacks, we make use of python's property that anything is an object. So, here we pass a function as an argument to another function. The basic syntax when defining functions is the same as before.\n",
    "\n",
    "The following is a basic example for a callback. The first function `enter_string` will print the string provided as argument. The string will then be handled depending on the callback: the length of the string will be printed or the string will be printed in reverse. The `if` clause in `enter_string` together with a default value of `None` allows us to omit a callback."
   ]
  },
  {
   "cell_type": "code",
   "execution_count": 43,
   "id": "6cc77048",
   "metadata": {
    "pycharm": {
     "name": "#%%\n"
    }
   },
   "outputs": [
    {
     "name": "stdout",
     "output_type": "stream",
     "text": [
      "onomatopoeia\n",
      "12\n",
      "stressed\n",
      "desserts\n",
      "no callback here\n"
     ]
    }
   ],
   "source": [
    "def enter_string(string, callback=None):\n",
    "    print(string)\n",
    "    if callback:\n",
    "        callback(string)\n",
    "    \n",
    "def print_len(string):\n",
    "    print(len(string))\n",
    "    \n",
    "def reverse_string(string):\n",
    "    print(string[::-1])\n",
    "    \n",
    "enter_string('onomatopoeia', callback=print_len)\n",
    "\n",
    "enter_string('stressed', callback=reverse_string)\n",
    "\n",
    "enter_string('no callback here')\n"
   ]
  },
  {
   "cell_type": "markdown",
   "id": "8f3bc91c",
   "metadata": {},
   "source": [
    "## Decorators\n",
    "\n",
    "Functions which expand the functionality of another function are called decorators (or wrappers). However, these decorators do not change the underlying function, i.e. the one that *gets decorated*. \n",
    "\n",
    "This is possible since functions, just like anything in python, are objects and can get passed as arguments to other functions (we have seen this in the context of callbacks). Furthermore, functions may be defined inside other functions, using the the same syntax as usual.\n",
    "\n",
    "Let's look at a simple example of a function and a wrapper/decorator.\n",
    "The initial function `text_to_wrap` simply prints a string. The decorator returns the `wrapper()` function, which adds a line above and below the text, when printing."
   ]
  },
  {
   "cell_type": "code",
   "execution_count": 44,
   "id": "8a11f0ad",
   "metadata": {
    "pycharm": {
     "name": "#%%\n"
    }
   },
   "outputs": [
    {
     "name": "stdout",
     "output_type": "stream",
     "text": [
      "my text\n"
     ]
    }
   ],
   "source": [
    "def text_to_wrap():\n",
    "    print('my text')\n",
    "    \n",
    "text_to_wrap()"
   ]
  },
  {
   "cell_type": "code",
   "execution_count": 45,
   "id": "4669fbe8",
   "metadata": {
    "pycharm": {
     "name": "#%%\n"
    }
   },
   "outputs": [],
   "source": [
    "def emphasize_decorator(func):\n",
    "    def wrapper():\n",
    "        print('##################')\n",
    "        func()\n",
    "        print('!!!!!!!!!!!!!!!!!!')\n",
    "    return wrapper"
   ]
  },
  {
   "cell_type": "markdown",
   "id": "b9c03876",
   "metadata": {},
   "source": [
    "To decorate `text_to_wrap`, we can assign the decorator with '`text_to_wrap`' as argument to the initial function name. Note that we pass the function name without parentheses."
   ]
  },
  {
   "cell_type": "code",
   "execution_count": 46,
   "id": "6c3ea8ed",
   "metadata": {
    "pycharm": {
     "name": "#%%\n"
    }
   },
   "outputs": [],
   "source": [
    "text_to_wrap = emphasize_decorator(text_to_wrap)"
   ]
  },
  {
   "cell_type": "code",
   "execution_count": 47,
   "id": "5e6f50d6",
   "metadata": {
    "pycharm": {
     "name": "#%%\n"
    }
   },
   "outputs": [
    {
     "name": "stdout",
     "output_type": "stream",
     "text": [
      "##################\n",
      "my text\n",
      "!!!!!!!!!!!!!!!!!!\n"
     ]
    }
   ],
   "source": [
    "text_to_wrap()"
   ]
  },
  {
   "cell_type": "markdown",
   "id": "21d05c66",
   "metadata": {},
   "source": [
    "To shorten this procedure, python includes a special syntax for decorators. With `@emphasize_decorator` (no parentheses!) before the definition of the inner function, we can achieve the same behaviour."
   ]
  },
  {
   "cell_type": "code",
   "execution_count": 48,
   "id": "60d40c32",
   "metadata": {
    "pycharm": {
     "name": "#%%\n"
    }
   },
   "outputs": [],
   "source": [
    "# emphasize_decorator is being treated as already defined\n",
    "\n",
    "@emphasize_decorator\n",
    "def print_greeting():\n",
    "    print('Hello')"
   ]
  },
  {
   "cell_type": "code",
   "execution_count": 49,
   "id": "2203adf4",
   "metadata": {
    "pycharm": {
     "name": "#%%\n"
    }
   },
   "outputs": [
    {
     "name": "stdout",
     "output_type": "stream",
     "text": [
      "##################\n",
      "Hello\n",
      "!!!!!!!!!!!!!!!!!!\n"
     ]
    }
   ],
   "source": [
    "print_greeting()"
   ]
  },
  {
   "cell_type": "markdown",
   "id": "512672bb",
   "metadata": {},
   "source": [
    "We see, that `print_greeting()` has initially been defined to print 'Hello'. With the decorator call using `@`, however, we have decorated it on the fly to add the emphasis lines around the text from `emphasize_decorator()`. \n",
    "\n",
    "Furthermore, decorators may be chained by subsequent calls of the decorator functions with the same `@`-syntax before the definition of the inner function. This example uses the same decorator twice, which is just a special case. Any decorators can be chained."
   ]
  },
  {
   "cell_type": "code",
   "execution_count": 50,
   "id": "e9b61ae9",
   "metadata": {
    "pycharm": {
     "name": "#%%\n"
    }
   },
   "outputs": [],
   "source": [
    "@emphasize_decorator\n",
    "@emphasize_decorator\n",
    "def print_greeting():\n",
    "    print('Hello')"
   ]
  },
  {
   "cell_type": "markdown",
   "id": "46b11c35",
   "metadata": {},
   "source": [
    "To pass arguments through the decorator, we can use `*args` and `**kwargs` as placeholder for an arbitrary number of positional arguments and keyword arguments. Note that this is not unique for decorators, but can be used for the definition of any function! We will now update the first two examples from above:\n",
    "    - `text_to_wrap` will get two arguments to print\n",
    "    - `wrapper` inside `emphasize_decorator` will get the placeholders in it's definition "
   ]
  },
  {
   "cell_type": "code",
   "execution_count": 51,
   "id": "c5ce9571",
   "metadata": {
    "pycharm": {
     "name": "#%%\n"
    }
   },
   "outputs": [],
   "source": [
    "def emphasize_decorator(func):\n",
    "    def wrapper(*args, **kwargs):\n",
    "        print('##################')\n",
    "        func(*args, **kwargs)\n",
    "        print('!!!!!!!!!!!!!!!!!!')\n",
    "    return wrapper"
   ]
  },
  {
   "cell_type": "code",
   "execution_count": 52,
   "id": "c4303c66",
   "metadata": {
    "pycharm": {
     "name": "#%%\n"
    }
   },
   "outputs": [],
   "source": [
    "@emphasize_decorator\n",
    "def text_to_wrap(w1, w2):\n",
    "    print(f\"{w1}\\n{w2}\")"
   ]
  },
  {
   "cell_type": "code",
   "execution_count": 53,
   "id": "872e8d30",
   "metadata": {
    "pycharm": {
     "name": "#%%\n"
    }
   },
   "outputs": [
    {
     "name": "stdout",
     "output_type": "stream",
     "text": [
      "##################\n",
      "line1\n",
      "line2\n",
      "!!!!!!!!!!!!!!!!!!\n"
     ]
    }
   ],
   "source": [
    "text_to_wrap('line1', 'line2')"
   ]
  },
  {
   "cell_type": "code",
   "execution_count": null,
   "id": "5b3da22d",
   "metadata": {
    "pycharm": {
     "name": "#%%\n"
    }
   },
   "outputs": [],
   "source": []
  },
  {
   "cell_type": "markdown",
   "id": "f06e58d6",
   "metadata": {},
   "source": [
    "## Classes\n",
    "\n",
    "Since almost everything in python is an object, classes are a very important element to its functionality. A class can be seen as a constructor for certain objects. \\\n",
    "\n",
    "To define a class, the ```class``` keyword is followed by the class name. By convention, for class names the CamelCase style is used. "
   ]
  },
  {
   "cell_type": "code",
   "execution_count": 54,
   "id": "1e56cb25",
   "metadata": {
    "pycharm": {
     "name": "#%%\n"
    }
   },
   "outputs": [
    {
     "name": "stdout",
     "output_type": "stream",
     "text": [
      "Uni: Passau\n",
      "Chris' subject: biology\n",
      "class name: Student\n",
      "Tina's subject: biology\n"
     ]
    }
   ],
   "source": [
    "# define class Student\n",
    "\n",
    "class Student:\n",
    "    uni = 'Passau'\n",
    "    subject = 'math'\n",
    "    grades = [1.3, 1.7, 3.0]\n",
    "        \n",
    "# instantiate object  \n",
    "Chris = Student\n",
    "Tina = Student\n",
    "\n",
    "# get uni of student Chris\n",
    "print('Uni:', Chris.uni)\n",
    "\n",
    "# student changes subject\n",
    "Chris.subject = 'biology'\n",
    "\n",
    "print(\"Chris' subject:\", Chris.subject)\n",
    "print('class name:', Chris.__name__)\n",
    "\n",
    "print(\"Tina's subject:\", Tina.subject)"
   ]
  },
  {
   "cell_type": "markdown",
   "id": "50d5e39e",
   "metadata": {},
   "source": [
    "Classes can not only store values but also functions, called methods. Methods are defined just like regular functions, but inside the class body. To make a class more useful (compared to the example above), the ```__init__()``` method is needed. As arguments, it takes ```self``` and all other arguments needed as input to build the object. ```self``` is used for instance variables, i.e. variables that belong to an object and not the whole class.\n",
    "\n",
    "Methods and class variables are chained by a ```.``` to the object.\n"
   ]
  },
  {
   "cell_type": "code",
   "execution_count": 55,
   "id": "6fc6104c",
   "metadata": {
    "pycharm": {
     "name": "#%%\n"
    }
   },
   "outputs": [
    {
     "name": "stdout",
     "output_type": "stream",
     "text": [
      "Chris: engineering\n",
      "Tina: Physics\n",
      "2.0\n",
      "2.75\n"
     ]
    }
   ],
   "source": [
    "class Student:\n",
    "    def __init__(self, uni, subject, grades):\n",
    "        self.uni = uni\n",
    "        self.subject = subject\n",
    "        self.grades = grades\n",
    "    \n",
    "    #define method to show average grade\n",
    "    def avg_grade(self):\n",
    "        return np.mean(self.grades)\n",
    "     \n",
    "Chris = Student('Passau', 'Art', [1.3, 1.7, 3.0])\n",
    "Tina = Student('Regensburg', 'Physics', [1.0, 2.0])\n",
    "\n",
    "Chris.subject = 'engineering'\n",
    "print(f'Chris: {Chris.subject}')\n",
    "print(f'Tina: {Tina.subject}')\n",
    "\n",
    "print(Chris.avg_grade())\n",
    "\n",
    "# lists have a built-in method append, which adds items given as arguments to the end of the list (see help(list))\n",
    "Chris.grades.append(5.0)\n",
    "print(Chris.avg_grade())"
   ]
  },
  {
   "cell_type": "markdown",
   "id": "d70bf04e",
   "metadata": {},
   "source": [
    "### Inheritance\n",
    "\n",
    "Classes can inherit all properties from other classes by using the ```super()``` function in the constructor. This should be applied, if a new class should expand the functionality of the original class without wanting to change the original class. For example if a Student is also a resident: "
   ]
  },
  {
   "cell_type": "code",
   "execution_count": 56,
   "id": "1201ba59",
   "metadata": {
    "pycharm": {
     "name": "#%%\n"
    }
   },
   "outputs": [
    {
     "name": "stdout",
     "output_type": "stream",
     "text": [
      " Uni and address: Passau, Innstr. 27\n",
      "<class '__main__.LocalResident'>\n"
     ]
    }
   ],
   "source": [
    "class LocalResident(Student):\n",
    "    def __init__(self, uni, subject, grades, address):\n",
    "        super().__init__(uni, subject, grades)\n",
    "        self.address = address\n",
    "        \n",
    "Chris = LocalResident('Passau', 'Art', [1.3, 1.7, 3.0, 5.0], 'Innstr. 27')\n",
    "\n",
    "print(f\" Uni and address: {Chris.uni}, {Chris.address}\")\n",
    "print(type(Chris))"
   ]
  },
  {
   "cell_type": "markdown",
   "id": "be08c294",
   "metadata": {},
   "source": [
    "## Files\n",
    "\n",
    "Regular python files end with *.py* and code can be written and read in any text editor. Only the suffix will tell the interpreter how to handle the file, in this case as a python script.\n",
    "\n",
    "Jupyter Notebook files end with *.ipynb*. The special cell-wise structure leads to more formatting effort which is stored in a .json format (see later chapters), meaning that when a *.ipynb* file is opened in an ordinary text editor, the structure will be very different from what is shown in this jupyter interface. \n",
    "\n",
    "Below a jupyter notebook is shown on the left. The formatting is seen on the right, where the *.ipynb* file was opened using a text editor."
   ]
  },
  {
   "cell_type": "markdown",
   "id": "a00b31ee",
   "metadata": {},
   "source": [
    "![](graphics/struc.png)"
   ]
  },
  {
   "cell_type": "markdown",
   "id": "a7735cf1",
   "metadata": {},
   "source": [
    "# Second steps\n",
    "\n",
    "In the following, some common operations are shown in order to get used to the python language und its functionality.\n",
    "\n",
    "## NumPy\n",
    "One of the most useful and widely used libraries is **NumPy**. It makes working with arrays, and thus vectors and matrices, very efficient and includes a broad variety of mathematical tools. Because of its powerful implementations, it serves many other packages as a basis.\n",
    "\n",
    "Even though this course will hardly rely on numpy itself, a short introduction is given in the following.\n",
    "\n",
    "We will start with importing as **np**. Information will mainly be given by comments in the code."
   ]
  },
  {
   "cell_type": "code",
   "execution_count": 57,
   "id": "fe280bca",
   "metadata": {
    "pycharm": {
     "name": "#%%\n"
    }
   },
   "outputs": [
    {
     "name": "stdout",
     "output_type": "stream",
     "text": [
      "sin(pi) =  1.2246467991473532e-16\n"
     ]
    }
   ],
   "source": [
    "import numpy as np\n",
    "\n",
    "# mathematical functions:\n",
    "print('sin(pi) = ',np.sin(np.pi)) \n",
    "# note that the sine of the number pi is defined as zero, yet python returns a small number > 0"
   ]
  },
  {
   "cell_type": "markdown",
   "id": "fd6f996b",
   "metadata": {},
   "source": [
    "One of the most useful concepts is that of *arrays*, which can have an arbitrary number of dimensions (yet three should do here). Arrays correspond mainly to what you should know as scalar, vector or matrix. "
   ]
  },
  {
   "cell_type": "code",
   "execution_count": 58,
   "id": "317f2831",
   "metadata": {
    "pycharm": {
     "name": "#%%\n"
    }
   },
   "outputs": [
    {
     "name": "stdout",
     "output_type": "stream",
     "text": [
      "0. dimension of array a (5,)\n",
      "1. sum of array a: 15\n",
      "2. variance of array a: 2.0\n",
      "3. one plus array b: [1 1 1 1 2]\n",
      "4. element-wise multiplication of arrays: [0 0 0 0 5]\n",
      "5. scalar by dot product: 5\n",
      "5.1 vector multiplication: \n",
      " [[0 0 0 0 1]\n",
      " [0 0 0 0 2]\n",
      " [0 0 0 0 3]\n",
      " [0 0 0 0 4]\n",
      " [0 0 0 0 5]]\n",
      "5.2 transposed array: (5,) transposed matrix: (5, 1)\n",
      "6. array:     reshaped:           same result:\n",
      " [[0. 0. 0.]\n",
      " [0. 0. 0.]] [0. 0. 0. 0. 0. 0.] [0. 0. 0. 0. 0. 0.]\n"
     ]
    }
   ],
   "source": [
    "arr_a = np.array([1,2,3,4,5])\n",
    "arr_b = np.array([0,0,0,0,1])\n",
    "\n",
    "#dimensions of an array\n",
    "print('0. dimension of array a', arr_a.shape)\n",
    "\n",
    "# operations can be performed by methods and methods chaining on these array objects\n",
    "print('1. sum of array a:',arr_a.sum())\n",
    "print('2. variance of array a:', arr_a.var())\n",
    "\n",
    "# broadcasting a scalar to an array\n",
    "print('3. one plus array b:', 1 + arr_b)\n",
    "print('4. element-wise multiplication of arrays:', arr_a * arr_b)\n",
    "\n",
    "# vector multiplication / dot product\n",
    "print('5. scalar by dot product:', arr_a.transpose().dot(arr_b))   # this should not yield a scalar for vectors!\n",
    "\n",
    "# for real vectors, the inner dimension of the product is crucial -> (5x5)\n",
    "print('5.1 vector multiplication: \\n', np.matrix(arr_a).transpose().dot(np.matrix(arr_b)))\n",
    "\n",
    "# shapes differ for arrays and matrices\n",
    "print('5.2 transposed array:', arr_a.transpose().shape, 'transposed matrix:', np.matrix(arr_a).transpose().shape )\n",
    "\n",
    "# to reshape an array, use the reshape method\n",
    "zero_arr = np.zeros(shape=(2,3))\n",
    "print('6. array:     reshaped:           same result:\\n', \n",
    "      zero_arr, zero_arr.reshape(-1,), zero_arr.reshape(6,))  \n",
    "# -1 is for \"unknown\" dim (like a wildcard)"
   ]
  },
  {
   "cell_type": "code",
   "execution_count": 59,
   "id": "55f56208",
   "metadata": {
    "pycharm": {
     "name": "#%%\n"
    }
   },
   "outputs": [
    {
     "name": "stdout",
     "output_type": "stream",
     "text": [
      "[[0.96657113 0.87704918 0.26424475 0.22854398 0.33397443]\n",
      " [1.34384357 1.07813349 0.58466918 0.19727001 0.24623075]\n",
      " [0.07101222 0.33482417 0.05239159 0.01630858 1.40446574]\n",
      " [0.20793941 0.01059345 0.1508455  0.14053299 0.10373323]\n",
      " [0.56799938 0.58875223 1.44951987 0.88066527 0.19162275]]\n"
     ]
    }
   ],
   "source": [
    "# random number generation with np.random module\n",
    "\n",
    "# for a list of probability distributions, the autocomplete function can be used (press tab after the dot)\n",
    "random_expo = np.random.exponential(scale=.5, size=(5,5))\n",
    "print(random_expo)"
   ]
  },
  {
   "cell_type": "markdown",
   "id": "5de39fca",
   "metadata": {},
   "source": [
    "# Working with Data \n",
    "Several libraries offer useful tools to work with data in order to allow for a meaningful analysis. One of the most popular and powerful is [**Pandas**](https://pandas.pydata.org/pandas-docs/stable/index.html). Beside including efficient ways for cleaning and manipulating data, pandas also includes functions for statistical analysis and graphics.\n",
    "\n",
    "Usually, pandas is imported under the alias ```pd```."
   ]
  },
  {
   "cell_type": "code",
   "execution_count": 60,
   "id": "5b0a08f5",
   "metadata": {
    "pycharm": {
     "name": "#%%\n"
    }
   },
   "outputs": [],
   "source": [
    "import pandas as pd"
   ]
  },
  {
   "cell_type": "markdown",
   "id": "0420c700",
   "metadata": {},
   "source": [
    "## Pandas - DataFrames and Series\n",
    "\n",
    "### Indexing\n",
    "The basic elements for data are *DataFrames* and *Series*. A DataFrame is a whole matrix- or table-like representation of data with column and row names. A Series can be understood as a single column of such a data matrix (but without the need for a table).\\\n",
    "There are respective functions to turn other objects, e.g. lists or dicts, into DataFrames or Series. Indexing, similar to lists or dicts, uses square brackets."
   ]
  },
  {
   "cell_type": "code",
   "execution_count": 61,
   "id": "ad9c9ae0",
   "metadata": {
    "pycharm": {
     "name": "#%%\n"
    }
   },
   "outputs": [
    {
     "name": "stdout",
     "output_type": "stream",
     "text": [
      "df:\n",
      "    var1\n",
      "0     1\n",
      "1     2\n",
      "2     3\n",
      "3     4\n",
      "4     5\n",
      "5     6\n",
      "6     7\n",
      "series:\n",
      " 0    1\n",
      "1    2\n",
      "2    3\n",
      "3    4\n",
      "4    5\n",
      "5    6\n",
      "6    7\n",
      "dtype: int64\n",
      "select column from df:\n",
      " 0    1\n",
      "1    2\n",
      "2    3\n",
      "3    4\n",
      "4    5\n",
      "5    6\n",
      "6    7\n",
      "Name: var1, dtype: int64\n"
     ]
    }
   ],
   "source": [
    "my_list = [1,2,3,4,5,6,7]\n",
    "my_df = pd.DataFrame(my_list, columns=['var1'])\n",
    "print('df:\\n', my_df)\n",
    "\n",
    "my_series = pd.Series(my_list)\n",
    "print('series:\\n',my_series)\n",
    "\n",
    "# selecting a single column from a DataFrame\n",
    "print('select column from df:\\n', my_df['var1'])"
   ]
  },
  {
   "cell_type": "markdown",
   "id": "b68b7f68",
   "metadata": {},
   "source": [
    "To select specific rows or columns, the ```iloc``` method, for selecting based on an index, and ```loc``` method, based on labels, are recommended. Especially when several columns are to be selected. Indexing can also be done by boolean Series (or lists) and thus conditionally. \\\n",
    "Another way to select a single column is by chaining the column's name to the DataFrame's name by a dot (like in method chaining)."
   ]
  },
  {
   "cell_type": "code",
   "execution_count": 62,
   "id": "85aae6a7",
   "metadata": {
    "pycharm": {
     "name": "#%%\n"
    }
   },
   "outputs": [
    {
     "name": "stdout",
     "output_type": "stream",
     "text": [
      "          age  height\n",
      "person_a   20     183\n",
      "person_b   34     179\n",
      "person_c   56     172\n",
      "1.: 34 is the same as 34\n",
      "indexing by condition/list\n",
      "           age  height\n",
      "person_b   34     179\n",
      "person_c   56     172 \n",
      "corresponds to \n",
      "           age  height\n",
      "person_b   34     179\n",
      "person_c   56     172\n",
      "<class 'pandas.core.series.Series'>\n"
     ]
    }
   ],
   "source": [
    "my_df = pd.DataFrame(\n",
    "{'age': [20, 34, 56],\n",
    " 'height': [183, 179, 172]\n",
    "}, index=['person_a', 'person_b', 'person_c'])\n",
    "print(my_df)\n",
    "print('1.:', my_df.loc['person_b','age'], 'is the same as',  my_df.iloc[1,0])\n",
    "\n",
    "# age > 27\n",
    "print('indexing by condition/list\\n', my_df.loc[my_df.age >27], '\\ncorresponds to \\n', my_df.loc[[False, True, True]])\n",
    "print(type(my_df.age >27))"
   ]
  },
  {
   "cell_type": "markdown",
   "id": "106098c2",
   "metadata": {},
   "source": [
    "### Useful Methods\n",
    "\n",
    "Pandas includes many useful methods that will help you get to know and manipulate a dataset. Some of these methods are shown in the following, others are introduced later when needed.\\\n",
    "More often than not, a dataset will contain missing values, i.e. cells in a data table contain no value. They will be depicted as ```NaN```, **N**ot **a** **N**umber."
   ]
  },
  {
   "cell_type": "code",
   "execution_count": 63,
   "id": "84461b70",
   "metadata": {
    "pycharm": {
     "name": "#%%\n"
    }
   },
   "outputs": [
    {
     "data": {
      "text/html": [
       "<div>\n",
       "<style scoped>\n",
       "    .dataframe tbody tr th:only-of-type {\n",
       "        vertical-align: middle;\n",
       "    }\n",
       "\n",
       "    .dataframe tbody tr th {\n",
       "        vertical-align: top;\n",
       "    }\n",
       "\n",
       "    .dataframe thead th {\n",
       "        text-align: right;\n",
       "    }\n",
       "</style>\n",
       "<table border=\"1\" class=\"dataframe\">\n",
       "  <thead>\n",
       "    <tr style=\"text-align: right;\">\n",
       "      <th></th>\n",
       "      <th>age</th>\n",
       "      <th>height</th>\n",
       "    </tr>\n",
       "  </thead>\n",
       "  <tbody>\n",
       "    <tr>\n",
       "      <th>0</th>\n",
       "      <td>20.0</td>\n",
       "      <td>183.0</td>\n",
       "    </tr>\n",
       "    <tr>\n",
       "      <th>1</th>\n",
       "      <td>34.0</td>\n",
       "      <td>179.0</td>\n",
       "    </tr>\n",
       "    <tr>\n",
       "      <th>2</th>\n",
       "      <td>56.0</td>\n",
       "      <td>NaN</td>\n",
       "    </tr>\n",
       "    <tr>\n",
       "      <th>3</th>\n",
       "      <td>NaN</td>\n",
       "      <td>163.0</td>\n",
       "    </tr>\n",
       "    <tr>\n",
       "      <th>4</th>\n",
       "      <td>44.0</td>\n",
       "      <td>NaN</td>\n",
       "    </tr>\n",
       "  </tbody>\n",
       "</table>\n",
       "</div>"
      ],
      "text/plain": [
       "    age  height\n",
       "0  20.0   183.0\n",
       "1  34.0   179.0\n",
       "2  56.0     NaN\n",
       "3   NaN   163.0\n",
       "4  44.0     NaN"
      ]
     },
     "execution_count": 63,
     "metadata": {},
     "output_type": "execute_result"
    }
   ],
   "source": [
    "import numpy as np\n",
    "my_df =  pd.DataFrame(\n",
    "{'age': [20, 34, 56, np.nan, 44],\n",
    " 'height': [183, 179, np.nan,  163, np.nan]\n",
    "})\n",
    "my_df"
   ]
  },
  {
   "cell_type": "code",
   "execution_count": 64,
   "id": "703d7749",
   "metadata": {
    "pycharm": {
     "name": "#%%\n"
    }
   },
   "outputs": [
    {
     "name": "stdout",
     "output_type": "stream",
     "text": [
      "0.\n",
      "     age  height\n",
      "0  20.0   183.0\n",
      "1  34.0   179.0\n",
      "2  56.0     NaN\n",
      "3   NaN   163.0\n",
      "4  44.0     NaN\n",
      "\n",
      "1.\n",
      "<class 'pandas.core.frame.DataFrame'>\n",
      "RangeIndex: 5 entries, 0 to 4\n",
      "Data columns (total 2 columns):\n",
      " #   Column  Non-Null Count  Dtype  \n",
      "---  ------  --------------  -----  \n",
      " 0   age     4 non-null      float64\n",
      " 1   height  3 non-null      float64\n",
      "dtypes: float64(2)\n",
      "memory usage: 208.0 bytes\n",
      "\n",
      "2.\n",
      "              age      height\n",
      "count   4.000000    3.000000\n",
      "mean   38.500000  175.000000\n",
      "std    15.264338   10.583005\n",
      "min    20.000000  163.000000\n",
      "25%    30.500000  171.000000\n",
      "50%    39.000000  179.000000\n",
      "75%    47.000000  181.000000\n",
      "max    56.000000  183.000000\n",
      "\n",
      "3.\n",
      " age       1\n",
      "height    2\n",
      "dtype: int64\n",
      "\n",
      "4.\n",
      " 38.5\n",
      "\n",
      " 5.\n",
      "     age  height\n",
      "0  20.0   183.0\n",
      "1  34.0   179.0\n",
      "2  56.0   175.0\n",
      "3  38.5   163.0\n",
      "4  44.0   175.0\n",
      "\n",
      "6.\n",
      "     age  height\n",
      "3  38.5   163.0\n",
      "2  56.0   175.0\n",
      "4  44.0   175.0\n",
      "1  34.0   179.0\n",
      "0  20.0   183.0\n"
     ]
    }
   ],
   "source": [
    "# view the first rows (view last rows with .tail())\n",
    "print('0.\\n', my_df.head(n=5))\n",
    "\n",
    "\n",
    "# general information\n",
    "print('\\n1.')\n",
    "my_df.info()\n",
    "\n",
    "# descriptive statistics on dataset\n",
    "print('\\n2.\\n',my_df.describe())\n",
    "\n",
    "# number of missing values per column\n",
    "print('\\n3.\\n',my_df.isnull().sum())\n",
    "\n",
    "# single statistics are included as methods, also for single columns\n",
    "print('\\n4.\\n', my_df.age.mean())\n",
    "\n",
    "# fill missing values (e.g. with mean of column)\n",
    "print('\\n 5.\\n', my_df.fillna(my_df.mean()))    \n",
    "\n",
    "# note that you must assign this to my_df (or a different variable) in order to impute missing values permanently!\n",
    "my_df = my_df.fillna(my_df.mean())\n",
    "\n",
    "# sort values by column(s)\n",
    "print('\\n6.\\n', my_df.sort_values(by=['height']))    "
   ]
  },
  {
   "cell_type": "code",
   "execution_count": 65,
   "id": "096b3801",
   "metadata": {
    "pycharm": {
     "name": "#%%\n"
    }
   },
   "outputs": [
    {
     "name": "stdout",
     "output_type": "stream",
     "text": [
      "7.\n",
      " Index(['age', 'height'], dtype='object')\n",
      "8.\n",
      "     age  height\n",
      "0  20.0   183.0\n",
      "1  34.0   179.0\n",
      "2  56.0   175.0\n",
      "3  38.5   163.0\n",
      "4  44.0   175.0\n",
      "9.\n",
      "    height\n",
      "0   183.0\n",
      "1   179.0\n",
      "2   175.0\n",
      "3   163.0\n",
      "4   175.0\n",
      "10.\n",
      "     age  height  weight\n",
      "0  20.0   183.0      83\n",
      "1  34.0   179.0      63\n",
      "2  56.0   175.0      98\n",
      "3  44.0   175.0      77\n",
      "11.\n",
      "              age    height    weight\n",
      "age     1.000000 -0.946549  0.481176\n",
      "height -0.946549  1.000000 -0.282126\n",
      "weight  0.481176 -0.282126  1.000000\n"
     ]
    },
    {
     "data": {
      "text/html": [
       "<div>\n",
       "<style scoped>\n",
       "    .dataframe tbody tr th:only-of-type {\n",
       "        vertical-align: middle;\n",
       "    }\n",
       "\n",
       "    .dataframe tbody tr th {\n",
       "        vertical-align: top;\n",
       "    }\n",
       "\n",
       "    .dataframe thead th {\n",
       "        text-align: right;\n",
       "    }\n",
       "</style>\n",
       "<table border=\"1\" class=\"dataframe\">\n",
       "  <thead>\n",
       "    <tr style=\"text-align: right;\">\n",
       "      <th></th>\n",
       "      <th>age</th>\n",
       "      <th>height</th>\n",
       "      <th>weight</th>\n",
       "      <th>bmi</th>\n",
       "    </tr>\n",
       "  </thead>\n",
       "  <tbody>\n",
       "    <tr>\n",
       "      <th>0</th>\n",
       "      <td>20.0</td>\n",
       "      <td>183.0</td>\n",
       "      <td>83</td>\n",
       "      <td>24.784258</td>\n",
       "    </tr>\n",
       "    <tr>\n",
       "      <th>1</th>\n",
       "      <td>34.0</td>\n",
       "      <td>179.0</td>\n",
       "      <td>63</td>\n",
       "      <td>19.662308</td>\n",
       "    </tr>\n",
       "    <tr>\n",
       "      <th>2</th>\n",
       "      <td>56.0</td>\n",
       "      <td>175.0</td>\n",
       "      <td>98</td>\n",
       "      <td>32.000000</td>\n",
       "    </tr>\n",
       "    <tr>\n",
       "      <th>3</th>\n",
       "      <td>44.0</td>\n",
       "      <td>175.0</td>\n",
       "      <td>77</td>\n",
       "      <td>25.142857</td>\n",
       "    </tr>\n",
       "  </tbody>\n",
       "</table>\n",
       "</div>"
      ],
      "text/plain": [
       "    age  height  weight        bmi\n",
       "0  20.0   183.0      83  24.784258\n",
       "1  34.0   179.0      63  19.662308\n",
       "2  56.0   175.0      98  32.000000\n",
       "3  44.0   175.0      77  25.142857"
      ]
     },
     "execution_count": 65,
     "metadata": {},
     "output_type": "execute_result"
    }
   ],
   "source": [
    "# get column names (useful for looping)\n",
    "print('7.\\n', my_df.columns)\n",
    "\n",
    "# drop rows containing missing values\n",
    "print('8.\\n', my_df.dropna()) \n",
    "\n",
    "# drop rows or columns\n",
    "print('9.\\n', my_df.drop(['age'], axis=1))\n",
    "\n",
    "# merge DataFrames (automatically on shared variable if not specified otherwise)\n",
    "df2 = pd.DataFrame(\n",
    "{'age': [20, 34, 56, np.nan, 44],\n",
    " 'weight': [83, 63, 98,  50, 77]\n",
    "})\n",
    "print('10.\\n', my_df.merge(df2))\n",
    "my_df = my_df.merge(df2)\n",
    "\n",
    "# correlation matrix\n",
    "print('11.\\n', my_df.corr())\n",
    "\n",
    "# adding new columns\n",
    "my_df = my_df.assign(bmi = my_df.weight/(my_df.height/100)**2)\n",
    "my_df"
   ]
  },
  {
   "cell_type": "markdown",
   "id": "df61469c",
   "metadata": {},
   "source": [
    "As a last tool in this section, we will look at the ```get_dummies()``` function. Dummy variables are used to encode categorical variables with zero and one, for example in order to calculate the correlation with some other numerical variable."
   ]
  },
  {
   "cell_type": "code",
   "execution_count": 66,
   "id": "4fac8737",
   "metadata": {
    "pycharm": {
     "name": "#%%\n"
    }
   },
   "outputs": [
    {
     "name": "stdout",
     "output_type": "stream",
     "text": [
      "   black  blonde  red\n",
      "0      0       1    0\n",
      "1      1       0    0\n",
      "2      0       0    1\n",
      "3      0       0    1\n",
      "4      1       0    0\n"
     ]
    }
   ],
   "source": [
    "df3 = pd.DataFrame(\n",
    "{'hair': ['blonde', 'black', 'red', 'red', 'black']\n",
    "})\n",
    "\n",
    "print(pd.get_dummies(df3.hair))"
   ]
  },
  {
   "cell_type": "markdown",
   "id": "b4354f72",
   "metadata": {},
   "source": [
    "### Plots\n",
    "Methods for standard pot types are available. For a histogram of the data, just use ```.hist()```. Other types are available by chaining ```.plot.``` and the plot type. "
   ]
  },
  {
   "cell_type": "code",
   "execution_count": 67,
   "id": "1b76b8d2",
   "metadata": {
    "pycharm": {
     "name": "#%%\n"
    }
   },
   "outputs": [
    {
     "data": {
      "text/plain": [
       "array([[<AxesSubplot:title={'center':'age'}>,\n",
       "        <AxesSubplot:title={'center':'height'}>],\n",
       "       [<AxesSubplot:title={'center':'weight'}>,\n",
       "        <AxesSubplot:title={'center':'bmi'}>]], dtype=object)"
      ]
     },
     "execution_count": 67,
     "metadata": {},
     "output_type": "execute_result"
    },
    {
     "data": {
      "image/png": "[encoded data removed]",
      "text/plain": [
       "<Figure size 432x288 with 4 Axes>"
      ]
     },
     "metadata": {
      "needs_background": "light"
     },
     "output_type": "display_data"
    }
   ],
   "source": [
    "# histogram\n",
    "my_df.hist()"
   ]
  },
  {
   "cell_type": "code",
   "execution_count": 68,
   "id": "2b29a104",
   "metadata": {
    "pycharm": {
     "name": "#%%\n"
    }
   },
   "outputs": [
    {
     "data": {
      "text/plain": [
       "<AxesSubplot:xlabel='age'>"
      ]
     },
     "execution_count": 68,
     "metadata": {},
     "output_type": "execute_result"
    },
    {
     "data": {
      "image/png": "[encoded data removed]",
      "text/plain": [
       "<Figure size 432x288 with 1 Axes>"
      ]
     },
     "metadata": {
      "needs_background": "light"
     },
     "output_type": "display_data"
    }
   ],
   "source": [
    "# lineplot\n",
    "my_df.sort_values(by='age').plot.line(x='age', y='height')"
   ]
  },
  {
   "cell_type": "code",
   "execution_count": 69,
   "id": "8e86a24d",
   "metadata": {
    "pycharm": {
     "name": "#%%\n"
    }
   },
   "outputs": [
    {
     "data": {
      "text/plain": [
       "<AxesSubplot:xlabel='age', ylabel='weight'>"
      ]
     },
     "execution_count": 69,
     "metadata": {},
     "output_type": "execute_result"
    },
    {
     "data": {
      "image/png": "[encoded data removed]",
      "text/plain": [
       "<Figure size 432x288 with 1 Axes>"
      ]
     },
     "metadata": {
      "needs_background": "light"
     },
     "output_type": "display_data"
    }
   ],
   "source": [
    "# scatter plot\n",
    "my_df.plot.scatter(x='age', y='weight')"
   ]
  },
  {
   "cell_type": "markdown",
   "id": "6c3db84a",
   "metadata": {},
   "source": [
    "### Importing and Exporting Data\n",
    "\n",
    "Your data may come to you in various file formats. Pandas enables you to import data from all common formats. The respective functions are usually called ```read_``` and ```to_``` followed by the respective file type."
   ]
  },
  {
   "cell_type": "markdown",
   "id": "366270e5",
   "metadata": {},
   "source": [
    "To read a *.csv* for example, use the ```read_csv()``` function. Note that the file must not be stored locally on your computer."
   ]
  },
  {
   "cell_type": "code",
   "execution_count": 70,
   "id": "e75ab0f9",
   "metadata": {
    "pycharm": {
     "name": "#%%\n"
    }
   },
   "outputs": [
    {
     "name": "stdout",
     "output_type": "stream",
     "text": [
      "         Date          Open          High           Low         Close  \\\n",
      "0  2020-03-10  10724.980469  11032.290039  10423.900391  10475.490234   \n",
      "1  2020-03-11  10601.849609  10761.429688  10390.509766  10438.679688   \n",
      "2  2020-03-12   9863.990234   9932.559570   9139.120117   9161.129883   \n",
      "\n",
      "      Adj Close     Volume  \n",
      "0  10475.490234  267400800  \n",
      "1  10438.679688  216708900  \n",
      "2   9161.129883  390477000  \n",
      "           Date          Open          High           Low         Close  \\\n",
      "251  2021-03-08  14024.570313  14402.919922  13977.129883  14380.910156   \n",
      "252  2021-03-09  14345.509766  14475.650391  14309.349609  14437.940430   \n",
      "253  2021-03-10  14439.450195  14554.490234  14408.519531  14528.570313   \n",
      "\n",
      "        Adj Close     Volume  \n",
      "251  14380.910156  109071900  \n",
      "252  14437.940430  107881800  \n",
      "253  14528.570313          0  \n"
     ]
    }
   ],
   "source": [
    "# import from csv\n",
    "import pandas as pd\n",
    "dax = pd.read_csv('data/DAX.csv')\n",
    "print(dax.head(3))\n",
    "print(dax.tail(3))"
   ]
  },
  {
   "cell_type": "code",
   "execution_count": 71,
   "id": "a7b3e2c0",
   "metadata": {
    "pycharm": {
     "name": "#%%\n"
    }
   },
   "outputs": [],
   "source": [
    "# save data frame to excel\n",
    "dax.to_excel('data/DAX.xlsx')"
   ]
  },
  {
   "cell_type": "markdown",
   "id": "8f9f1e9b",
   "metadata": {},
   "source": [
    " "
   ]
  },
  {
   "cell_type": "markdown",
   "id": "57a3a78a",
   "metadata": {},
   "source": [
    "Lets do some exploration and manipulation of the historical data from the DAX index we just imported.\n",
    "$ $"
   ]
  },
  {
   "cell_type": "code",
   "execution_count": 72,
   "id": "93666e37",
   "metadata": {
    "pycharm": {
     "name": "#%%\n"
    }
   },
   "outputs": [
    {
     "name": "stdout",
     "output_type": "stream",
     "text": [
      "shape: (254, 7)\n"
     ]
    }
   ],
   "source": [
    "print('shape:', dax.shape)"
   ]
  },
  {
   "cell_type": "code",
   "execution_count": 73,
   "id": "ef9f92c0",
   "metadata": {
    "pycharm": {
     "name": "#%%\n"
    }
   },
   "outputs": [
    {
     "name": "stdout",
     "output_type": "stream",
     "text": [
      "<class 'pandas.core.frame.DataFrame'>\n",
      "RangeIndex: 254 entries, 0 to 253\n",
      "Data columns (total 7 columns):\n",
      " #   Column     Non-Null Count  Dtype  \n",
      "---  ------     --------------  -----  \n",
      " 0   Date       254 non-null    object \n",
      " 1   Open       254 non-null    float64\n",
      " 2   High       254 non-null    float64\n",
      " 3   Low        254 non-null    float64\n",
      " 4   Close      254 non-null    float64\n",
      " 5   Adj Close  254 non-null    float64\n",
      " 6   Volume     254 non-null    int64  \n",
      "dtypes: float64(5), int64(1), object(1)\n",
      "memory usage: 14.0+ KB\n"
     ]
    }
   ],
   "source": [
    "dax.info()    # the 'Date' column is of dtype object "
   ]
  },
  {
   "cell_type": "code",
   "execution_count": 74,
   "id": "1b449811",
   "metadata": {
    "pycharm": {
     "name": "#%%\n"
    }
   },
   "outputs": [
    {
     "name": "stdout",
     "output_type": "stream",
     "text": [
      "<class 'str'>\n"
     ]
    }
   ],
   "source": [
    "# check type of first entry in 'Date'\n",
    "print(type(dax.Date[0]))"
   ]
  },
  {
   "cell_type": "markdown",
   "id": "d5c5d3f7",
   "metadata": {},
   "source": [
    "Transform it to *datetime*, a special type for dates in python."
   ]
  },
  {
   "cell_type": "code",
   "execution_count": 75,
   "id": "19df32b3",
   "metadata": {
    "pycharm": {
     "name": "#%%\n"
    }
   },
   "outputs": [
    {
     "name": "stdout",
     "output_type": "stream",
     "text": [
      "0   2020-03-10\n",
      "1   2020-03-11\n",
      "2   2020-03-12\n",
      "Name: Datetime, dtype: datetime64[ns]\n"
     ]
    }
   ],
   "source": [
    "dax['Datetime'] = pd.to_datetime(dax.Date)\n",
    "print(dax.Datetime.head(3))    # check dtype now"
   ]
  },
  {
   "cell_type": "code",
   "execution_count": 76,
   "id": "c7f09f60",
   "metadata": {
    "pycharm": {
     "name": "#%%\n"
    }
   },
   "outputs": [
    {
     "name": "stdout",
     "output_type": "stream",
     "text": [
      "Index(['Date', 'Open', 'High', 'Low', 'Close', 'Adj Close', 'Volume',\n",
      "       'Datetime'],\n",
      "      dtype='object')\n"
     ]
    }
   ],
   "source": [
    "print(dax.columns)"
   ]
  },
  {
   "cell_type": "code",
   "execution_count": 77,
   "id": "02a71f34",
   "metadata": {
    "pycharm": {
     "name": "#%%\n"
    }
   },
   "outputs": [
    {
     "name": "stdout",
     "output_type": "stream",
     "text": [
      "of 254 rows:\n",
      "Date         254\n",
      "Open         254\n",
      "High         254\n",
      "Low          254\n",
      "Close        254\n",
      "Adj Close    254\n",
      "Volume       254\n",
      "Datetime     254\n",
      "dtype: int64\n",
      "\n",
      "makes a total of 0 missing values\n"
     ]
    }
   ],
   "source": [
    "print(f'of {len(dax)} rows:\\n{dax.notna().sum()}')\n",
    "print('')\n",
    "print(f'makes a total of {dax.isnull().sum().sum()} missing values')"
   ]
  },
  {
   "cell_type": "code",
   "execution_count": 78,
   "id": "4009a67e",
   "metadata": {
    "pycharm": {
     "name": "#%%\n"
    }
   },
   "outputs": [
    {
     "data": {
      "text/plain": [
       "<AxesSubplot:xlabel='Datetime'>"
      ]
     },
     "execution_count": 78,
     "metadata": {},
     "output_type": "execute_result"
    },
    {
     "data": {
      "image/png": "[encoded data removed]",
      "text/plain": [
       "<Figure size 432x288 with 1 Axes>"
      ]
     },
     "metadata": {
      "needs_background": "light"
     },
     "output_type": "display_data"
    }
   ],
   "source": [
    "dax.plot(x='Datetime', y=['Open', 'Close'])    # using Datetime for plotting"
   ]
  },
  {
   "cell_type": "code",
   "execution_count": 79,
   "id": "e90b0684",
   "metadata": {
    "pycharm": {
     "name": "#%%\n"
    }
   },
   "outputs": [
    {
     "data": {
      "text/html": [
       "<div>\n",
       "<style scoped>\n",
       "    .dataframe tbody tr th:only-of-type {\n",
       "        vertical-align: middle;\n",
       "    }\n",
       "\n",
       "    .dataframe tbody tr th {\n",
       "        vertical-align: top;\n",
       "    }\n",
       "\n",
       "    .dataframe thead th {\n",
       "        text-align: right;\n",
       "    }\n",
       "</style>\n",
       "<table border=\"1\" class=\"dataframe\">\n",
       "  <thead>\n",
       "    <tr style=\"text-align: right;\">\n",
       "      <th></th>\n",
       "      <th>Open</th>\n",
       "      <th>High</th>\n",
       "      <th>Low</th>\n",
       "      <th>Close</th>\n",
       "      <th>Adj Close</th>\n",
       "      <th>Volume</th>\n",
       "    </tr>\n",
       "  </thead>\n",
       "  <tbody>\n",
       "    <tr>\n",
       "      <th>count</th>\n",
       "      <td>254.000000</td>\n",
       "      <td>254.000000</td>\n",
       "      <td>254.000000</td>\n",
       "      <td>254.000000</td>\n",
       "      <td>254.000000</td>\n",
       "      <td>2.540000e+02</td>\n",
       "    </tr>\n",
       "    <tr>\n",
       "      <th>mean</th>\n",
       "      <td>12488.785944</td>\n",
       "      <td>12595.082573</td>\n",
       "      <td>12373.931187</td>\n",
       "      <td>12489.142640</td>\n",
       "      <td>12489.142640</td>\n",
       "      <td>9.469272e+07</td>\n",
       "    </tr>\n",
       "    <tr>\n",
       "      <th>std</th>\n",
       "      <td>1324.154858</td>\n",
       "      <td>1295.824891</td>\n",
       "      <td>1365.892066</td>\n",
       "      <td>1331.191733</td>\n",
       "      <td>1331.191733</td>\n",
       "      <td>4.941752e+07</td>\n",
       "    </tr>\n",
       "    <tr>\n",
       "      <th>min</th>\n",
       "      <td>8495.940430</td>\n",
       "      <td>8668.480469</td>\n",
       "      <td>8255.650391</td>\n",
       "      <td>8441.709961</td>\n",
       "      <td>8441.709961</td>\n",
       "      <td>0.000000e+00</td>\n",
       "    </tr>\n",
       "    <tr>\n",
       "      <th>25%</th>\n",
       "      <td>11896.257813</td>\n",
       "      <td>12185.372315</td>\n",
       "      <td>11850.512451</td>\n",
       "      <td>12031.852783</td>\n",
       "      <td>12031.852783</td>\n",
       "      <td>6.409985e+07</td>\n",
       "    </tr>\n",
       "    <tr>\n",
       "      <th>50%</th>\n",
       "      <td>12847.964844</td>\n",
       "      <td>12945.129883</td>\n",
       "      <td>12764.479981</td>\n",
       "      <td>12851.169922</td>\n",
       "      <td>12851.169922</td>\n",
       "      <td>7.875350e+07</td>\n",
       "    </tr>\n",
       "    <tr>\n",
       "      <th>75%</th>\n",
       "      <td>13314.162353</td>\n",
       "      <td>13362.944824</td>\n",
       "      <td>13224.792481</td>\n",
       "      <td>13292.120361</td>\n",
       "      <td>13292.120361</td>\n",
       "      <td>1.085247e+08</td>\n",
       "    </tr>\n",
       "    <tr>\n",
       "      <th>max</th>\n",
       "      <td>14439.450195</td>\n",
       "      <td>14554.490234</td>\n",
       "      <td>14408.519531</td>\n",
       "      <td>14528.570313</td>\n",
       "      <td>14528.570313</td>\n",
       "      <td>3.904770e+08</td>\n",
       "    </tr>\n",
       "  </tbody>\n",
       "</table>\n",
       "</div>"
      ],
      "text/plain": [
       "               Open          High           Low         Close     Adj Close  \\\n",
       "count    254.000000    254.000000    254.000000    254.000000    254.000000   \n",
       "mean   12488.785944  12595.082573  12373.931187  12489.142640  12489.142640   \n",
       "std     1324.154858   1295.824891   1365.892066   1331.191733   1331.191733   \n",
       "min     8495.940430   8668.480469   8255.650391   8441.709961   8441.709961   \n",
       "25%    11896.257813  12185.372315  11850.512451  12031.852783  12031.852783   \n",
       "50%    12847.964844  12945.129883  12764.479981  12851.169922  12851.169922   \n",
       "75%    13314.162353  13362.944824  13224.792481  13292.120361  13292.120361   \n",
       "max    14439.450195  14554.490234  14408.519531  14528.570313  14528.570313   \n",
       "\n",
       "             Volume  \n",
       "count  2.540000e+02  \n",
       "mean   9.469272e+07  \n",
       "std    4.941752e+07  \n",
       "min    0.000000e+00  \n",
       "25%    6.409985e+07  \n",
       "50%    7.875350e+07  \n",
       "75%    1.085247e+08  \n",
       "max    3.904770e+08  "
      ]
     },
     "execution_count": 79,
     "metadata": {},
     "output_type": "execute_result"
    }
   ],
   "source": [
    "dax.describe()"
   ]
  },
  {
   "cell_type": "markdown",
   "id": "f7d3870c",
   "metadata": {},
   "source": [
    "For statistics on one variable, index the result as usual. "
   ]
  },
  {
   "cell_type": "code",
   "execution_count": 80,
   "id": "f29ffeed",
   "metadata": {
    "pycharm": {
     "name": "#%%\n"
    }
   },
   "outputs": [
    {
     "name": "stdout",
     "output_type": "stream",
     "text": [
      "12488.785944444882\n"
     ]
    }
   ],
   "source": [
    "mean_open = dax.describe().loc['mean', 'Open']\n",
    "print(mean_open)"
   ]
  },
  {
   "cell_type": "markdown",
   "id": "3642c398",
   "metadata": {},
   "source": [
    "Create a new column, with a flag if the closing price was higher than the opening price."
   ]
  },
  {
   "cell_type": "code",
   "execution_count": 81,
   "id": "4d0c519b",
   "metadata": {
    "pycharm": {
     "name": "#%%\n"
    }
   },
   "outputs": [
    {
     "name": "stdout",
     "output_type": "stream",
     "text": [
      "         Date          Open          High           Low         Close  \\\n",
      "0  2020-03-10  10724.980469  11032.290039  10423.900391  10475.490234   \n",
      "1  2020-03-11  10601.849609  10761.429688  10390.509766  10438.679688   \n",
      "2  2020-03-12   9863.990234   9932.559570   9139.120117   9161.129883   \n",
      "\n",
      "      Adj Close     Volume   Datetime  positive  \n",
      "0  10475.490234  267400800 2020-03-10     False  \n",
      "1  10438.679688  216708900 2020-03-11     False  \n",
      "2   9161.129883  390477000 2020-03-12     False  \n",
      "\n",
      "fraction of positive days: 0.5\n",
      "\n",
      "check: \n",
      " False    127\n",
      "True     127\n",
      "Name: positive, dtype: int64\n"
     ]
    }
   ],
   "source": [
    "dax = dax.assign(positive = dax.Close > dax.Open)\n",
    "print(dax.head(3))\n",
    "\n",
    "print('')\n",
    "# fraction of days when this was the case\n",
    "print('fraction of positive days:', dax.positive.mean())\n",
    "print('\\ncheck: \\n', dax.positive.value_counts())"
   ]
  },
  {
   "cell_type": "markdown",
   "id": "df0f7f12",
   "metadata": {},
   "source": [
    "Extract same fraction for every day in the week. Days are counted from 0 (Monday) to 6 (Sunday). "
   ]
  },
  {
   "cell_type": "code",
   "execution_count": 82,
   "id": "39e9c767",
   "metadata": {
    "pycharm": {
     "name": "#%%\n"
    }
   },
   "outputs": [
    {
     "name": "stdout",
     "output_type": "stream",
     "text": [
      "day 0:  0.58\n",
      "day 1:  0.49056603773584906\n",
      "day 2:  0.5283018867924528\n",
      "day 3:  0.44\n",
      "day 4:  0.4583333333333333\n",
      "day 5:  nan\n",
      "day 6:  nan\n"
     ]
    }
   ],
   "source": [
    "for i in range(7):\n",
    "    print(f'day {i}: ', dax[dax.Datetime.dt.dayofweek == i].positive.mean())\n"
   ]
  },
  {
   "cell_type": "markdown",
   "id": "75669fa6",
   "metadata": {},
   "source": [
    "A more straight forward way using built-in methods."
   ]
  },
  {
   "cell_type": "code",
   "execution_count": 83,
   "id": "316fa3e6",
   "metadata": {
    "pycharm": {
     "name": "#%%\n"
    }
   },
   "outputs": [
    {
     "data": {
      "text/html": [
       "<div>\n",
       "<style scoped>\n",
       "    .dataframe tbody tr th:only-of-type {\n",
       "        vertical-align: middle;\n",
       "    }\n",
       "\n",
       "    .dataframe tbody tr th {\n",
       "        vertical-align: top;\n",
       "    }\n",
       "\n",
       "    .dataframe thead th {\n",
       "        text-align: right;\n",
       "    }\n",
       "</style>\n",
       "<table border=\"1\" class=\"dataframe\">\n",
       "  <thead>\n",
       "    <tr style=\"text-align: right;\">\n",
       "      <th></th>\n",
       "      <th>Open</th>\n",
       "      <th>High</th>\n",
       "      <th>Low</th>\n",
       "      <th>Close</th>\n",
       "      <th>Adj Close</th>\n",
       "      <th>Volume</th>\n",
       "      <th>positive</th>\n",
       "    </tr>\n",
       "    <tr>\n",
       "      <th>wday</th>\n",
       "      <th></th>\n",
       "      <th></th>\n",
       "      <th></th>\n",
       "      <th></th>\n",
       "      <th></th>\n",
       "      <th></th>\n",
       "      <th></th>\n",
       "    </tr>\n",
       "  </thead>\n",
       "  <tbody>\n",
       "    <tr>\n",
       "      <th>0</th>\n",
       "      <td>12510.387852</td>\n",
       "      <td>12640.970996</td>\n",
       "      <td>12400.179629</td>\n",
       "      <td>12546.658457</td>\n",
       "      <td>12546.658457</td>\n",
       "      <td>8.860451e+07</td>\n",
       "      <td>0.580000</td>\n",
       "    </tr>\n",
       "    <tr>\n",
       "      <th>1</th>\n",
       "      <td>12523.045843</td>\n",
       "      <td>12621.270969</td>\n",
       "      <td>12403.764906</td>\n",
       "      <td>12520.457547</td>\n",
       "      <td>12520.457547</td>\n",
       "      <td>9.450496e+07</td>\n",
       "      <td>0.490566</td>\n",
       "    </tr>\n",
       "    <tr>\n",
       "      <th>2</th>\n",
       "      <td>12522.144310</td>\n",
       "      <td>12628.387014</td>\n",
       "      <td>12414.166403</td>\n",
       "      <td>12527.621886</td>\n",
       "      <td>12527.621886</td>\n",
       "      <td>9.062774e+07</td>\n",
       "      <td>0.528302</td>\n",
       "    </tr>\n",
       "    <tr>\n",
       "      <th>3</th>\n",
       "      <td>12422.626602</td>\n",
       "      <td>12512.666523</td>\n",
       "      <td>12286.600566</td>\n",
       "      <td>12394.369766</td>\n",
       "      <td>12394.369766</td>\n",
       "      <td>9.770017e+07</td>\n",
       "      <td>0.440000</td>\n",
       "    </tr>\n",
       "    <tr>\n",
       "      <th>4</th>\n",
       "      <td>12460.538106</td>\n",
       "      <td>12567.442179</td>\n",
       "      <td>12360.190674</td>\n",
       "      <td>12450.887695</td>\n",
       "      <td>12450.887695</td>\n",
       "      <td>1.025976e+08</td>\n",
       "      <td>0.458333</td>\n",
       "    </tr>\n",
       "  </tbody>\n",
       "</table>\n",
       "</div>"
      ],
      "text/plain": [
       "              Open          High           Low         Close     Adj Close  \\\n",
       "wday                                                                         \n",
       "0     12510.387852  12640.970996  12400.179629  12546.658457  12546.658457   \n",
       "1     12523.045843  12621.270969  12403.764906  12520.457547  12520.457547   \n",
       "2     12522.144310  12628.387014  12414.166403  12527.621886  12527.621886   \n",
       "3     12422.626602  12512.666523  12286.600566  12394.369766  12394.369766   \n",
       "4     12460.538106  12567.442179  12360.190674  12450.887695  12450.887695   \n",
       "\n",
       "            Volume  positive  \n",
       "wday                          \n",
       "0     8.860451e+07  0.580000  \n",
       "1     9.450496e+07  0.490566  \n",
       "2     9.062774e+07  0.528302  \n",
       "3     9.770017e+07  0.440000  \n",
       "4     1.025976e+08  0.458333  "
      ]
     },
     "execution_count": 83,
     "metadata": {},
     "output_type": "execute_result"
    }
   ],
   "source": [
    "dax = dax.assign(wday = dax.Datetime.dt.dayofweek)\n",
    "dax.groupby(['wday']).mean()  # rows with nans are not calculated"
   ]
  },
  {
   "cell_type": "markdown",
   "id": "cf9ffcbf",
   "metadata": {},
   "source": [
    "# SciKit Learn\n",
    "\n",
    "The [sklearn package](https://scikit-learn.org/stable/) provides a broad collection of data analysis and machine learning tools. These tools basically cover the whole process from data manipulation over fitting different models to the data and evaluating the results. Sklearn is based on **numpy** and may thus require that the data to analyse is provided as an numpy array. Results will also be returned as such arrays.\n",
    "\n",
    "The respective modules, i.e. classes and functions of different algorithms, are provided in an API which allows easy application basically without requiring knowledge about how the algorithm itself works. It goes without mentioning, that you should have some basic understanding about the particular strengths of an algorithm and any caveats when fitting a model to extract meaningful results.\n",
    "\n",
    "In this course, we will present only a small portion of sklearn's functionality and refer to the [API's documentation](https://scikit-learn.org/stable/modules/classes.html).\n",
    "\n",
    "Sklearn provides a kind of framework syntax for fitting models of different kinds:\n",
    "\n",
    "- instantiate the respective (algorithm's) object. Here, the hyper parameters and options are set\n",
    "\n",
    "- fit the data using this object\n",
    "\n",
    "- evaluate the model or use the model for prediction\n",
    "\n",
    "We will now look at some basic procedures for analysing data using different methods.\n",
    "\n",
    "To load our modules, we import them specifically from the `skikit-learn` (name for installation) package instead of importing the whole package."
   ]
  },
  {
   "cell_type": "markdown",
   "id": "109d32de",
   "metadata": {},
   "source": [
    "## Data manipulation\n",
    "\n",
    "When working with real data, the scale of your variables may differ dramatically. However, some algorithms work numerically more stable when the feature values are set in the same range. Some types of regression for example even require rescaling in order to work properly.\n",
    "\n",
    "Sklearn provides several scaler classes to map all values to a desired range. Note however, that such rescaling may affect the interpretation of the results.\n",
    "\n",
    "Let's have a look at the `StandardScaler` which is part of the `Preprocessing` module.\n",
    "It assumes a normal distribution of features. The rescaling is done by subtracting the mean and dividing by the standard deviation."
   ]
  },
  {
   "cell_type": "code",
   "execution_count": 84,
   "id": "685e9a65",
   "metadata": {
    "pycharm": {
     "name": "#%%\n"
    }
   },
   "outputs": [],
   "source": [
    "from sklearn.preprocessing import StandardScaler\n",
    "import numpy as np\n",
    "import matplotlib.pyplot as plt"
   ]
  },
  {
   "cell_type": "markdown",
   "id": "2c317b23",
   "metadata": {},
   "source": [
    "In the example below, we create an array filled with 1000 numbers drawn from a normal distribution with 2 two and standard deviation of 5.\n",
    "\n",
    "Then, we instantiate the `StandardScaler` object.\n",
    "\n",
    "Subsequently, we use its `.fit()` method, passing the simulated data as input. Note here the use of the array's `.reshape()` method, as StandardScaler objects require a 2D array.\n",
    "\n",
    "At last, we create the rescaled data using `.transform()`."
   ]
  },
  {
   "cell_type": "code",
   "execution_count": 85,
   "id": "cb3ce8f5",
   "metadata": {
    "pycharm": {
     "name": "#%%\n"
    }
   },
   "outputs": [
    {
     "name": "stdout",
     "output_type": "stream",
     "text": [
      "x: mean = 1.9957392969105725, std = 4.99970184850015\n",
      "x rescaled: mean = 4.598490477292216e-16, std = 1.0000000000000002\n"
     ]
    },
    {
     "data": {
      "image/png": "[encoded data removed]",
      "text/plain": [
       "<Figure size 432x288 with 2 Axes>"
      ]
     },
     "metadata": {
      "needs_background": "light"
     },
     "output_type": "display_data"
    }
   ],
   "source": [
    "# synthetic data\n",
    "x = np.random.normal(2,5,10000000)\n",
    "print(f\"x: mean = {x.mean()}, std = {x.std()}\")\n",
    "\n",
    "scaler = StandardScaler()\n",
    "scaler.fit(x.reshape(-1,1))\n",
    "x_rescaled = scaler.transform(x.reshape(-1,1))\n",
    "\n",
    "print(f\"x rescaled: mean = {x_rescaled.mean()}, std = {x_rescaled.std()}\")\n",
    "\n",
    "plt.subplot(1,2,1)\n",
    "plt.hist(x)\n",
    "plt.subplot(1,2,2)\n",
    "plt.hist(x_rescaled)\n",
    "plt.show()"
   ]
  },
  {
   "cell_type": "markdown",
   "id": "5681a571",
   "metadata": {},
   "source": [
    "We see the results printed above, with a mean of zero and a standard deviation of 1 (with a slight numerical deviation). From the histograms, we can also see that the transformed distribution on the right hand side is centered around zero, i.e. the mean is indeed shifted to zero."
   ]
  },
  {
   "cell_type": "markdown",
   "id": "e0425f4e",
   "metadata": {},
   "source": [
    "It is important to disambiguate the two occurrences of `x.reshape(-1,1)` as argument to the methods:\n",
    "- `fit()`: the scaler 'learns' the parameters from the data, meaning it calculates the mean and std for this data specifically\n",
    "\n",
    "- `transform()`: the scaler applies the parameters calculated in the step before to center and rescale the data in its argument. The parameters are fixed for the `scaler` object, as long as `.fit()` is not called again on different data.\n",
    "\n",
    "This means, that we can apply the same fitted parameters to another dataset using `.transform()` on this new data, as shown below."
   ]
  },
  {
   "cell_type": "code",
   "execution_count": 86,
   "id": "f47c30de",
   "metadata": {
    "pycharm": {
     "name": "#%%\n"
    }
   },
   "outputs": [
    {
     "name": "stdout",
     "output_type": "stream",
     "text": [
      "x_alt: mean = 0.0006455894053165332, std = 1.0003755775086063\n"
     ]
    }
   ],
   "source": [
    "x_alt = np.random.normal(2,5,10000000)\n",
    "x_alt_scaled = scaler.transform(x_alt.reshape(-1,1))\n",
    "\n",
    "print(f\"x_alt: mean = {x_alt_scaled.mean()}, std = {x_alt_scaled.std()}\")"
   ]
  },
  {
   "cell_type": "markdown",
   "id": "20b72c3f",
   "metadata": {},
   "source": [
    "At last, let's check what the fitted parameters are and do the 'transform' calculation ourselves to compare the result.\n",
    "\n",
    "Fitted parameters in sklearn are saved as attributes to the fitting object, in this case `scaler`. We access them by `scaler.mean_` and `scaler.scale_`.\n",
    "The mean of our calculation here reproduces the mean from the cell using the `.transform()` method."
   ]
  },
  {
   "cell_type": "code",
   "execution_count": 87,
   "id": "9de56511",
   "metadata": {
    "pycharm": {
     "name": "#%%\n"
    }
   },
   "outputs": [
    {
     "name": "stdout",
     "output_type": "stream",
     "text": [
      "0.0006455894053165332\n"
     ]
    }
   ],
   "source": [
    "calc_result = x_alt - scaler.mean_\n",
    "calc_result /= scaler.scale_\n",
    "\n",
    "print(calc_result.mean())\n",
    "\n",
    "assert calc_result.mean() == x_alt_scaled.mean()"
   ]
  },
  {
   "cell_type": "markdown",
   "id": "38eacf95",
   "metadata": {},
   "source": [
    "When we want to transform the data without having to keep the original data, we can use the shortcut method of `.fit_transform()`, which combines the two methods used before into one. The results are the same as for using first `.fit()` and then `transform()`."
   ]
  },
  {
   "cell_type": "code",
   "execution_count": 88,
   "id": "82cf3d60",
   "metadata": {
    "pycharm": {
     "name": "#%%\n"
    }
   },
   "outputs": [
    {
     "name": "stdout",
     "output_type": "stream",
     "text": [
      "x_alt: mean = 4.598490477292216e-16, std = 1.0000000000000002\n"
     ]
    }
   ],
   "source": [
    "x_ft = scaler.fit_transform(x.reshape(-1,1))\n",
    "print(f\"x_alt: mean = {x_ft.mean()}, std = {x_ft.std()}\")"
   ]
  },
  {
   "cell_type": "markdown",
   "id": "94c8f747",
   "metadata": {},
   "source": [
    "There are more scaler types available in sklearn which can be applied using the same syntax as shown here."
   ]
  },
  {
   "cell_type": "markdown",
   "id": "b13d926e",
   "metadata": {},
   "source": [
    "## Regression\n",
    "\n",
    "### Linear Regression\n",
    "\n",
    "A popular and widely used tool in data analysis is linear regression where we model the the influence of some independent numerical variables on the value of a dependent numerical variable (the target).\n",
    "\n",
    "We find the ordinary least squares regression readily available in sklearn's module `linear_model` as the `LinearRegression` class. An important note here is that by default, sklearn will fit an intercept. To exclude the intercept, set `fit_intercept=False` when instantiating the `LinearRegression` object.\n",
    "\n",
    "We will use a [health insurance data set](https://www.kaggle.com/mirichoi0218/insurance/version/1#) with several variables, which we will use to try to explain the charges taken for the policy. We do have some categorical variables, for which we would need to create dummy variables to use in the regression directly."
   ]
  },
  {
   "cell_type": "code",
   "execution_count": 89,
   "id": "10621e82",
   "metadata": {
    "pycharm": {
     "name": "#%%\n"
    }
   },
   "outputs": [
    {
     "data": {
      "text/html": [
       "<div>\n",
       "<style scoped>\n",
       "    .dataframe tbody tr th:only-of-type {\n",
       "        vertical-align: middle;\n",
       "    }\n",
       "\n",
       "    .dataframe tbody tr th {\n",
       "        vertical-align: top;\n",
       "    }\n",
       "\n",
       "    .dataframe thead th {\n",
       "        text-align: right;\n",
       "    }\n",
       "</style>\n",
       "<table border=\"1\" class=\"dataframe\">\n",
       "  <thead>\n",
       "    <tr style=\"text-align: right;\">\n",
       "      <th></th>\n",
       "      <th>age</th>\n",
       "      <th>sex</th>\n",
       "      <th>bmi</th>\n",
       "      <th>children</th>\n",
       "      <th>smoker</th>\n",
       "      <th>region</th>\n",
       "      <th>charges</th>\n",
       "    </tr>\n",
       "  </thead>\n",
       "  <tbody>\n",
       "    <tr>\n",
       "      <th>0</th>\n",
       "      <td>19</td>\n",
       "      <td>female</td>\n",
       "      <td>27.90</td>\n",
       "      <td>0</td>\n",
       "      <td>yes</td>\n",
       "      <td>southwest</td>\n",
       "      <td>16884.9240</td>\n",
       "    </tr>\n",
       "    <tr>\n",
       "      <th>1</th>\n",
       "      <td>18</td>\n",
       "      <td>male</td>\n",
       "      <td>33.77</td>\n",
       "      <td>1</td>\n",
       "      <td>no</td>\n",
       "      <td>southeast</td>\n",
       "      <td>1725.5523</td>\n",
       "    </tr>\n",
       "  </tbody>\n",
       "</table>\n",
       "</div>"
      ],
      "text/plain": [
       "   age     sex    bmi  children smoker     region     charges\n",
       "0   19  female  27.90         0    yes  southwest  16884.9240\n",
       "1   18    male  33.77         1     no  southeast   1725.5523"
      ]
     },
     "execution_count": 89,
     "metadata": {},
     "output_type": "execute_result"
    }
   ],
   "source": [
    "import pandas as pd\n",
    "df = pd.read_csv(\"data/insurance.csv\")\n",
    "#df = df.select_dtypes(include=['int64', 'float64'])\n",
    "df.head(2)"
   ]
  },
  {
   "cell_type": "markdown",
   "id": "d0decc21",
   "metadata": {},
   "source": [
    "To perform a simple linear regression, we proceed similar to above:\n",
    "\n",
    "- transform the pandas Series for independent and dependent variable to a numpy array, which we reshape to 2D\n",
    "\n",
    "- instantiate the object (default option `fit_intercept=True` included for illustrative reasons)\n",
    "\n",
    "- call the `.fit()` method with positional arguments: first independent variable X, then y\n",
    "\n",
    "At this point, the regression is done and we can access the parameters for the intercept and the variable's coefficient. Again, the syntax is similar as above for the StandardScaler.\n",
    "\n",
    "In this example, we regress the charges for a policy on the body mass index of the customer."
   ]
  },
  {
   "cell_type": "code",
   "execution_count": 90,
   "id": "ce72e33f",
   "metadata": {
    "pycharm": {
     "name": "#%%\n"
    }
   },
   "outputs": [
    {
     "name": "stdout",
     "output_type": "stream",
     "text": [
      "intercept: [1192.93720896], coefficient: [[393.8730308]]\n"
     ]
    }
   ],
   "source": [
    "from sklearn.linear_model import LinearRegression\n",
    "\n",
    "X = np.array(df.bmi).reshape(-1,1)\n",
    "y = np.array(df.charges).reshape(-1,1)\n",
    "\n",
    "linreg = LinearRegression(fit_intercept=True)\n",
    "linreg.fit(X,y)\n",
    "\n",
    "print(f\"intercept: {linreg.intercept_}, coefficient: {linreg.coef_}\")"
   ]
  },
  {
   "cell_type": "markdown",
   "id": "ce038977",
   "metadata": {},
   "source": [
    "What we find is a positive slope, `linreg.coef_` > 0, meaning that a higher bmi results in higher charges. To be precise, if your bmi increases by one unit, you will, on average, be charged 394 units more.\n",
    "\n",
    "We can also see that the estimated parameters are returned as (nested) arrays. To get to the values, we must hence extract them accordingly."
   ]
  },
  {
   "cell_type": "code",
   "execution_count": 91,
   "id": "f3886cbc",
   "metadata": {
    "pycharm": {
     "name": "#%%\n"
    }
   },
   "outputs": [
    {
     "name": "stdout",
     "output_type": "stream",
     "text": [
      "intercept: 1192.9372089611497, coefficient: 393.87303079739524\n"
     ]
    }
   ],
   "source": [
    "print(f\"intercept: {linreg.intercept_[0]}, coefficient: {linreg.coef_[0][0]}\")"
   ]
  },
  {
   "cell_type": "markdown",
   "id": "34659dbc",
   "metadata": {},
   "source": [
    "Now, we can generate the regression line and plot it together with the data to get a visualisation of the regression results.\n",
    "\n",
    "To do so, we simply pass the `X` values to the `.predict()` method and save the result as `y_pred`. We then use matplotlib to create a scatter plot of the data and a line plot of the regression line."
   ]
  },
  {
   "cell_type": "code",
   "execution_count": 92,
   "id": "ef804f82",
   "metadata": {
    "pycharm": {
     "name": "#%%\n"
    }
   },
   "outputs": [
    {
     "data": {
      "image/png": "[encoded data removed]",
      "text/plain": [
       "<Figure size 432x288 with 1 Axes>"
      ]
     },
     "metadata": {
      "needs_background": "light"
     },
     "output_type": "display_data"
    }
   ],
   "source": [
    "y_pred = linreg.predict(X)\n",
    "\n",
    "plt.scatter(X, y)\n",
    "plt.plot(X,y_pred, color='red')\n",
    "plt.show()"
   ]
  },
  {
   "cell_type": "markdown",
   "id": "9d575da6",
   "metadata": {},
   "source": [
    "In the case above, we used the data \"seen\" for prediction. We can easily extrapolate this to unseen data, by simply predicting for a larger value range."
   ]
  },
  {
   "cell_type": "code",
   "execution_count": 93,
   "id": "fd705c03",
   "metadata": {
    "pycharm": {
     "name": "#%%\n"
    }
   },
   "outputs": [
    {
     "data": {
      "image/png": "[encoded data removed]",
      "text/plain": [
       "<Figure size 432x288 with 1 Axes>"
      ]
     },
     "metadata": {
      "needs_background": "light"
     },
     "output_type": "display_data"
    }
   ],
   "source": [
    "x_plot = np.linspace(0,80).reshape(-1,1)\n",
    "y_extrapol = linreg.predict(x_plot)\n",
    "\n",
    "plt.scatter(X, y)\n",
    "plt.plot(x_plot,y_extrapol, color='red')\n",
    "plt.show()"
   ]
  },
  {
   "cell_type": "markdown",
   "id": "b1590a71",
   "metadata": {},
   "source": [
    "While we can clearly identify the trend of higher charges for older customers we can also see what appears to be three different groups. We will try to go into a little more detail about this later.\n",
    "\n",
    "To evaluate, how well our model explains the data, we can calculate different measures.\n",
    "A quite common one is the coefficient of determination:\n",
    "\n",
    "$$R^2 = 1 - \\frac{\\sum_i(y_i - \\hat{y_i})^2}{\\sum_i(y_i - \\bar{y})^2}$$\n",
    "\n",
    "With the predicted value $\\hat{y_i}$ and the mean $\\bar{y}$.\n",
    "\n",
    "Thanks to sklearn, we do not have to calculate it from the results ourselves but find it in `sklearn.metrics`. To the `r2_score()` function, we pass as arguments the true y data and the prediction."
   ]
  },
  {
   "cell_type": "code",
   "execution_count": 94,
   "id": "be1f5767",
   "metadata": {
    "pycharm": {
     "name": "#%%\n"
    }
   },
   "outputs": [
    {
     "name": "stdout",
     "output_type": "stream",
     "text": [
      "0.03933913991786264\n"
     ]
    }
   ],
   "source": [
    "from sklearn.metrics import r2_score\n",
    "\n",
    "r2_slr = r2_score(y, y_pred)\n",
    "print(r2_slr)"
   ]
  },
  {
   "cell_type": "markdown",
   "id": "ab165a8a",
   "metadata": {},
   "source": [
    "The result of about 4% is hardly satisfying and neither is the fit in the plot we saw above. From what we see in the graphic, the data may consist of different groups, one at the bottom and one stretching out on top. We will try to identify if we can identify them by variables in the data using seaborn's `hue` option.\n",
    "\n",
    "As a first guess, we can look at 'smoker', since smokers can be expected to be charged higher."
   ]
  },
  {
   "cell_type": "code",
   "execution_count": 95,
   "id": "fd8320fd",
   "metadata": {
    "pycharm": {
     "name": "#%%\n"
    }
   },
   "outputs": [
    {
     "data": {
      "image/png": "[encoded data removed]",
      "text/plain": [
       "<Figure size 432x288 with 1 Axes>"
      ]
     },
     "metadata": {
      "needs_background": "light"
     },
     "output_type": "display_data"
    }
   ],
   "source": [
    "import seaborn as sns\n",
    "\n",
    "sns.scatterplot(x=df.bmi, y=df.charges, hue=df.smoker)\n",
    "plt.show()"
   ]
  },
  {
   "cell_type": "markdown",
   "id": "fd913438",
   "metadata": {},
   "source": [
    "In fact, we see a rather clear distinction between smokers and non-smokers indicating that you will be charged higher in general when you smoke. It also appears that for smokers, the increase in charges is steeper for an increasing bmi than it is for non-smokers\n",
    "\n",
    "We now split the data accordingly and run a regression for each group to see if we can verify these assumptions."
   ]
  },
  {
   "cell_type": "code",
   "execution_count": 96,
   "id": "fa00e9cb",
   "metadata": {
    "pycharm": {
     "name": "#%%\n"
    }
   },
   "outputs": [
    {
     "name": "stdout",
     "output_type": "stream",
     "text": [
      "smoker: \n",
      "intercept: [-13186.57632276], coefficient: [[1473.1062547]]\n",
      "non-smoker: \n",
      "intercept: [5879.42408187], coefficient: [[83.35055766]]\n"
     ]
    }
   ],
   "source": [
    "X_smoker = np.array(df[df.smoker =='yes']['bmi']).reshape(-1,1)\n",
    "y_smoker = np.array(df[df.smoker =='yes']['charges']).reshape(-1,1)\n",
    "\n",
    "X_non_smoker = np.array(df[df.smoker =='no']['bmi']).reshape(-1,1)\n",
    "y_non_smoker = np.array(df[df.smoker =='no']['charges']).reshape(-1,1)\n",
    "\n",
    "linreg_smoker = LinearRegression(fit_intercept=True)\n",
    "linreg_smoker.fit(X_smoker,y_smoker)\n",
    "\n",
    "linreg_non_smoker = LinearRegression(fit_intercept=True)\n",
    "linreg_non_smoker.fit(X_non_smoker,y_non_smoker)\n",
    "\n",
    "print(f\"smoker: \\nintercept: {linreg_smoker.intercept_}, coefficient: {linreg_smoker.coef_}\")\n",
    "print(f\"non-smoker: \\nintercept: {linreg_non_smoker.intercept_}, coefficient: {linreg_non_smoker.coef_}\")"
   ]
  },
  {
   "cell_type": "markdown",
   "id": "de3bc4ae",
   "metadata": {},
   "source": [
    "We see that the coefficient for the smokers is indeed much higher than for non-smokers. Regarding the intercept, we need to be aware, that it gives the value at bmi=0, which we should not consider relevant in reality.\n",
    "\n",
    "Let's also have a look at the plots."
   ]
  },
  {
   "cell_type": "code",
   "execution_count": 97,
   "id": "1638dd8a",
   "metadata": {
    "pycharm": {
     "name": "#%%\n"
    }
   },
   "outputs": [
    {
     "data": {
      "image/png": "[encoded data removed]",
      "text/plain": [
       "<Figure size 432x288 with 1 Axes>"
      ]
     },
     "metadata": {
      "needs_background": "light"
     },
     "output_type": "display_data"
    }
   ],
   "source": [
    "y_pred_sm = linreg_smoker.predict(X_smoker)\n",
    "y_pred_non = linreg_non_smoker.predict(X_non_smoker)\n",
    "\n",
    "plt.scatter(X_smoker, y_smoker,)\n",
    "plt.plot(X_smoker,y_pred_sm, color='red')\n",
    "plt.scatter(X_non_smoker, y_non_smoker, color='green')\n",
    "plt.plot(X_non_smoker,y_pred_non, color='orange')\n",
    "plt.show()"
   ]
  },
  {
   "cell_type": "markdown",
   "id": "da45da05",
   "metadata": {},
   "source": [
    "Finally, the $R^2$"
   ]
  },
  {
   "cell_type": "code",
   "execution_count": 98,
   "id": "755c814b",
   "metadata": {
    "pycharm": {
     "name": "#%%\n"
    }
   },
   "outputs": [
    {
     "name": "stdout",
     "output_type": "stream",
     "text": [
      "smokers: 0.6504109694921547, \n",
      "non-smokers: 0.007062140580960441\n"
     ]
    }
   ],
   "source": [
    "r2_slr_sm = r2_score(y_smoker, y_pred_sm)\n",
    "r2_slr_non = r2_score(y_non_smoker, y_pred_non)\n",
    "print(f\"smokers: {r2_slr_sm}, \\nnon-smokers: {r2_slr_non}\")"
   ]
  },
  {
   "cell_type": "markdown",
   "id": "967c9581",
   "metadata": {},
   "source": [
    "### Digression: statsmodels\n",
    "\n",
    "At this point, we shortly look at an important point when it comes to regression: significance. We skipped this above, because sklearn has its shortcomings when it comes to this kind of 'classical statistics'. The calculation of p-values for example is not included and must be implemented by oneself.\n",
    "\n",
    "For such purposes, we can switch to the [statsmodels package](https://www.statsmodels.org/stable/index.html) which may be a better choice to do all types of regression modelling as it comes with a broad output of test statistics and performance metrics.\n",
    "\n",
    "Below, an example is given for the regression from above with the just slightly different statsmodels syntax. We see that using the `.summary()` method automatically outputs a table of information about the model. We can now, for example, look at the significance of the coefficients."
   ]
  },
  {
   "cell_type": "code",
   "execution_count": 99,
   "id": "7c1cfab2",
   "metadata": {
    "pycharm": {
     "name": "#%%\n"
    }
   },
   "outputs": [
    {
     "name": "stdout",
     "output_type": "stream",
     "text": [
      "                            OLS Regression Results                            \n",
      "==============================================================================\n",
      "Dep. Variable:                      y   R-squared:                       0.650\n",
      "Model:                            OLS   Adj. R-squared:                  0.649\n",
      "Method:                 Least Squares   F-statistic:                     506.1\n",
      "Date:                Thu, 14 Oct 2021   Prob (F-statistic):           5.02e-64\n",
      "Time:                        14:23:40   Log-Likelihood:                -2807.2\n",
      "No. Observations:                 274   AIC:                             5618.\n",
      "Df Residuals:                     272   BIC:                             5626.\n",
      "Df Model:                           1                                         \n",
      "Covariance Type:            nonrobust                                         \n",
      "==============================================================================\n",
      "                 coef    std err          t      P>|t|      [0.025      0.975]\n",
      "------------------------------------------------------------------------------\n",
      "const      -1.319e+04   2052.885     -6.423      0.000   -1.72e+04   -9145.013\n",
      "x1          1473.1063     65.484     22.496      0.000    1344.187    1602.026\n",
      "==============================================================================\n",
      "Omnibus:                       24.771   Durbin-Watson:                   1.878\n",
      "Prob(Omnibus):                  0.000   Jarque-Bera (JB):               38.639\n",
      "Skew:                           0.568   Prob(JB):                     4.07e-09\n",
      "Kurtosis:                       4.447   Cond. No.                         156.\n",
      "==============================================================================\n",
      "\n",
      "Notes:\n",
      "[1] Standard Errors assume that the covariance matrix of the errors is correctly specified.\n"
     ]
    }
   ],
   "source": [
    "import statsmodels.api as sm\n",
    "\n",
    "X_smoker = sm.add_constant(X_smoker)\n",
    "X_non_smoker = sm.add_constant(X_non_smoker)\n",
    "\n",
    "stats_smoker = sm.OLS(y_smoker, X_smoker)\n",
    "res_smoker = stats_smoker.fit()\n",
    "print(res_smoker.summary())"
   ]
  },
  {
   "cell_type": "markdown",
   "id": "b641e4a8",
   "metadata": {},
   "source": [
    "We can access the quantities from the table specifically, using the names listed when running `dir(res_smoker)`."
   ]
  },
  {
   "cell_type": "code",
   "execution_count": 100,
   "id": "8e13fef9",
   "metadata": {
    "pycharm": {
     "name": "#%%\n"
    }
   },
   "outputs": [
    {
     "name": "stdout",
     "output_type": "stream",
     "text": [
      "[0.    0.006]\n"
     ]
    }
   ],
   "source": [
    "stats_non_smoker = sm.OLS(y_non_smoker, X_non_smoker)\n",
    "res_non_smoker = stats_non_smoker.fit()\n",
    "print(np.round(res_non_smoker.pvalues,3))"
   ]
  },
  {
   "cell_type": "markdown",
   "id": "7a415cc8",
   "metadata": {},
   "source": [
    "## Supervised learning: Random Forests"
   ]
  },
  {
   "cell_type": "markdown",
   "id": "32eafbca",
   "metadata": {},
   "source": [
    "The broad field of machine learning can be subdivided into supervised learning, unsupervised learning and reinforcement learning. For the first two, sklearn offers a variety of algorithms as plug and play functions. We will look at one example of supervised learning while introducing some basic concepts.\n",
    "\n",
    "We will train a classifier, i.e. a model that will predict a class for each observation. As we saw above, smokers and non smokers are separated quite well in the data. We would thus expect a model to learn to distinguish between those two classes.\n",
    "\n",
    "We will use a [Random Forest](https://link.springer.com/content/pdf/10.1023/A:1010933404324.pdf) model which basically consists of a collection of randomized, decorrelated decision trees. It is a powerful algorithm for classification and can be used out of the box in sklearn.\n",
    "\n",
    "In the following, we\n",
    "- import the `RandomForestClassifier` for which we can use the usual sklearn `.fit()` and `.predict()` syntax\n",
    "\n",
    "- import the `train_test_split()` function to create two separate sub-datasets from the original. This is a usual procedure in machine learning to check whether the model can generalize its prediction to new data. It randomly divides our X and y data into two parts each:\n",
    "    - predictor and target variables (of the same size) for training, i.e. fitting the model\n",
    "    - predictor and target variables (of the same size) for testing, i.e. evaluating the performance. These observations are not used in the training/fitting process!\n",
    "\n",
    "  We set the ratio `test_size` to 0.4, so that 40% of the observation are reserved for testing and thus have not been seen by the algorithm before.\n",
    "\n",
    "- import `roc_auc_score`, a [metric which can be used to determine the performance of a classifier](https://scikit-learn.org/stable/modules/generated/sklearn.metrics.roc_auc_score.html)\n",
    "\n",
    "After creating the test and training datasets (using unpacking), we instantiate the random forest object and set `max_depth`, a hyper parameter, i.e. a model parameter which is not optimized by the algorithm but set by us, to four.\n",
    "\n",
    "After the usual fit and predict calls, we print the roc-auc score using the test targets and the prediction for the test data."
   ]
  },
  {
   "cell_type": "code",
   "execution_count": 101,
   "id": "81b8cef3",
   "metadata": {
    "pycharm": {
     "name": "#%%\n"
    }
   },
   "outputs": [
    {
     "name": "stdout",
     "output_type": "stream",
     "text": [
      "0.9755105572862581\n"
     ]
    }
   ],
   "source": [
    "from sklearn.ensemble import RandomForestClassifier\n",
    "from sklearn.model_selection import train_test_split\n",
    "from sklearn.metrics import roc_auc_score\n",
    "\n",
    "X_rf = df[['age', 'bmi', 'children', 'charges']]\n",
    "y_rf = df.smoker == 'yes'\n",
    "\n",
    "X_train, X_test, y_train, y_test = train_test_split(X_rf, y_rf, test_size=0.4, random_state= 1)\n",
    "\n",
    "rf = RandomForestClassifier(max_depth=4, random_state=44)\n",
    "rf.fit(X_train,y_train)\n",
    "\n",
    "y_pred = rf.predict(X_test)\n",
    "print(roc_auc_score(y_test,y_pred))"
   ]
  },
  {
   "cell_type": "markdown",
   "id": "dbda3f66",
   "metadata": {},
   "source": [
    "A result of about 97% shows that the model can indeed distinguish between the two classes very well, using the given predictor variables."
   ]
  },
  {
   "cell_type": "markdown",
   "id": "41edaba3",
   "metadata": {},
   "source": [
    "While decision trees are very well interpretable, by drawing, random forests lose this advantage due to the high number of trees used. We can however access the single trees, using the `.estimators_` attribute after fitting the model. It is a list of the length of trees used, by default as used here 100:"
   ]
  },
  {
   "cell_type": "code",
   "execution_count": 102,
   "id": "da56d066",
   "metadata": {
    "pycharm": {
     "name": "#%%\n"
    }
   },
   "outputs": [
    {
     "name": "stdout",
     "output_type": "stream",
     "text": [
      "100\n"
     ]
    }
   ],
   "source": [
    "print(len(rf.estimators_))"
   ]
  },
  {
   "cell_type": "markdown",
   "id": "36e55bee",
   "metadata": {},
   "source": [
    "Now, as a last demonstration of sklearn user-friendliness, we use `plot_tree` to plot the first tree built by the random forest. It will create a tree diagram, showing information about the splits made at each node. Note, that our choice of `max_depth` is reflected by the four child generations of the tree."
   ]
  },
  {
   "cell_type": "code",
   "execution_count": 103,
   "id": "48bd90e6",
   "metadata": {
    "pycharm": {
     "name": "#%%\n"
    }
   },
   "outputs": [
    {
     "data": {
      "image/png": "[encoded data removed]",
      "text/plain": [
       "<Figure size 1200x720 with 1 Axes>"
      ]
     },
     "metadata": {
      "needs_background": "light"
     },
     "output_type": "display_data"
    }
   ],
   "source": [
    "from sklearn.tree import plot_tree\n",
    "\n",
    "fig, axes = plt.subplots(1, 1, figsize=(10,6), dpi=120)\n",
    "plot_tree(rf.estimators_[0],\n",
    "          feature_names = X_rf.columns,\n",
    "          class_names=['smoker', 'non_smoker'],\n",
    "          filled = True,\n",
    "          label='root')\n",
    "plt.show() "
   ]
  },
  {
   "cell_type": "markdown",
   "id": "762c8a74",
   "metadata": {},
   "source": [
    "# TensorFlow: Keras"
   ]
  },
  {
   "cell_type": "markdown",
   "id": "17be91a3",
   "metadata": {},
   "source": [
    "[TensorFlow](https://www.tensorflow.org) is a machine learning and artificial intelligence platform. While including broad functionality, we will focus here on artificial neural networks (ANN). To build such networks, we will leverage the high level API [Keras](https://keras.io/) and show here how to use 'the sequential model'. This is allows to create the simplest form of neural networks, a fully connected feed forward structure. This unhandy term basically refers to a stack of so called layers of neurons, where one neuron of one layer is 'connected' to each neuron of the subsequent layer (as we won't go into theoretic details: [original paper](https://www.ling.upenn.edu/courses/cogs501/Rosenblatt1958.pdf), [Wikipedia](https://en.wikipedia.org/wiki/Feedforward_neural_network), [The Elements of Statistical Learning, chapter 11](https://web.stanford.edu/~hastie/Papers/ESLII.pdf)).\n",
    "\n",
    "TensorFlow works with numpy arrays and pandas dataframes. We will now try to do a regression on some simulated data, using a neural network.\n",
    "\n",
    "The package `tensorflow` must be installed.\n",
    "To build neural networks, we start by importing the necessary modules. Note that Keras is delivered as a submodule to TensorFlow, which we can access using the dot chaining, and that we only import `layers`."
   ]
  },
  {
   "cell_type": "markdown",
   "id": "535569a9",
   "metadata": {},
   "source": [
    "## A simple sequential model"
   ]
  },
  {
   "cell_type": "code",
   "execution_count": 104,
   "id": "17a03917",
   "metadata": {
    "pycharm": {
     "name": "#%%\n"
    }
   },
   "outputs": [],
   "source": [
    "from tensorflow import keras, random\n",
    "import numpy as np\n",
    "import matplotlib.pyplot as plt\n",
    "\n",
    "random.set_seed(102)"
   ]
  },
  {
   "cell_type": "markdown",
   "id": "660617ec",
   "metadata": {},
   "source": [
    "We will write a function to simulate some data using numpy. We include a `noise` argument to be able to view the true function, which is obfuscated by the added noise."
   ]
  },
  {
   "cell_type": "code",
   "execution_count": 105,
   "id": "037c4d2b",
   "metadata": {
    "pycharm": {
     "name": "#%%\n"
    }
   },
   "outputs": [
    {
     "data": {
      "image/png": "[encoded data removed]",
      "text/plain": [
       "<Figure size 432x288 with 1 Axes>"
      ]
     },
     "metadata": {
      "needs_background": "light"
     },
     "output_type": "display_data"
    }
   ],
   "source": [
    "x = np.sort(np.random.uniform(-5,5,400))\n",
    "\n",
    "def make_data(a, b, c, _x=x, noise=True):\n",
    "    if noise:\n",
    "        return a*_x + b*(_x-4)**2 + c*_x**3 + np.random.normal(0,40,len(_x))\n",
    "    if not noise:\n",
    "        return a*_x + b*(_x-4)**2 + c*_x**3\n",
    "\n",
    "y = make_data(-.5,2,1.5)\n",
    "plt.scatter(x,y)\n",
    "plt.plot(x,make_data(-.5,2,1.5, noise=False), c='red', lw=3, alpha=.5)\n",
    "plt.show()"
   ]
  },
  {
   "cell_type": "markdown",
   "id": "a7ef920e",
   "metadata": {},
   "source": [
    "We define a very simple fully connected ANN with one hidden layer and only zwo neurons inside that layer. Since we aim to perform regression, we use one neuron in the output layer.\n",
    "To do so in the code, we call `keras.Sequential` and add as argument all layers as a list. Elements of that list are `keras.layers.Dense` objects, which represent fully connected layers. Note that the order by which you define this list, corresponds to the stacking of the layers.\n",
    "As arguments of `Dense`, we specify the number of neurons and the desired activation function. We may also give names to the layers, which might be ore useful for more complex net architectures.\n",
    "\n",
    "Be aware that we do define an input shape here. Instead, we could let Keras do so automatically using the dimension of our input data. However, the specification of the input shape enables us to view the model summary without having to run anything else beforehand."
   ]
  },
  {
   "cell_type": "code",
   "execution_count": 106,
   "id": "45303ca2",
   "metadata": {
    "pycharm": {
     "name": "#%%\n"
    },
    "tags": [
     "hide-output"
    ]
   },
   "outputs": [
    {
     "name": "stderr",
     "output_type": "stream",
     "text": [
      "2021-10-14 14:23:44.796698: I tensorflow/core/platform/cpu_feature_guard.cc:142] This TensorFlow binary is optimized with oneAPI Deep Neural Network Library (oneDNN) to use the following CPU instructions in performance-critical operations:  AVX2 FMA\n",
      "To enable them in other operations, rebuild TensorFlow with the appropriate compiler flags.\n"
     ]
    }
   ],
   "source": [
    "model = keras.Sequential([\n",
    "        keras.layers.Dense(2, activation=\"relu\", input_shape=(1,), name=\"hidden_layer\"),\n",
    "        keras.layers.Dense(1, name=\"output_layer\"),\n",
    "], name='my_first_model')"
   ]
  },
  {
   "cell_type": "markdown",
   "id": "ba125dbd",
   "metadata": {},
   "source": [
    "A summary of the defined model can be printed calling the method of the same name."
   ]
  },
  {
   "cell_type": "code",
   "execution_count": 107,
   "id": "094373db",
   "metadata": {
    "pycharm": {
     "name": "#%%\n"
    }
   },
   "outputs": [
    {
     "name": "stdout",
     "output_type": "stream",
     "text": [
      "Model: \"my_first_model\"\n",
      "_________________________________________________________________\n",
      "Layer (type)                 Output Shape              Param #   \n",
      "=================================================================\n",
      "hidden_layer (Dense)         (None, 2)                 4         \n",
      "_________________________________________________________________\n",
      "output_layer (Dense)         (None, 1)                 3         \n",
      "=================================================================\n",
      "Total params: 7\n",
      "Trainable params: 7\n",
      "Non-trainable params: 0\n",
      "_________________________________________________________________\n"
     ]
    }
   ],
   "source": [
    "model.summary()"
   ]
  },
  {
   "cell_type": "markdown",
   "id": "f08e8a58",
   "metadata": {},
   "source": [
    "Having defined the model, we must compile, i.e. set the final configuration. We call the `.compile()` method on our model and specify the optimization algorithm (and the learning rate) and the loss function, by which the model should be trained. For regression, we use the mean squared error.\n",
    "\n",
    "The learning rate is a hyper parameter and is to be chosen to suit the problem at hand. It's possible to find an optimal rate by random or grid search, which we will not further discuss here."
   ]
  },
  {
   "cell_type": "code",
   "execution_count": 108,
   "id": "fd12e48f",
   "metadata": {
    "pycharm": {
     "name": "#%%\n"
    }
   },
   "outputs": [],
   "source": [
    "model.compile(optimizer=keras.optimizers.RMSprop(learning_rate=5e-2), loss=keras.losses.MeanSquaredError(), )"
   ]
  },
  {
   "cell_type": "markdown",
   "id": "933622fc",
   "metadata": {},
   "source": [
    "We can now train the model, i.e. set the weights accordingly as to minimize the calculated error from deviations between model predictions and training data.\n",
    "\n",
    "We do so by calling the `.fit()` method to which we supply the data and the number of episodes (iterations to tune the weights). Furthermore, we can set the `batch_size`, which defines the number of samples for which the weight updates are accumulated.\n",
    "\n",
    "We can save all information returned from the fitting process in a `History` object, here called `history`. Through this object, we can access this information, once the fitting is done."
   ]
  },
  {
   "cell_type": "code",
   "execution_count": 109,
   "id": "4245cf2b",
   "metadata": {
    "pycharm": {
     "name": "#%%\n"
    },
    "tags": [
     "hide-output"
    ]
   },
   "outputs": [
    {
     "name": "stderr",
     "output_type": "stream",
     "text": [
      "2021-10-14 14:23:44.865130: I tensorflow/compiler/mlir/mlir_graph_optimization_pass.cc:185] None of the MLIR Optimization Passes are enabled (registered 2)\n"
     ]
    },
    {
     "name": "stdout",
     "output_type": "stream",
     "text": [
      "Epoch 1/150\n",
      "14/14 [==============================] - 0s 660us/step - loss: 5468.5420\n",
      "Epoch 2/150\n",
      "14/14 [==============================] - 0s 617us/step - loss: 4818.6064\n",
      "Epoch 3/150\n",
      "14/14 [==============================] - 0s 622us/step - loss: 4152.3989\n",
      "Epoch 4/150\n",
      "14/14 [==============================] - 0s 620us/step - loss: 3576.2791\n",
      "Epoch 5/150\n",
      "14/14 [==============================] - 0s 597us/step - loss: 3342.3325\n",
      "Epoch 6/150\n",
      "14/14 [==============================] - 0s 638us/step - loss: 3300.8066\n",
      "Epoch 7/150\n",
      "14/14 [==============================] - 0s 602us/step - loss: 3276.8618\n",
      "Epoch 8/150\n",
      "14/14 [==============================] - 0s 583us/step - loss: 3253.2932\n",
      "Epoch 9/150\n",
      "14/14 [==============================] - 0s 548us/step - loss: 3218.2959\n",
      "Epoch 10/150\n",
      "14/14 [==============================] - 0s 561us/step - loss: 3196.7637\n",
      "Epoch 11/150\n",
      "14/14 [==============================] - 0s 546us/step - loss: 3172.2888\n",
      "Epoch 12/150\n",
      "14/14 [==============================] - 0s 551us/step - loss: 3141.5122\n",
      "Epoch 13/150\n",
      "14/14 [==============================] - 0s 542us/step - loss: 3115.2080\n",
      "Epoch 14/150\n",
      "14/14 [==============================] - 0s 544us/step - loss: 3080.9353\n",
      "Epoch 15/150\n",
      "14/14 [==============================] - 0s 534us/step - loss: 3059.2019\n",
      "Epoch 16/150\n",
      "14/14 [==============================] - 0s 552us/step - loss: 3015.9326\n",
      "Epoch 17/150\n",
      "14/14 [==============================] - 0s 540us/step - loss: 2983.2944\n",
      "Epoch 18/150\n",
      "14/14 [==============================] - 0s 530us/step - loss: 2936.5012\n",
      "Epoch 19/150\n",
      "14/14 [==============================] - 0s 536us/step - loss: 2883.9148\n",
      "Epoch 20/150\n",
      "14/14 [==============================] - 0s 515us/step - loss: 2809.8484\n",
      "Epoch 21/150\n",
      "14/14 [==============================] - 0s 534us/step - loss: 2653.7402\n",
      "Epoch 22/150\n",
      "14/14 [==============================] - 0s 555us/step - loss: 2529.9609\n",
      "Epoch 23/150\n",
      "14/14 [==============================] - 0s 586us/step - loss: 2483.2185\n",
      "Epoch 24/150\n",
      "14/14 [==============================] - 0s 572us/step - loss: 2443.3977\n",
      "Epoch 25/150\n",
      "14/14 [==============================] - 0s 533us/step - loss: 2429.9148\n",
      "Epoch 26/150\n",
      "14/14 [==============================] - 0s 542us/step - loss: 2404.2205\n",
      "Epoch 27/150\n",
      "14/14 [==============================] - 0s 612us/step - loss: 2386.1208\n",
      "Epoch 28/150\n",
      "14/14 [==============================] - 0s 552us/step - loss: 2370.1714\n",
      "Epoch 29/150\n",
      "14/14 [==============================] - 0s 545us/step - loss: 2356.8000\n",
      "Epoch 30/150\n",
      "14/14 [==============================] - 0s 579us/step - loss: 2343.0491\n",
      "Epoch 31/150\n",
      "14/14 [==============================] - 0s 545us/step - loss: 2322.3608\n",
      "Epoch 32/150\n",
      "14/14 [==============================] - 0s 536us/step - loss: 2309.6355\n",
      "Epoch 33/150\n",
      "14/14 [==============================] - 0s 561us/step - loss: 2309.9546\n",
      "Epoch 34/150\n",
      "14/14 [==============================] - 0s 528us/step - loss: 2282.9338\n",
      "Epoch 35/150\n",
      "14/14 [==============================] - 0s 545us/step - loss: 2270.0815\n",
      "Epoch 36/150\n",
      "14/14 [==============================] - 0s 558us/step - loss: 2267.7637\n",
      "Epoch 37/150\n",
      "14/14 [==============================] - 0s 571us/step - loss: 2252.2415\n",
      "Epoch 38/150\n",
      "14/14 [==============================] - 0s 539us/step - loss: 2243.2034\n",
      "Epoch 39/150\n",
      "14/14 [==============================] - 0s 528us/step - loss: 2234.1187\n",
      "Epoch 40/150\n",
      "14/14 [==============================] - 0s 570us/step - loss: 2224.1599\n",
      "Epoch 41/150\n",
      "14/14 [==============================] - 0s 657us/step - loss: 2216.2754\n",
      "Epoch 42/150\n",
      "14/14 [==============================] - 0s 593us/step - loss: 2204.7720\n",
      "Epoch 43/150\n",
      "14/14 [==============================] - 0s 597us/step - loss: 2199.0669\n",
      "Epoch 44/150\n",
      "14/14 [==============================] - 0s 586us/step - loss: 2178.7212\n",
      "Epoch 45/150\n",
      "14/14 [==============================] - 0s 611us/step - loss: 2177.3154\n",
      "Epoch 46/150\n",
      "14/14 [==============================] - 0s 619us/step - loss: 2173.1973\n",
      "Epoch 47/150\n",
      "14/14 [==============================] - 0s 603us/step - loss: 2157.2507\n",
      "Epoch 48/150\n",
      "14/14 [==============================] - 0s 631us/step - loss: 2149.4006\n",
      "Epoch 49/150\n",
      "14/14 [==============================] - 0s 532us/step - loss: 2149.5562\n",
      "Epoch 50/150\n",
      "14/14 [==============================] - 0s 542us/step - loss: 2134.3926\n",
      "Epoch 51/150\n",
      "14/14 [==============================] - 0s 545us/step - loss: 2146.3770\n",
      "Epoch 52/150\n",
      "14/14 [==============================] - 0s 518us/step - loss: 2128.1377\n",
      "Epoch 53/150\n",
      "14/14 [==============================] - 0s 537us/step - loss: 2122.3491\n",
      "Epoch 54/150\n",
      "14/14 [==============================] - 0s 537us/step - loss: 2119.8499\n",
      "Epoch 55/150\n",
      "14/14 [==============================] - 0s 539us/step - loss: 2111.7310\n",
      "Epoch 56/150\n",
      "14/14 [==============================] - 0s 526us/step - loss: 2119.2251\n",
      "Epoch 57/150\n",
      "14/14 [==============================] - 0s 544us/step - loss: 2099.6785\n",
      "Epoch 58/150\n",
      "14/14 [==============================] - 0s 524us/step - loss: 2107.6699\n",
      "Epoch 59/150\n",
      "14/14 [==============================] - 0s 512us/step - loss: 2096.4333\n",
      "Epoch 60/150\n",
      "14/14 [==============================] - 0s 542us/step - loss: 2096.4221\n",
      "Epoch 61/150\n",
      "14/14 [==============================] - 0s 572us/step - loss: 2096.4304\n",
      "Epoch 62/150\n",
      "14/14 [==============================] - 0s 508us/step - loss: 2089.4436\n",
      "Epoch 63/150\n",
      "14/14 [==============================] - 0s 533us/step - loss: 2085.0916\n",
      "Epoch 64/150\n",
      "14/14 [==============================] - 0s 540us/step - loss: 2077.8127\n",
      "Epoch 65/150\n",
      "14/14 [==============================] - 0s 496us/step - loss: 2074.8574\n",
      "Epoch 66/150\n",
      "14/14 [==============================] - 0s 523us/step - loss: 2074.9783\n",
      "Epoch 67/150\n",
      "14/14 [==============================] - 0s 533us/step - loss: 2072.5525\n",
      "Epoch 68/150\n",
      "14/14 [==============================] - 0s 530us/step - loss: 2081.4568\n",
      "Epoch 69/150\n",
      "14/14 [==============================] - 0s 548us/step - loss: 2070.9973\n",
      "Epoch 70/150\n",
      "14/14 [==============================] - 0s 544us/step - loss: 2071.5718\n",
      "Epoch 71/150\n",
      "14/14 [==============================] - 0s 516us/step - loss: 2072.7292\n",
      "Epoch 72/150\n",
      "14/14 [==============================] - 0s 506us/step - loss: 2069.3403\n",
      "Epoch 73/150\n",
      "14/14 [==============================] - 0s 510us/step - loss: 2068.4404\n",
      "Epoch 74/150\n",
      "14/14 [==============================] - 0s 533us/step - loss: 2070.9092\n",
      "Epoch 75/150\n",
      "14/14 [==============================] - 0s 530us/step - loss: 2068.4263\n",
      "Epoch 76/150\n",
      "14/14 [==============================] - 0s 528us/step - loss: 2062.5952\n",
      "Epoch 77/150\n",
      "14/14 [==============================] - 0s 532us/step - loss: 2066.0762\n",
      "Epoch 78/150\n",
      "14/14 [==============================] - 0s 525us/step - loss: 2071.8167\n",
      "Epoch 79/150\n",
      "14/14 [==============================] - 0s 538us/step - loss: 2069.3877\n",
      "Epoch 80/150\n",
      "14/14 [==============================] - 0s 536us/step - loss: 2058.1179\n",
      "Epoch 81/150\n",
      "14/14 [==============================] - 0s 517us/step - loss: 2070.4299\n",
      "Epoch 82/150\n",
      "14/14 [==============================] - 0s 532us/step - loss: 2059.8999\n",
      "Epoch 83/150\n",
      "14/14 [==============================] - 0s 549us/step - loss: 2068.7805\n",
      "Epoch 84/150\n",
      "14/14 [==============================] - 0s 572us/step - loss: 2061.0627\n",
      "Epoch 85/150\n",
      "14/14 [==============================] - 0s 546us/step - loss: 2062.5596\n",
      "Epoch 86/150\n",
      "14/14 [==============================] - 0s 521us/step - loss: 2065.5706\n",
      "Epoch 87/150\n",
      "14/14 [==============================] - 0s 555us/step - loss: 2046.3179\n",
      "Epoch 88/150\n",
      "14/14 [==============================] - 0s 522us/step - loss: 2054.0469\n",
      "Epoch 89/150\n",
      "14/14 [==============================] - 0s 531us/step - loss: 2060.8672\n",
      "Epoch 90/150\n",
      "14/14 [==============================] - 0s 575us/step - loss: 2067.0271\n",
      "Epoch 91/150\n",
      "14/14 [==============================] - 0s 564us/step - loss: 2053.8440\n",
      "Epoch 92/150\n",
      "14/14 [==============================] - 0s 710us/step - loss: 2056.6453\n",
      "Epoch 93/150\n",
      "14/14 [==============================] - 0s 582us/step - loss: 2058.9136\n",
      "Epoch 94/150\n",
      "14/14 [==============================] - 0s 596us/step - loss: 2070.4001\n",
      "Epoch 95/150\n",
      "14/14 [==============================] - 0s 545us/step - loss: 2063.5293\n",
      "Epoch 96/150\n",
      "14/14 [==============================] - 0s 548us/step - loss: 2060.9707\n",
      "Epoch 97/150\n",
      "14/14 [==============================] - 0s 562us/step - loss: 2061.0830\n",
      "Epoch 98/150\n",
      "14/14 [==============================] - 0s 611us/step - loss: 2055.6350\n",
      "Epoch 99/150\n",
      "14/14 [==============================] - 0s 622us/step - loss: 2054.6521\n",
      "Epoch 100/150\n",
      "14/14 [==============================] - 0s 578us/step - loss: 2065.3252\n",
      "Epoch 101/150\n",
      "14/14 [==============================] - 0s 602us/step - loss: 2050.7881\n",
      "Epoch 102/150\n",
      "14/14 [==============================] - 0s 585us/step - loss: 2062.8274\n",
      "Epoch 103/150\n",
      "14/14 [==============================] - 0s 580us/step - loss: 2062.7192\n",
      "Epoch 104/150\n",
      "14/14 [==============================] - 0s 622us/step - loss: 2053.7900\n",
      "Epoch 105/150\n",
      "14/14 [==============================] - 0s 578us/step - loss: 2048.7263\n",
      "Epoch 106/150\n",
      "14/14 [==============================] - 0s 563us/step - loss: 2058.1479\n",
      "Epoch 107/150\n",
      "14/14 [==============================] - 0s 552us/step - loss: 2066.3296\n",
      "Epoch 108/150\n",
      "14/14 [==============================] - 0s 574us/step - loss: 2051.4851\n",
      "Epoch 109/150\n",
      "14/14 [==============================] - 0s 550us/step - loss: 2051.8411\n",
      "Epoch 110/150\n",
      "14/14 [==============================] - 0s 580us/step - loss: 2055.2827\n",
      "Epoch 111/150\n",
      "14/14 [==============================] - 0s 544us/step - loss: 2066.7407\n",
      "Epoch 112/150\n",
      "14/14 [==============================] - 0s 593us/step - loss: 2051.8464\n",
      "Epoch 113/150\n",
      "14/14 [==============================] - 0s 553us/step - loss: 2069.1509\n",
      "Epoch 114/150\n",
      "14/14 [==============================] - 0s 548us/step - loss: 2045.2532\n",
      "Epoch 115/150\n",
      "14/14 [==============================] - 0s 547us/step - loss: 2056.3826\n",
      "Epoch 116/150\n",
      "14/14 [==============================] - 0s 580us/step - loss: 2055.4312\n",
      "Epoch 117/150\n",
      "14/14 [==============================] - 0s 549us/step - loss: 2062.5015\n",
      "Epoch 118/150\n",
      "14/14 [==============================] - 0s 582us/step - loss: 2054.9099\n",
      "Epoch 119/150\n",
      "14/14 [==============================] - 0s 592us/step - loss: 2056.2671\n",
      "Epoch 120/150\n",
      "14/14 [==============================] - 0s 552us/step - loss: 2047.6821\n",
      "Epoch 121/150\n",
      "14/14 [==============================] - 0s 623us/step - loss: 2056.6228\n",
      "Epoch 122/150\n",
      "14/14 [==============================] - 0s 594us/step - loss: 2060.6941\n",
      "Epoch 123/150\n",
      "14/14 [==============================] - 0s 575us/step - loss: 2055.2991\n",
      "Epoch 124/150\n",
      "14/14 [==============================] - 0s 609us/step - loss: 2057.7983\n",
      "Epoch 125/150\n",
      "14/14 [==============================] - 0s 623us/step - loss: 2061.4084\n",
      "Epoch 126/150\n",
      "14/14 [==============================] - 0s 639us/step - loss: 2056.3052\n",
      "Epoch 127/150\n",
      "14/14 [==============================] - 0s 588us/step - loss: 2048.2759\n",
      "Epoch 128/150\n",
      "14/14 [==============================] - 0s 554us/step - loss: 2065.4993\n",
      "Epoch 129/150\n",
      "14/14 [==============================] - 0s 616us/step - loss: 2059.1716\n",
      "Epoch 130/150\n",
      "14/14 [==============================] - 0s 554us/step - loss: 2056.3831\n",
      "Epoch 131/150\n",
      "14/14 [==============================] - 0s 586us/step - loss: 2056.6282\n",
      "Epoch 132/150\n",
      "14/14 [==============================] - 0s 565us/step - loss: 2042.9524\n",
      "Epoch 133/150\n",
      "14/14 [==============================] - 0s 585us/step - loss: 2053.3525\n",
      "Epoch 134/150\n",
      "14/14 [==============================] - 0s 549us/step - loss: 2052.9875\n",
      "Epoch 135/150\n",
      "14/14 [==============================] - 0s 571us/step - loss: 2058.9026\n",
      "Epoch 136/150\n",
      "14/14 [==============================] - 0s 550us/step - loss: 2058.1104\n",
      "Epoch 137/150\n",
      "14/14 [==============================] - 0s 542us/step - loss: 2056.4412\n",
      "Epoch 138/150\n",
      "14/14 [==============================] - 0s 538us/step - loss: 2057.8096\n",
      "Epoch 139/150\n",
      "14/14 [==============================] - 0s 581us/step - loss: 2053.5635\n",
      "Epoch 140/150\n",
      "14/14 [==============================] - 0s 542us/step - loss: 2047.4530\n",
      "Epoch 141/150\n",
      "14/14 [==============================] - 0s 540us/step - loss: 2054.5671\n",
      "Epoch 142/150\n",
      "14/14 [==============================] - 0s 551us/step - loss: 2053.2029\n",
      "Epoch 143/150\n",
      "14/14 [==============================] - 0s 559us/step - loss: 2060.6479\n",
      "Epoch 144/150\n",
      "14/14 [==============================] - 0s 581us/step - loss: 2057.1731\n",
      "Epoch 145/150\n",
      "14/14 [==============================] - 0s 586us/step - loss: 2056.5208\n",
      "Epoch 146/150\n",
      "14/14 [==============================] - 0s 536us/step - loss: 2051.3816\n",
      "Epoch 147/150\n",
      "14/14 [==============================] - 0s 517us/step - loss: 2051.9373\n",
      "Epoch 148/150\n",
      "14/14 [==============================] - 0s 522us/step - loss: 2060.0049\n",
      "Epoch 149/150\n",
      "14/14 [==============================] - 0s 505us/step - loss: 2050.1531\n",
      "Epoch 150/150\n",
      "14/14 [==============================] - 0s 517us/step - loss: 2052.4868\n"
     ]
    }
   ],
   "source": [
    "history = model.fit(x,y, epochs=150, batch_size=30)"
   ]
  },
  {
   "cell_type": "markdown",
   "id": "9b3900db",
   "metadata": {},
   "source": [
    "We get a printed output for each episode (click the plus symbol to show), showing some information about the step. Below the 'Epochs', we see that a batch size of 30 at a 300 observations results in 10 (300 divided by 30) updates per epoch.\n",
    "\n",
    "Of more interest is the rightmost piece of information, the loss. As the weights are adjusted, the model predictions fit the data progressively better - the loss decreases. At some point, the model in its current configuration reaches an optimal weight setting and the loss will oscillate around some value.\n",
    "\n",
    "Note that by setting `verbose=0`, we can suppress any output.\n",
    "\n",
    "Using `history` we can now plot the loss over time/epochs. To do so, we use \"our\" `history` object and access its `.history` attribute, which is a dict:"
   ]
  },
  {
   "cell_type": "code",
   "execution_count": 110,
   "id": "83a93a11",
   "metadata": {
    "pycharm": {
     "name": "#%%\n"
    }
   },
   "outputs": [
    {
     "name": "stdout",
     "output_type": "stream",
     "text": [
      "<class 'dict'>\n",
      "dict_keys(['loss'])\n"
     ]
    }
   ],
   "source": [
    "print(type(history.history))\n",
    "print(history.history.keys())"
   ]
  },
  {
   "cell_type": "markdown",
   "id": "3610b8fe",
   "metadata": {},
   "source": [
    "Note that more values may be added to this dict. We will see this case for the next model.\n",
    "\n",
    "With matplotlib, we plot the loss over time."
   ]
  },
  {
   "cell_type": "code",
   "execution_count": 111,
   "id": "e13e0db9",
   "metadata": {
    "pycharm": {
     "name": "#%%\n"
    }
   },
   "outputs": [
    {
     "data": {
      "text/plain": [
       "[<matplotlib.lines.Line2D at 0x7f9eb0df5bb0>]"
      ]
     },
     "execution_count": 111,
     "metadata": {},
     "output_type": "execute_result"
    },
    {
     "data": {
      "image/png": "[encoded data removed]",
      "text/plain": [
       "<Figure size 432x288 with 1 Axes>"
      ]
     },
     "metadata": {
      "needs_background": "light"
     },
     "output_type": "display_data"
    }
   ],
   "source": [
    "plt.plot(history.history['loss'])"
   ]
  },
  {
   "cell_type": "markdown",
   "id": "c2f4aa0d",
   "metadata": {},
   "source": [
    "Apparently, the loss dropped very quickly in the beginning and reaches a minimal level after about 75 epochs.\n",
    "\n",
    "Beside the `history` object, we can take a look at the trained weights by calling `model.get_weights()`."
   ]
  },
  {
   "cell_type": "code",
   "execution_count": 112,
   "id": "5715d6f4",
   "metadata": {
    "pycharm": {
     "name": "#%%\n"
    }
   },
   "outputs": [
    {
     "name": "stdout",
     "output_type": "stream",
     "text": [
      "hidden_layer: weights [array([[ 4.1513443 , -0.36628497]], dtype=float32), array([-12.125214,   8.035749], dtype=float32)]\n",
      "output_layer: weights [array([[15.713434 ],\n",
      "       [ 3.2695189]], dtype=float32), array([13.506155], dtype=float32)]\n"
     ]
    }
   ],
   "source": [
    "for layer in model.layers:\n",
    "    print(f\"{layer.name}: weights {layer.get_weights()}\")"
   ]
  },
  {
   "cell_type": "markdown",
   "id": "ef6ba33f",
   "metadata": {},
   "source": [
    "For each layer, we see the number of entries corresponding to 'params' in the model summary above. The first array per layer gives the weights, the second array the bias.\n",
    "\n",
    "Note here, that it is perfectly possible to save the weights of a model, e.g. in a file, and then load this model again later by setting these weights to the model weights. Of course, the model configuration must remain the same in order to use the weights. However, the already implemented `.save('my_path')` method does exactly that. To load the model, use `.model.load('my_path')`.\n",
    "\n",
    "To see the predictions from our model, we use the `.predict()` method, to which we only pass the x values, and store the result in a variable."
   ]
  },
  {
   "cell_type": "code",
   "execution_count": 113,
   "id": "da57b92a",
   "metadata": {
    "pycharm": {
     "name": "#%%\n"
    }
   },
   "outputs": [],
   "source": [
    "y_pred = model.predict(x)"
   ]
  },
  {
   "cell_type": "markdown",
   "id": "04a613bc",
   "metadata": {},
   "source": [
    "Finally, we can get a look on how this simple neural network approximates our data:"
   ]
  },
  {
   "cell_type": "code",
   "execution_count": 114,
   "id": "1cce1e13",
   "metadata": {
    "pycharm": {
     "name": "#%%\n"
    }
   },
   "outputs": [
    {
     "data": {
      "image/png": "[encoded data removed]",
      "text/plain": [
       "<Figure size 432x288 with 1 Axes>"
      ]
     },
     "metadata": {
      "needs_background": "light"
     },
     "output_type": "display_data"
    }
   ],
   "source": [
    "plt.scatter(x, y)\n",
    "plt.plot(x,y_pred.reshape(-1), color='orange', lw=4)\n",
    "plt.show()"
   ]
  },
  {
   "cell_type": "markdown",
   "id": "12817c0c",
   "metadata": {},
   "source": [
    "Interestingly, the ReLU shape of the function can be seen rather clearly."
   ]
  },
  {
   "cell_type": "markdown",
   "id": "fc12fb2d",
   "metadata": {},
   "source": [
    "Now, let's try to do better than that."
   ]
  },
  {
   "cell_type": "markdown",
   "id": "ab314a4d",
   "metadata": {},
   "source": [
    "## A more complex model\n",
    "\n",
    "We will now test if a more flexible, more complex model with more layers and neurons, will approximate the data more accurately\n",
    "\n",
    "First, we define a this new model as seen above."
   ]
  },
  {
   "cell_type": "code",
   "execution_count": 115,
   "id": "4e85a92b",
   "metadata": {
    "pycharm": {
     "name": "#%%\n"
    },
    "tags": [
     "remove-output"
    ]
   },
   "outputs": [],
   "source": [
    "random.set_seed(11)\n",
    "\n",
    "better_model = keras.Sequential([\n",
    "        keras.layers.Dense(22, activation=\"relu\", name=\"l1\"),\n",
    "        keras.layers.Dense(11, activation=\"relu\", name=\"l2\"),\n",
    "        keras.layers.Dense(1, name=\"lo\"),\n",
    "])"
   ]
  },
  {
   "cell_type": "markdown",
   "id": "4bbc3df5",
   "metadata": {},
   "source": [
    "We will try a smaller learning rate (and may thus increase the number of epochs)."
   ]
  },
  {
   "cell_type": "code",
   "execution_count": 116,
   "id": "9a91107e",
   "metadata": {
    "pycharm": {
     "name": "#%%\n"
    }
   },
   "outputs": [],
   "source": [
    "better_model.compile(optimizer=keras.optimizers.RMSprop(learning_rate=6e-3), loss=keras.losses.MeanSquaredError())"
   ]
  },
  {
   "cell_type": "markdown",
   "id": "9b933907",
   "metadata": {},
   "source": [
    "Usually, when training a model, we split the data into a training and test set. We will do this using sklearn's `train_test_split`. Conveniently, in Keras, we can pass the validation data using the `validation_data` argument of `.fit()`.\n",
    "\n",
    "Another possibility is to use `validation_split`, which will, when set for example to `.2`, omit 20% of the training data and evaluate the performance for this \"unknown\" part of the data. Beware, that this will only work for shuffled data, as the validation data is taken from the last entries of the data."
   ]
  },
  {
   "cell_type": "code",
   "execution_count": 117,
   "id": "858a99c4",
   "metadata": {
    "pycharm": {
     "name": "#%%\n"
    }
   },
   "outputs": [],
   "source": [
    "from sklearn.model_selection import train_test_split\n",
    "\n",
    "x_train, x_test, y_train, y_test = train_test_split(x, y, test_size=0.15, random_state= 22)"
   ]
  },
  {
   "cell_type": "code",
   "execution_count": 118,
   "id": "6453b608",
   "metadata": {
    "pycharm": {
     "name": "#%%\n"
    },
    "tags": [
     "hide-output"
    ]
   },
   "outputs": [
    {
     "name": "stdout",
     "output_type": "stream",
     "text": [
      "Epoch 1/200\n",
      "11/11 [==============================] - 0s 11ms/step - loss: 5398.0273 - val_loss: 5898.2417\n",
      "Epoch 2/200\n",
      "11/11 [==============================] - 0s 2ms/step - loss: 4927.0137 - val_loss: 5247.9561\n",
      "Epoch 3/200\n",
      "11/11 [==============================] - 0s 2ms/step - loss: 4352.9336 - val_loss: 4501.8359\n",
      "Epoch 4/200\n",
      "11/11 [==============================] - 0s 2ms/step - loss: 3755.8801 - val_loss: 3757.5164\n",
      "Epoch 5/200\n",
      "11/11 [==============================] - 0s 2ms/step - loss: 3275.2563 - val_loss: 3201.8203\n",
      "Epoch 6/200\n",
      "11/11 [==============================] - 0s 2ms/step - loss: 2942.2805 - val_loss: 2823.0063\n",
      "Epoch 7/200\n",
      "11/11 [==============================] - 0s 2ms/step - loss: 2738.4294 - val_loss: 2641.5581\n",
      "Epoch 8/200\n",
      "11/11 [==============================] - 0s 2ms/step - loss: 2661.4299 - val_loss: 2569.8645\n",
      "Epoch 9/200\n",
      "11/11 [==============================] - 0s 2ms/step - loss: 2627.8630 - val_loss: 2568.9460\n",
      "Epoch 10/200\n",
      "11/11 [==============================] - 0s 2ms/step - loss: 2621.5005 - val_loss: 2536.1680\n",
      "Epoch 11/200\n",
      "11/11 [==============================] - 0s 2ms/step - loss: 2618.6833 - val_loss: 2495.5112\n",
      "Epoch 12/200\n",
      "11/11 [==============================] - 0s 2ms/step - loss: 2594.1174 - val_loss: 2500.8433\n",
      "Epoch 13/200\n",
      "11/11 [==============================] - 0s 2ms/step - loss: 2586.5735 - val_loss: 2468.0247\n",
      "Epoch 14/200\n",
      "11/11 [==============================] - 0s 2ms/step - loss: 2579.9844 - val_loss: 2464.4236\n",
      "Epoch 15/200\n",
      "11/11 [==============================] - 0s 2ms/step - loss: 2572.7705 - val_loss: 2443.3164\n",
      "Epoch 16/200\n",
      "11/11 [==============================] - 0s 2ms/step - loss: 2559.7026 - val_loss: 2441.6101\n",
      "Epoch 17/200\n",
      "11/11 [==============================] - 0s 2ms/step - loss: 2560.1387 - val_loss: 2437.6863\n",
      "Epoch 18/200\n",
      "11/11 [==============================] - 0s 2ms/step - loss: 2543.4404 - val_loss: 2415.4167\n",
      "Epoch 19/200\n",
      "11/11 [==============================] - 0s 2ms/step - loss: 2532.7593 - val_loss: 2379.8645\n",
      "Epoch 20/200\n",
      "11/11 [==============================] - 0s 2ms/step - loss: 2529.3220 - val_loss: 2402.5439\n",
      "Epoch 21/200\n",
      "11/11 [==============================] - 0s 2ms/step - loss: 2523.8181 - val_loss: 2391.2693\n",
      "Epoch 22/200\n",
      "11/11 [==============================] - 0s 2ms/step - loss: 2506.5808 - val_loss: 2399.8677\n",
      "Epoch 23/200\n",
      "11/11 [==============================] - 0s 2ms/step - loss: 2513.3440 - val_loss: 2378.2371\n",
      "Epoch 24/200\n",
      "11/11 [==============================] - 0s 2ms/step - loss: 2487.3093 - val_loss: 2349.6592\n",
      "Epoch 25/200\n",
      "11/11 [==============================] - 0s 2ms/step - loss: 2481.6121 - val_loss: 2363.3972\n",
      "Epoch 26/200\n",
      "11/11 [==============================] - 0s 2ms/step - loss: 2470.9602 - val_loss: 2336.1892\n",
      "Epoch 27/200\n",
      "11/11 [==============================] - 0s 2ms/step - loss: 2464.6829 - val_loss: 2330.4529\n",
      "Epoch 28/200\n",
      "11/11 [==============================] - 0s 2ms/step - loss: 2450.5366 - val_loss: 2349.2551\n",
      "Epoch 29/200\n",
      "11/11 [==============================] - 0s 2ms/step - loss: 2449.4673 - val_loss: 2314.4231\n",
      "Epoch 30/200\n",
      "11/11 [==============================] - 0s 2ms/step - loss: 2428.4429 - val_loss: 2308.8113\n",
      "Epoch 31/200\n",
      "11/11 [==============================] - 0s 2ms/step - loss: 2417.2769 - val_loss: 2319.8625\n",
      "Epoch 32/200\n",
      "11/11 [==============================] - 0s 2ms/step - loss: 2414.6956 - val_loss: 2318.0442\n",
      "Epoch 33/200\n",
      "11/11 [==============================] - 0s 2ms/step - loss: 2404.1819 - val_loss: 2326.3096\n",
      "Epoch 34/200\n",
      "11/11 [==============================] - 0s 2ms/step - loss: 2386.6694 - val_loss: 2264.5784\n",
      "Epoch 35/200\n",
      "11/11 [==============================] - 0s 2ms/step - loss: 2372.6389 - val_loss: 2253.7300\n",
      "Epoch 36/200\n",
      "11/11 [==============================] - 0s 2ms/step - loss: 2363.3005 - val_loss: 2261.6680\n",
      "Epoch 37/200\n",
      "11/11 [==============================] - 0s 2ms/step - loss: 2346.1953 - val_loss: 2244.2161\n",
      "Epoch 38/200\n",
      "11/11 [==============================] - 0s 2ms/step - loss: 2336.2336 - val_loss: 2248.7773\n",
      "Epoch 39/200\n",
      "11/11 [==============================] - 0s 2ms/step - loss: 2319.8162 - val_loss: 2211.6418\n",
      "Epoch 40/200\n",
      "11/11 [==============================] - 0s 2ms/step - loss: 2302.1638 - val_loss: 2201.3567\n",
      "Epoch 41/200\n",
      "11/11 [==============================] - 0s 2ms/step - loss: 2290.6436 - val_loss: 2228.6125\n",
      "Epoch 42/200\n",
      "11/11 [==============================] - 0s 2ms/step - loss: 2286.7109 - val_loss: 2190.8721\n",
      "Epoch 43/200\n",
      "11/11 [==============================] - 0s 2ms/step - loss: 2266.2593 - val_loss: 2159.8523\n",
      "Epoch 44/200\n",
      "11/11 [==============================] - 0s 2ms/step - loss: 2251.3679 - val_loss: 2162.9060\n",
      "Epoch 45/200\n",
      "11/11 [==============================] - 0s 2ms/step - loss: 2235.4001 - val_loss: 2135.9993\n",
      "Epoch 46/200\n",
      "11/11 [==============================] - 0s 2ms/step - loss: 2221.8506 - val_loss: 2125.4775\n",
      "Epoch 47/200\n",
      "11/11 [==============================] - 0s 2ms/step - loss: 2208.6746 - val_loss: 2117.5989\n",
      "Epoch 48/200\n",
      "11/11 [==============================] - 0s 2ms/step - loss: 2192.1477 - val_loss: 2128.4802\n",
      "Epoch 49/200\n",
      "11/11 [==============================] - 0s 2ms/step - loss: 2158.5483 - val_loss: 2095.3945\n",
      "Epoch 50/200\n",
      "11/11 [==============================] - 0s 2ms/step - loss: 2151.1814 - val_loss: 2139.9358\n",
      "Epoch 51/200\n",
      "11/11 [==============================] - 0s 2ms/step - loss: 2147.5889 - val_loss: 2105.0522\n",
      "Epoch 52/200\n",
      "11/11 [==============================] - 0s 2ms/step - loss: 2134.9954 - val_loss: 2059.9551\n",
      "Epoch 53/200\n",
      "11/11 [==============================] - 0s 2ms/step - loss: 2111.4641 - val_loss: 2036.3552\n",
      "Epoch 54/200\n",
      "11/11 [==============================] - 0s 2ms/step - loss: 2105.6738 - val_loss: 2060.9673\n",
      "Epoch 55/200\n",
      "11/11 [==============================] - 0s 2ms/step - loss: 2084.4883 - val_loss: 2062.5198\n",
      "Epoch 56/200\n",
      "11/11 [==============================] - 0s 2ms/step - loss: 2088.0039 - val_loss: 2023.8982\n",
      "Epoch 57/200\n",
      "11/11 [==============================] - 0s 2ms/step - loss: 2056.8831 - val_loss: 2040.0956\n",
      "Epoch 58/200\n",
      "11/11 [==============================] - 0s 2ms/step - loss: 2051.5601 - val_loss: 2058.2065\n",
      "Epoch 59/200\n",
      "11/11 [==============================] - 0s 2ms/step - loss: 2040.6897 - val_loss: 2018.1069\n",
      "Epoch 60/200\n",
      "11/11 [==============================] - 0s 2ms/step - loss: 2034.1246 - val_loss: 1982.2749\n",
      "Epoch 61/200\n",
      "11/11 [==============================] - 0s 2ms/step - loss: 2024.0919 - val_loss: 2015.8336\n",
      "Epoch 62/200\n",
      "11/11 [==============================] - 0s 2ms/step - loss: 2014.9150 - val_loss: 1986.9336\n",
      "Epoch 63/200\n",
      "11/11 [==============================] - 0s 2ms/step - loss: 2001.1605 - val_loss: 1984.6469\n",
      "Epoch 64/200\n",
      "11/11 [==============================] - 0s 2ms/step - loss: 1993.4307 - val_loss: 1986.2656\n",
      "Epoch 65/200\n",
      "11/11 [==============================] - 0s 2ms/step - loss: 1985.2500 - val_loss: 2030.3329\n",
      "Epoch 66/200\n",
      "11/11 [==============================] - 0s 2ms/step - loss: 1982.1548 - val_loss: 1959.6130\n",
      "Epoch 67/200\n",
      "11/11 [==============================] - 0s 2ms/step - loss: 1983.0814 - val_loss: 1933.1395\n",
      "Epoch 68/200\n",
      "11/11 [==============================] - 0s 2ms/step - loss: 1959.1122 - val_loss: 1934.6570\n",
      "Epoch 69/200\n",
      "11/11 [==============================] - 0s 2ms/step - loss: 1950.1737 - val_loss: 1959.3661\n",
      "Epoch 70/200\n",
      "11/11 [==============================] - 0s 2ms/step - loss: 1958.2137 - val_loss: 1941.0293\n",
      "Epoch 71/200\n",
      "11/11 [==============================] - 0s 2ms/step - loss: 1940.7659 - val_loss: 1914.1667\n",
      "Epoch 72/200\n",
      "11/11 [==============================] - 0s 2ms/step - loss: 1925.3627 - val_loss: 1907.0287\n",
      "Epoch 73/200\n",
      "11/11 [==============================] - 0s 2ms/step - loss: 1944.3031 - val_loss: 1903.3245\n",
      "Epoch 74/200\n",
      "11/11 [==============================] - 0s 2ms/step - loss: 1926.6572 - val_loss: 1936.4635\n",
      "Epoch 75/200\n",
      "11/11 [==============================] - 0s 2ms/step - loss: 1914.1293 - val_loss: 1912.2487\n",
      "Epoch 76/200\n",
      "11/11 [==============================] - 0s 2ms/step - loss: 1921.2057 - val_loss: 1934.5974\n",
      "Epoch 77/200\n",
      "11/11 [==============================] - 0s 2ms/step - loss: 1906.4213 - val_loss: 1920.5692\n",
      "Epoch 78/200\n",
      "11/11 [==============================] - 0s 2ms/step - loss: 1908.6873 - val_loss: 1885.9269\n",
      "Epoch 79/200\n",
      "11/11 [==============================] - 0s 2ms/step - loss: 1896.8893 - val_loss: 1925.5367\n",
      "Epoch 80/200\n",
      "11/11 [==============================] - 0s 2ms/step - loss: 1883.1613 - val_loss: 1898.8461\n",
      "Epoch 81/200\n",
      "11/11 [==============================] - 0s 2ms/step - loss: 1889.8840 - val_loss: 1879.7129\n",
      "Epoch 82/200\n",
      "11/11 [==============================] - 0s 2ms/step - loss: 1879.0582 - val_loss: 1852.2091\n",
      "Epoch 83/200\n",
      "11/11 [==============================] - 0s 2ms/step - loss: 1896.2568 - val_loss: 1877.7948\n",
      "Epoch 84/200\n",
      "11/11 [==============================] - 0s 2ms/step - loss: 1872.3711 - val_loss: 1856.9475\n",
      "Epoch 85/200\n",
      "11/11 [==============================] - 0s 2ms/step - loss: 1864.1055 - val_loss: 1866.8491\n",
      "Epoch 86/200\n",
      "11/11 [==============================] - 0s 2ms/step - loss: 1877.1829 - val_loss: 1855.7255\n",
      "Epoch 87/200\n",
      "11/11 [==============================] - 0s 2ms/step - loss: 1873.1713 - val_loss: 1872.8973\n",
      "Epoch 88/200\n",
      "11/11 [==============================] - 0s 2ms/step - loss: 1853.5675 - val_loss: 1897.4945\n",
      "Epoch 89/200\n",
      "11/11 [==============================] - 0s 2ms/step - loss: 1847.8743 - val_loss: 1880.9841\n",
      "Epoch 90/200\n",
      "11/11 [==============================] - 0s 2ms/step - loss: 1866.9208 - val_loss: 1857.0549\n",
      "Epoch 91/200\n",
      "11/11 [==============================] - 0s 2ms/step - loss: 1845.9158 - val_loss: 1871.2177\n",
      "Epoch 92/200\n",
      "11/11 [==============================] - 0s 2ms/step - loss: 1860.4607 - val_loss: 1908.3826\n",
      "Epoch 93/200\n",
      "11/11 [==============================] - 0s 2ms/step - loss: 1841.9080 - val_loss: 1861.1744\n",
      "Epoch 94/200\n",
      "11/11 [==============================] - 0s 2ms/step - loss: 1830.5759 - val_loss: 1883.7621\n",
      "Epoch 95/200\n",
      "11/11 [==============================] - 0s 2ms/step - loss: 1845.3191 - val_loss: 1891.7716\n",
      "Epoch 96/200\n",
      "11/11 [==============================] - 0s 2ms/step - loss: 1838.4066 - val_loss: 1892.2593\n",
      "Epoch 97/200\n",
      "11/11 [==============================] - 0s 2ms/step - loss: 1840.3889 - val_loss: 1867.7594\n",
      "Epoch 98/200\n",
      "11/11 [==============================] - 0s 2ms/step - loss: 1841.5520 - val_loss: 1891.9698\n",
      "Epoch 99/200\n",
      "11/11 [==============================] - 0s 2ms/step - loss: 1846.7667 - val_loss: 1865.9430\n",
      "Epoch 100/200\n",
      "11/11 [==============================] - 0s 2ms/step - loss: 1826.9897 - val_loss: 1856.5599\n",
      "Epoch 101/200\n",
      "11/11 [==============================] - 0s 2ms/step - loss: 1830.0244 - val_loss: 1872.9474\n",
      "Epoch 102/200\n",
      "11/11 [==============================] - 0s 2ms/step - loss: 1822.0759 - val_loss: 1898.2477\n",
      "Epoch 103/200\n",
      "11/11 [==============================] - 0s 2ms/step - loss: 1818.5338 - val_loss: 1857.5883\n",
      "Epoch 104/200\n",
      "11/11 [==============================] - 0s 2ms/step - loss: 1822.0623 - val_loss: 1867.3373\n",
      "Epoch 105/200\n",
      "11/11 [==============================] - 0s 2ms/step - loss: 1826.6298 - val_loss: 1855.9490\n",
      "Epoch 106/200\n",
      "11/11 [==============================] - 0s 2ms/step - loss: 1808.6661 - val_loss: 1941.6200\n",
      "Epoch 107/200\n",
      "11/11 [==============================] - 0s 2ms/step - loss: 1834.1984 - val_loss: 1864.9868\n",
      "Epoch 108/200\n",
      "11/11 [==============================] - 0s 2ms/step - loss: 1817.0873 - val_loss: 1876.1252\n",
      "Epoch 109/200\n",
      "11/11 [==============================] - 0s 2ms/step - loss: 1814.4241 - val_loss: 1915.6172\n",
      "Epoch 110/200\n",
      "11/11 [==============================] - 0s 2ms/step - loss: 1819.0643 - val_loss: 1887.4397\n",
      "Epoch 111/200\n",
      "11/11 [==============================] - 0s 2ms/step - loss: 1819.8976 - val_loss: 1875.4094\n",
      "Epoch 112/200\n",
      "11/11 [==============================] - 0s 2ms/step - loss: 1799.6577 - val_loss: 1864.4208\n",
      "Epoch 113/200\n",
      "11/11 [==============================] - 0s 2ms/step - loss: 1799.4786 - val_loss: 1852.1946\n",
      "Epoch 114/200\n",
      "11/11 [==============================] - 0s 2ms/step - loss: 1800.5013 - val_loss: 1845.1561\n",
      "Epoch 115/200\n",
      "11/11 [==============================] - 0s 2ms/step - loss: 1804.4897 - val_loss: 1868.4011\n",
      "Epoch 116/200\n",
      "11/11 [==============================] - 0s 2ms/step - loss: 1787.8088 - val_loss: 1917.9564\n",
      "Epoch 117/200\n",
      "11/11 [==============================] - 0s 2ms/step - loss: 1798.3416 - val_loss: 1920.5269\n",
      "Epoch 118/200\n",
      "11/11 [==============================] - 0s 2ms/step - loss: 1793.7601 - val_loss: 1862.9120\n",
      "Epoch 119/200\n",
      "11/11 [==============================] - 0s 2ms/step - loss: 1805.2202 - val_loss: 1873.4349\n",
      "Epoch 120/200\n",
      "11/11 [==============================] - 0s 2ms/step - loss: 1780.4392 - val_loss: 1883.1547\n",
      "Epoch 121/200\n",
      "11/11 [==============================] - 0s 2ms/step - loss: 1773.5931 - val_loss: 1905.9279\n",
      "Epoch 122/200\n",
      "11/11 [==============================] - 0s 2ms/step - loss: 1794.1029 - val_loss: 1892.4384\n",
      "Epoch 123/200\n",
      "11/11 [==============================] - 0s 2ms/step - loss: 1775.0577 - val_loss: 1858.7540\n",
      "Epoch 124/200\n",
      "11/11 [==============================] - 0s 2ms/step - loss: 1776.6534 - val_loss: 1901.8341\n",
      "Epoch 125/200\n",
      "11/11 [==============================] - 0s 2ms/step - loss: 1790.6476 - val_loss: 1880.5453\n",
      "Epoch 126/200\n",
      "11/11 [==============================] - 0s 2ms/step - loss: 1776.5471 - val_loss: 1864.5168\n",
      "Epoch 127/200\n",
      "11/11 [==============================] - 0s 2ms/step - loss: 1764.5504 - val_loss: 1859.1198\n",
      "Epoch 128/200\n",
      "11/11 [==============================] - 0s 2ms/step - loss: 1791.5806 - val_loss: 1856.5422\n",
      "Epoch 129/200\n",
      "11/11 [==============================] - 0s 2ms/step - loss: 1757.0615 - val_loss: 1868.0338\n",
      "Epoch 130/200\n",
      "11/11 [==============================] - 0s 2ms/step - loss: 1762.4031 - val_loss: 1885.5450\n",
      "Epoch 131/200\n",
      "11/11 [==============================] - 0s 2ms/step - loss: 1763.0098 - val_loss: 1930.6498\n",
      "Epoch 132/200\n",
      "11/11 [==============================] - 0s 2ms/step - loss: 1765.3693 - val_loss: 1881.0773\n",
      "Epoch 133/200\n",
      "11/11 [==============================] - 0s 2ms/step - loss: 1753.0062 - val_loss: 1863.7410\n",
      "Epoch 134/200\n",
      "11/11 [==============================] - 0s 2ms/step - loss: 1779.8711 - val_loss: 1898.6990\n",
      "Epoch 135/200\n",
      "11/11 [==============================] - 0s 2ms/step - loss: 1748.6011 - val_loss: 1872.1875\n",
      "Epoch 136/200\n",
      "11/11 [==============================] - 0s 2ms/step - loss: 1751.0135 - val_loss: 1884.2965\n",
      "Epoch 137/200\n",
      "11/11 [==============================] - 0s 2ms/step - loss: 1741.3481 - val_loss: 1862.2063\n",
      "Epoch 138/200\n",
      "11/11 [==============================] - 0s 2ms/step - loss: 1754.8358 - val_loss: 1861.1576\n",
      "Epoch 139/200\n",
      "11/11 [==============================] - 0s 2ms/step - loss: 1745.1449 - val_loss: 1899.8472\n",
      "Epoch 140/200\n",
      "11/11 [==============================] - 0s 2ms/step - loss: 1754.1871 - val_loss: 1876.8787\n",
      "Epoch 141/200\n",
      "11/11 [==============================] - 0s 2ms/step - loss: 1757.3019 - val_loss: 1856.7244\n",
      "Epoch 142/200\n",
      "11/11 [==============================] - 0s 2ms/step - loss: 1741.9673 - val_loss: 1886.8165\n",
      "Epoch 143/200\n",
      "11/11 [==============================] - 0s 2ms/step - loss: 1741.5723 - val_loss: 1877.4872\n",
      "Epoch 144/200\n",
      "11/11 [==============================] - 0s 2ms/step - loss: 1738.9048 - val_loss: 1872.5953\n",
      "Epoch 145/200\n",
      "11/11 [==============================] - 0s 2ms/step - loss: 1746.4346 - val_loss: 1904.2661\n",
      "Epoch 146/200\n",
      "11/11 [==============================] - 0s 2ms/step - loss: 1739.9161 - val_loss: 1880.5988\n",
      "Epoch 147/200\n",
      "11/11 [==============================] - 0s 2ms/step - loss: 1743.0980 - val_loss: 1905.2201\n",
      "Epoch 148/200\n",
      "11/11 [==============================] - 0s 2ms/step - loss: 1739.5533 - val_loss: 1893.2081\n",
      "Epoch 149/200\n",
      "11/11 [==============================] - 0s 2ms/step - loss: 1752.3325 - val_loss: 1904.2933\n",
      "Epoch 150/200\n",
      "11/11 [==============================] - 0s 2ms/step - loss: 1732.2188 - val_loss: 1901.7427\n",
      "Epoch 151/200\n",
      "11/11 [==============================] - 0s 2ms/step - loss: 1742.9626 - val_loss: 1895.2247\n",
      "Epoch 152/200\n",
      "11/11 [==============================] - 0s 2ms/step - loss: 1731.6136 - val_loss: 1881.4161\n",
      "Epoch 153/200\n",
      "11/11 [==============================] - 0s 2ms/step - loss: 1721.6017 - val_loss: 1916.3861\n",
      "Epoch 154/200\n",
      "11/11 [==============================] - 0s 2ms/step - loss: 1723.5579 - val_loss: 1911.5918\n"
     ]
    },
    {
     "name": "stdout",
     "output_type": "stream",
     "text": [
      "Epoch 155/200\n",
      "11/11 [==============================] - 0s 2ms/step - loss: 1738.0127 - val_loss: 1877.4304\n",
      "Epoch 156/200\n",
      "11/11 [==============================] - 0s 2ms/step - loss: 1719.1127 - val_loss: 1870.7316\n",
      "Epoch 157/200\n",
      "11/11 [==============================] - 0s 2ms/step - loss: 1734.1206 - val_loss: 1873.6113\n",
      "Epoch 158/200\n",
      "11/11 [==============================] - 0s 2ms/step - loss: 1732.5283 - val_loss: 1907.9503\n",
      "Epoch 159/200\n",
      "11/11 [==============================] - 0s 2ms/step - loss: 1720.3071 - val_loss: 1889.5618\n",
      "Epoch 160/200\n",
      "11/11 [==============================] - 0s 2ms/step - loss: 1723.9110 - val_loss: 1883.1252\n",
      "Epoch 161/200\n",
      "11/11 [==============================] - 0s 2ms/step - loss: 1719.5723 - val_loss: 1907.9363\n",
      "Epoch 162/200\n",
      "11/11 [==============================] - 0s 2ms/step - loss: 1727.0784 - val_loss: 1870.9242\n",
      "Epoch 163/200\n",
      "11/11 [==============================] - 0s 2ms/step - loss: 1710.0399 - val_loss: 1906.2778\n",
      "Epoch 164/200\n",
      "11/11 [==============================] - 0s 2ms/step - loss: 1706.5272 - val_loss: 1931.7880\n",
      "Epoch 165/200\n",
      "11/11 [==============================] - 0s 2ms/step - loss: 1722.9542 - val_loss: 1890.5133\n",
      "Epoch 166/200\n",
      "11/11 [==============================] - 0s 2ms/step - loss: 1721.1853 - val_loss: 1874.1990\n",
      "Epoch 167/200\n",
      "11/11 [==============================] - 0s 2ms/step - loss: 1717.2502 - val_loss: 1886.6724\n",
      "Epoch 168/200\n",
      "11/11 [==============================] - 0s 2ms/step - loss: 1703.2838 - val_loss: 1928.8224\n",
      "Epoch 169/200\n",
      "11/11 [==============================] - 0s 2ms/step - loss: 1706.6086 - val_loss: 1877.0443\n",
      "Epoch 170/200\n",
      "11/11 [==============================] - 0s 2ms/step - loss: 1703.7906 - val_loss: 1911.7733\n",
      "Epoch 171/200\n",
      "11/11 [==============================] - 0s 2ms/step - loss: 1703.1810 - val_loss: 1976.3295\n",
      "Epoch 172/200\n",
      "11/11 [==============================] - 0s 2ms/step - loss: 1717.4331 - val_loss: 1864.9080\n",
      "Epoch 173/200\n",
      "11/11 [==============================] - 0s 2ms/step - loss: 1708.1854 - val_loss: 1899.4263\n",
      "Epoch 174/200\n",
      "11/11 [==============================] - 0s 2ms/step - loss: 1706.7740 - val_loss: 1870.3971\n",
      "Epoch 175/200\n",
      "11/11 [==============================] - 0s 2ms/step - loss: 1701.0219 - val_loss: 1877.2235\n",
      "Epoch 176/200\n",
      "11/11 [==============================] - 0s 2ms/step - loss: 1720.0522 - val_loss: 1890.2233\n",
      "Epoch 177/200\n",
      "11/11 [==============================] - 0s 2ms/step - loss: 1717.2769 - val_loss: 1921.1750\n",
      "Epoch 178/200\n",
      "11/11 [==============================] - 0s 2ms/step - loss: 1697.6169 - val_loss: 1878.3821\n",
      "Epoch 179/200\n",
      "11/11 [==============================] - 0s 2ms/step - loss: 1695.8168 - val_loss: 1875.8560\n",
      "Epoch 180/200\n",
      "11/11 [==============================] - 0s 2ms/step - loss: 1720.5836 - val_loss: 1895.9109\n",
      "Epoch 181/200\n",
      "11/11 [==============================] - 0s 2ms/step - loss: 1692.2476 - val_loss: 1865.9547\n",
      "Epoch 182/200\n",
      "11/11 [==============================] - 0s 2ms/step - loss: 1684.3132 - val_loss: 1914.1669\n",
      "Epoch 183/200\n",
      "11/11 [==============================] - 0s 2ms/step - loss: 1693.1210 - val_loss: 1864.9469\n",
      "Epoch 184/200\n",
      "11/11 [==============================] - 0s 2ms/step - loss: 1713.4659 - val_loss: 1866.7347\n",
      "Epoch 185/200\n",
      "11/11 [==============================] - 0s 2ms/step - loss: 1714.0557 - val_loss: 1882.5819\n",
      "Epoch 186/200\n",
      "11/11 [==============================] - 0s 2ms/step - loss: 1715.9292 - val_loss: 1884.3519\n",
      "Epoch 187/200\n",
      "11/11 [==============================] - 0s 2ms/step - loss: 1707.0295 - val_loss: 1851.6294\n",
      "Epoch 188/200\n",
      "11/11 [==============================] - 0s 2ms/step - loss: 1699.5239 - val_loss: 1860.1311\n",
      "Epoch 189/200\n",
      "11/11 [==============================] - 0s 2ms/step - loss: 1710.3834 - val_loss: 1887.8347\n",
      "Epoch 190/200\n",
      "11/11 [==============================] - 0s 2ms/step - loss: 1704.6846 - val_loss: 1900.1443\n",
      "Epoch 191/200\n",
      "11/11 [==============================] - 0s 2ms/step - loss: 1708.0857 - val_loss: 1874.6133\n",
      "Epoch 192/200\n",
      "11/11 [==============================] - 0s 2ms/step - loss: 1696.4418 - val_loss: 1899.3561\n",
      "Epoch 193/200\n",
      "11/11 [==============================] - 0s 2ms/step - loss: 1690.6591 - val_loss: 1938.0651\n",
      "Epoch 194/200\n",
      "11/11 [==============================] - 0s 2ms/step - loss: 1699.6904 - val_loss: 1890.6969\n",
      "Epoch 195/200\n",
      "11/11 [==============================] - 0s 2ms/step - loss: 1704.5820 - val_loss: 1872.5990\n",
      "Epoch 196/200\n",
      "11/11 [==============================] - 0s 2ms/step - loss: 1701.4219 - val_loss: 1874.7378\n",
      "Epoch 197/200\n",
      "11/11 [==============================] - 0s 2ms/step - loss: 1690.8248 - val_loss: 1884.2537\n",
      "Epoch 198/200\n",
      "11/11 [==============================] - 0s 2ms/step - loss: 1705.5153 - val_loss: 1880.9578\n",
      "Epoch 199/200\n",
      "11/11 [==============================] - 0s 2ms/step - loss: 1716.1378 - val_loss: 1868.9128\n",
      "Epoch 200/200\n",
      "11/11 [==============================] - 0s 2ms/step - loss: 1712.4521 - val_loss: 1925.6481\n"
     ]
    }
   ],
   "source": [
    "better_history = better_model.fit(x_train,y_train, epochs=200, validation_data=(x_test,y_test))"
   ]
  },
  {
   "cell_type": "markdown",
   "id": "32277f7d",
   "metadata": {},
   "source": [
    "We can see the additional information given for the loss when applying the current weights of each epoch to the\n",
    "        validation data.\n",
    "Let's have a look at it."
   ]
  },
  {
   "cell_type": "code",
   "execution_count": 119,
   "id": "6eb2b444",
   "metadata": {
    "pycharm": {
     "name": "#%%\n"
    }
   },
   "outputs": [
    {
     "data": {
      "image/png": "[encoded data removed]",
      "text/plain": [
       "<Figure size 432x288 with 1 Axes>"
      ]
     },
     "metadata": {
      "needs_background": "light"
     },
     "output_type": "display_data"
    }
   ],
   "source": [
    "plt.plot(better_history.history['loss'], label='training')\n",
    "plt.plot(better_history.history['val_loss'], label='validation')\n",
    "plt.legend()\n",
    "plt.title('loss')\n",
    "plt.show()"
   ]
  },
  {
   "cell_type": "markdown",
   "id": "c8de67b5",
   "metadata": {},
   "source": [
    "We see a moderate, yet steady decrease in both curves before hitting a plateau of slight oscillation. The graphic shows, that we do not have to deal with over fitting and that our model seems to have converged.\n",
    "\n",
    "Finally, let's have a look at the predictions of the trained model again:\n",
    "\n",
    "There are ways to handle over fitting but we will not discuss them here.\n",
    "\n",
    "Finally, let's have a look at the trained model again, using all the data:"
   ]
  },
  {
   "cell_type": "code",
   "execution_count": 120,
   "id": "351b01ea",
   "metadata": {
    "pycharm": {
     "name": "#%%\n"
    }
   },
   "outputs": [],
   "source": [
    "y_pred = better_model.predict(x)"
   ]
  },
  {
   "cell_type": "code",
   "execution_count": 121,
   "id": "3c4578a3",
   "metadata": {
    "pycharm": {
     "name": "#%%\n"
    }
   },
   "outputs": [
    {
     "data": {
      "image/png": "[encoded data removed]",
      "text/plain": [
       "<Figure size 432x288 with 1 Axes>"
      ]
     },
     "metadata": {
      "needs_background": "light"
     },
     "output_type": "display_data"
    }
   ],
   "source": [
    "plt.scatter(x, y)\n",
    "plt.plot(x,make_data(-.5,2,1.5,noise=False), c='red', lw=4)\n",
    "plt.plot(x,y_pred.reshape(-1), c='orange', lw=4)\n",
    "plt.show()"
   ]
  },
  {
   "cell_type": "markdown",
   "id": "13fec4b4",
   "metadata": {},
   "source": [
    "At last, we see that our more complex model is very well able to find the underlying function which we used to generate our data."
   ]
  },
  {
   "cell_type": "markdown",
   "id": "bfe57734",
   "metadata": {},
   "source": [
    "While we have only covered a tiny bit of TensorFlow and Keras, the syntax stays the same for different kinds of networks. For example, to build a convolutional artificial neural network, we would use `keras.Conv2D()` instead of `keras.Dense`. For more types of layers and how to build more complex architectures, visit the documentation referred to above."
   ]
  }
 ],
 "metadata": {
  "celltoolbar": "Edit Metadata",
  "kernelspec": {
   "display_name": "Python 3 (ipykernel)",
   "language": "python",
   "name": "python3"
  },
  "language_info": {
   "codemirror_mode": {
    "name": "ipython",
    "version": 3
   },
   "file_extension": ".py",
   "mimetype": "text/x-python",
   "name": "python",
   "nbconvert_exporter": "python",
   "pygments_lexer": "ipython3",
   "version": "3.8.8"
  }
 },
 "nbformat": 4,
 "nbformat_minor": 5
}
