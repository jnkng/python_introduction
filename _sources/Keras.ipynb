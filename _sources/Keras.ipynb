{
 "cells": [
  {
   "cell_type": "markdown",
   "id": "c52d1755",
   "metadata": {
    "pycharm": {
     "name": "#%% md\n"
    }
   },
   "source": [
    "# TensorFlow: Keras"
   ]
  },
  {
   "cell_type": "markdown",
   "source": [
    "[TensorFlow](https://www.tensorflow.org) is a machine learning and artifical intelligence platform. While including broad functionality, we will focus here on artificial neural networks (ANN). To build such networks, we will leverage the high level API [Keras](https://keras.io/) and show here how to use 'the sequential model'. This is allows to create the simplest form of neural networks, a fully connected feed forward structure. This unhandy term basically refers to a stack of so called layers of neurons, where one neuron of one layer is 'connected' to each neuron of the subsequent layer (as we won't go into theoretic details: [original paper](https://www.ling.upenn.edu/courses/cogs501/Rosenblatt1958.pdf), [Wikipedia](https://en.wikipedia.org/wiki/Feedforward_neural_network), [The Elements of Statistical Learning, chapter 11](https://web.stanford.edu/~hastie/Papers/ESLII.pdf)).\n",
    "\n",
    "TensorFlow works with numpy arrays and pandas dataframes. We will now try to do a regression on some simulated data, using a neural network.\n",
    "\n",
    "The package `tensorflow` must be installed.\n",
    "To build neural networks, we start by importing the necessary modules. Note that Keras is delivered as a submodule to TensorFlow, which we can access using the dot chaining, and that we only import `layers`."
   ],
   "metadata": {
    "collapsed": false
   }
  },
  {
   "cell_type": "code",
   "execution_count": 1,
   "id": "6502ead5",
   "metadata": {
    "pycharm": {
     "name": "#%%\n"
    }
   },
   "outputs": [],
   "source": [
    "from tensorflow import keras, random\n",
    "import numpy as np\n",
    "import matplotlib.pyplot as plt\n",
    "\n",
    "random.set_seed(102)"
   ]
  },
  {
   "cell_type": "markdown",
   "source": [
    "We will write a function to simulate some data using numpy. We include a `noise` argument to be able to view the true function, which is obfuscated by the added noise."
   ],
   "metadata": {
    "collapsed": false,
    "pycharm": {
     "name": "#%% md\n"
    }
   }
  },
  {
   "cell_type": "code",
   "execution_count": 2,
   "outputs": [
    {
     "data": {
      "text/plain": "<Figure size 432x288 with 1 Axes>",
      "image/png": "[encoded data removed]"
     },
     "metadata": {
      "needs_background": "light"
     },
     "output_type": "display_data"
    }
   ],
   "source": [
    "x = np.sort(np.random.uniform(-5,5,400))\n",
    "\n",
    "def make_data(a, b, c, _x=x, noise=True):\n",
    "    if noise==True:\n",
    "        return a*_x + b*(_x-4)**2 + c*_x**3 + np.random.normal(0,40,len(_x))\n",
    "    if noise==False:\n",
    "        return a*_x + b*(_x-4)**2 + c*_x**3\n",
    "\n",
    "y = make_data(-.5,2,1.5)\n",
    "plt.scatter(x,y)\n",
    "plt.plot(x,make_data(-.5,2,1.5, noise=False), c='red', lw=3, alpha=.5)\n",
    "plt.show()"
   ],
   "metadata": {
    "collapsed": false,
    "pycharm": {
     "name": "#%%\n"
    }
   }
  },
  {
   "cell_type": "markdown",
   "source": [
    "We define a very simple fully connected ANN with one hidden layer and only zwo neurons inside that layer. Since we aim to perform regression, we use one neuron in the output layer.\n",
    "To do so in the code, we kall `keras.Sequential` and add as argument all layers as a list. Elements of that list are `keras.layers.Dense` objects, which represent fully connected layers. Note that the order by which you define this list, corresponds to the stacking of the layers.\n",
    "As arguments of `Dense`, we specify the number of neurons and the desired activation function. We may also give names to the layers, which might be ore useful for more complex net architectures.\n",
    "\n",
    "Be aware that we do define an input shape here. Instead, we could let Keras do so automatically using the dimension of our input data. However, the specification of the input shape enables us to view the model summary without having to run anything else beforehand."
   ],
   "metadata": {
    "collapsed": false,
    "pycharm": {
     "name": "#%% md\n"
    }
   }
  },
  {
   "cell_type": "code",
   "execution_count": 3,
   "outputs": [
    {
     "name": "stderr",
     "output_type": "stream",
     "text": [
      "2021-10-14 10:45:23.575602: I tensorflow/core/platform/cpu_feature_guard.cc:142] This TensorFlow binary is optimized with oneAPI Deep Neural Network Library (oneDNN) to use the following CPU instructions in performance-critical operations:  AVX2 FMA\n",
      "To enable them in other operations, rebuild TensorFlow with the appropriate compiler flags.\n"
     ]
    }
   ],
   "source": [
    "model = keras.Sequential([\n",
    "        keras.layers.Dense(2, activation=\"relu\", input_shape=(1,), name=\"hidden_layer\"),\n",
    "        keras.layers.Dense(1, name=\"output_layer\"),\n",
    "], name='my_first_model')"
   ],
   "metadata": {
    "collapsed": false,
    "pycharm": {
     "name": "#%%\n"
    }
   }
  },
  {
   "cell_type": "markdown",
   "source": [
    "A summary of the definded model can be printed calling the method of the same name."
   ],
   "metadata": {
    "collapsed": false,
    "pycharm": {
     "name": "#%% md\n"
    }
   }
  },
  {
   "cell_type": "code",
   "source": [
    "model.summary()"
   ],
   "metadata": {
    "collapsed": false,
    "pycharm": {
     "name": "#%%\n"
    }
   },
   "execution_count": 4,
   "outputs": [
    {
     "name": "stdout",
     "output_type": "stream",
     "text": [
      "Model: \"my_first_model\"\n",
      "_________________________________________________________________\n",
      "Layer (type)                 Output Shape              Param #   \n",
      "=================================================================\n",
      "hidden_layer (Dense)         (None, 2)                 4         \n",
      "_________________________________________________________________\n",
      "output_layer (Dense)         (None, 1)                 3         \n",
      "=================================================================\n",
      "Total params: 7\n",
      "Trainable params: 7\n",
      "Non-trainable params: 0\n",
      "_________________________________________________________________\n"
     ]
    }
   ]
  },
  {
   "cell_type": "markdown",
   "source": [
    "Having defined the model, we must compile, i.e. set the final configuration. We call the `.compile()` method on our model and specify the optimization algorithm (and the learning rate) and the loss function, by which the model should be trained. For regression, we use the mean squared error.\n",
    "\n",
    "The learning rate is a hyperparameter and is to be chosen to suit the problem at hand. It's possible to find an optimal rate by random or grid search, which we will not further discuss here."
   ],
   "metadata": {
    "collapsed": false,
    "pycharm": {
     "name": "#%% md\n"
    }
   }
  },
  {
   "cell_type": "code",
   "source": [
    "model.compile(optimizer=keras.optimizers.RMSprop(learning_rate=5e-2), loss=keras.losses.MeanSquaredError(), )"
   ],
   "metadata": {
    "collapsed": false,
    "pycharm": {
     "name": "#%%\n"
    }
   },
   "execution_count": 5,
   "outputs": []
  },
  {
   "cell_type": "markdown",
   "source": [
    "We can now train the model, i.e. set the weights accordingly as to minimize the calculated error from deviations between model predictions and training data.\n",
    "\n",
    "We do so by calling the `.fit()` method to which we supply the data and the number of episodes (iterations to tune the weights). Furthermore, we can set the `batch_size`, which defines the number of samples for which the weight updates are accumulated.\n",
    "\n",
    "We can save all information returned from the fitting process in a `History` object, here called `history`. Through this object, we can access this information, once the fitting is done."
   ],
   "metadata": {
    "collapsed": false,
    "pycharm": {
     "name": "#%% md\n"
    }
   }
  },
  {
   "cell_type": "code",
   "execution_count": 6,
   "outputs": [
    {
     "name": "stderr",
     "output_type": "stream",
     "text": [
      "2021-10-14 10:45:23.809495: I tensorflow/compiler/mlir/mlir_graph_optimization_pass.cc:185] None of the MLIR Optimization Passes are enabled (registered 2)\n"
     ]
    },
    {
     "name": "stdout",
     "output_type": "stream",
     "text": [
      "Epoch 1/150\n",
      "14/14 [==============================] - 0s 657us/step - loss: 4470.3457\n",
      "Epoch 2/150\n",
      "14/14 [==============================] - 0s 619us/step - loss: 3971.0054\n",
      "Epoch 3/150\n",
      "14/14 [==============================] - 0s 621us/step - loss: 3467.3037\n",
      "Epoch 4/150\n",
      "14/14 [==============================] - 0s 631us/step - loss: 3079.7207\n",
      "Epoch 5/150\n",
      "14/14 [==============================] - 0s 638us/step - loss: 2916.2766\n",
      "Epoch 6/150\n",
      "14/14 [==============================] - 0s 619us/step - loss: 2892.6719\n",
      "Epoch 7/150\n",
      "14/14 [==============================] - 0s 617us/step - loss: 2861.6719\n",
      "Epoch 8/150\n",
      "14/14 [==============================] - 0s 607us/step - loss: 2846.9226\n",
      "Epoch 9/150\n",
      "14/14 [==============================] - 0s 566us/step - loss: 2818.4285\n",
      "Epoch 10/150\n",
      "14/14 [==============================] - 0s 562us/step - loss: 2793.8281\n",
      "Epoch 11/150\n",
      "14/14 [==============================] - 0s 525us/step - loss: 2761.9172\n",
      "Epoch 12/150\n",
      "14/14 [==============================] - 0s 563us/step - loss: 2735.2073\n",
      "Epoch 13/150\n",
      "14/14 [==============================] - 0s 541us/step - loss: 2712.9531\n",
      "Epoch 14/150\n",
      "14/14 [==============================] - 0s 581us/step - loss: 2679.9016\n",
      "Epoch 15/150\n",
      "14/14 [==============================] - 0s 614us/step - loss: 2652.0378\n",
      "Epoch 16/150\n",
      "14/14 [==============================] - 0s 595us/step - loss: 2624.5657\n",
      "Epoch 17/150\n",
      "14/14 [==============================] - 0s 539us/step - loss: 2603.8875\n",
      "Epoch 18/150\n",
      "14/14 [==============================] - 0s 563us/step - loss: 2568.0142\n",
      "Epoch 19/150\n",
      "14/14 [==============================] - 0s 560us/step - loss: 2534.2151\n",
      "Epoch 20/150\n",
      "14/14 [==============================] - 0s 596us/step - loss: 2501.3274\n",
      "Epoch 21/150\n",
      "14/14 [==============================] - 0s 578us/step - loss: 2469.9299\n",
      "Epoch 22/150\n",
      "14/14 [==============================] - 0s 565us/step - loss: 2437.1091\n",
      "Epoch 23/150\n",
      "14/14 [==============================] - 0s 549us/step - loss: 2404.6475\n",
      "Epoch 24/150\n",
      "14/14 [==============================] - 0s 603us/step - loss: 2389.3669\n",
      "Epoch 25/150\n",
      "14/14 [==============================] - 0s 563us/step - loss: 2349.2217\n",
      "Epoch 26/150\n",
      "14/14 [==============================] - 0s 550us/step - loss: 2315.2461\n",
      "Epoch 27/150\n",
      "14/14 [==============================] - 0s 558us/step - loss: 2293.5442\n",
      "Epoch 28/150\n",
      "14/14 [==============================] - 0s 551us/step - loss: 2267.4780\n",
      "Epoch 29/150\n",
      "14/14 [==============================] - 0s 551us/step - loss: 2231.2209\n",
      "Epoch 30/150\n",
      "14/14 [==============================] - 0s 591us/step - loss: 2202.1086\n",
      "Epoch 31/150\n",
      "14/14 [==============================] - 0s 553us/step - loss: 2186.7854\n",
      "Epoch 32/150\n",
      "14/14 [==============================] - 0s 546us/step - loss: 2156.5813\n",
      "Epoch 33/150\n",
      "14/14 [==============================] - 0s 602us/step - loss: 2146.9822\n",
      "Epoch 34/150\n",
      "14/14 [==============================] - 0s 548us/step - loss: 2118.5540\n",
      "Epoch 35/150\n",
      "14/14 [==============================] - 0s 540us/step - loss: 2101.2888\n",
      "Epoch 36/150\n",
      "14/14 [==============================] - 0s 562us/step - loss: 2083.7998\n",
      "Epoch 37/150\n",
      "14/14 [==============================] - 0s 576us/step - loss: 2061.8826\n",
      "Epoch 38/150\n",
      "14/14 [==============================] - 0s 529us/step - loss: 2047.3331\n",
      "Epoch 39/150\n",
      "14/14 [==============================] - 0s 638us/step - loss: 2031.5485\n",
      "Epoch 40/150\n",
      "14/14 [==============================] - 0s 607us/step - loss: 2017.3744\n",
      "Epoch 41/150\n",
      "14/14 [==============================] - 0s 627us/step - loss: 1997.7727\n",
      "Epoch 42/150\n",
      "14/14 [==============================] - 0s 613us/step - loss: 1976.8397\n",
      "Epoch 43/150\n",
      "14/14 [==============================] - 0s 566us/step - loss: 1954.6996\n",
      "Epoch 44/150\n",
      "14/14 [==============================] - 0s 572us/step - loss: 1951.4686\n",
      "Epoch 45/150\n",
      "14/14 [==============================] - 0s 591us/step - loss: 1945.6318\n",
      "Epoch 46/150\n",
      "14/14 [==============================] - 0s 604us/step - loss: 1931.9739\n",
      "Epoch 47/150\n",
      "14/14 [==============================] - 0s 563us/step - loss: 1917.6132\n",
      "Epoch 48/150\n",
      "14/14 [==============================] - 0s 540us/step - loss: 1903.6715\n",
      "Epoch 49/150\n",
      "14/14 [==============================] - 0s 561us/step - loss: 1896.2167\n",
      "Epoch 50/150\n",
      "14/14 [==============================] - 0s 553us/step - loss: 1891.5952\n",
      "Epoch 51/150\n",
      "14/14 [==============================] - 0s 588us/step - loss: 1892.2567\n",
      "Epoch 52/150\n",
      "14/14 [==============================] - 0s 567us/step - loss: 1877.8528\n",
      "Epoch 53/150\n",
      "14/14 [==============================] - 0s 536us/step - loss: 1879.6250\n",
      "Epoch 54/150\n",
      "14/14 [==============================] - 0s 539us/step - loss: 1868.3823\n",
      "Epoch 55/150\n",
      "14/14 [==============================] - 0s 553us/step - loss: 1865.5453\n",
      "Epoch 56/150\n",
      "14/14 [==============================] - 0s 553us/step - loss: 1860.5211\n",
      "Epoch 57/150\n",
      "14/14 [==============================] - 0s 564us/step - loss: 1854.0654\n",
      "Epoch 58/150\n",
      "14/14 [==============================] - 0s 585us/step - loss: 1860.5696\n",
      "Epoch 59/150\n",
      "14/14 [==============================] - 0s 567us/step - loss: 1849.3143\n",
      "Epoch 60/150\n",
      "14/14 [==============================] - 0s 577us/step - loss: 1847.8187\n",
      "Epoch 61/150\n",
      "14/14 [==============================] - 0s 547us/step - loss: 1850.0186\n",
      "Epoch 62/150\n",
      "14/14 [==============================] - 0s 582us/step - loss: 1834.4703\n",
      "Epoch 63/150\n",
      "14/14 [==============================] - 0s 561us/step - loss: 1854.7517\n",
      "Epoch 64/150\n",
      "14/14 [==============================] - 0s 586us/step - loss: 1824.2429\n",
      "Epoch 65/150\n",
      "14/14 [==============================] - 0s 543us/step - loss: 1843.6569\n",
      "Epoch 66/150\n",
      "14/14 [==============================] - 0s 562us/step - loss: 1841.7762\n",
      "Epoch 67/150\n",
      "14/14 [==============================] - 0s 541us/step - loss: 1840.6553\n",
      "Epoch 68/150\n",
      "14/14 [==============================] - 0s 530us/step - loss: 1830.9075\n",
      "Epoch 69/150\n",
      "14/14 [==============================] - 0s 612us/step - loss: 1831.5658\n",
      "Epoch 70/150\n",
      "14/14 [==============================] - 0s 597us/step - loss: 1834.8336\n",
      "Epoch 71/150\n",
      "14/14 [==============================] - 0s 609us/step - loss: 1827.5754\n",
      "Epoch 72/150\n",
      "14/14 [==============================] - 0s 579us/step - loss: 1847.2633\n",
      "Epoch 73/150\n",
      "14/14 [==============================] - 0s 561us/step - loss: 1835.8331\n",
      "Epoch 74/150\n",
      "14/14 [==============================] - 0s 570us/step - loss: 1832.0385\n",
      "Epoch 75/150\n",
      "14/14 [==============================] - 0s 557us/step - loss: 1823.3914\n",
      "Epoch 76/150\n",
      "14/14 [==============================] - 0s 569us/step - loss: 1835.5992\n",
      "Epoch 77/150\n",
      "14/14 [==============================] - 0s 545us/step - loss: 1827.6813\n",
      "Epoch 78/150\n",
      "14/14 [==============================] - 0s 538us/step - loss: 1826.5475\n",
      "Epoch 79/150\n",
      "14/14 [==============================] - 0s 549us/step - loss: 1830.8411\n",
      "Epoch 80/150\n",
      "14/14 [==============================] - 0s 565us/step - loss: 1831.2275\n",
      "Epoch 81/150\n",
      "14/14 [==============================] - 0s 546us/step - loss: 1825.0341\n",
      "Epoch 82/150\n",
      "14/14 [==============================] - 0s 533us/step - loss: 1830.7521\n",
      "Epoch 83/150\n",
      "14/14 [==============================] - 0s 578us/step - loss: 1834.6223\n",
      "Epoch 84/150\n",
      "14/14 [==============================] - 0s 576us/step - loss: 1827.4984\n",
      "Epoch 85/150\n",
      "14/14 [==============================] - 0s 560us/step - loss: 1832.7499\n",
      "Epoch 86/150\n",
      "14/14 [==============================] - 0s 549us/step - loss: 1834.8938\n",
      "Epoch 87/150\n",
      "14/14 [==============================] - 0s 594us/step - loss: 1834.5044\n",
      "Epoch 88/150\n",
      "14/14 [==============================] - 0s 577us/step - loss: 1831.0520\n",
      "Epoch 89/150\n",
      "14/14 [==============================] - 0s 590us/step - loss: 1825.5806\n",
      "Epoch 90/150\n",
      "14/14 [==============================] - 0s 565us/step - loss: 1833.1958\n",
      "Epoch 91/150\n",
      "14/14 [==============================] - 0s 529us/step - loss: 1832.6318\n",
      "Epoch 92/150\n",
      "14/14 [==============================] - 0s 568us/step - loss: 1819.5370\n",
      "Epoch 93/150\n",
      "14/14 [==============================] - 0s 551us/step - loss: 1845.5442\n",
      "Epoch 94/150\n",
      "14/14 [==============================] - 0s 593us/step - loss: 1823.3862\n",
      "Epoch 95/150\n",
      "14/14 [==============================] - 0s 589us/step - loss: 1824.8311\n",
      "Epoch 96/150\n",
      "14/14 [==============================] - 0s 589us/step - loss: 1835.6841\n",
      "Epoch 97/150\n",
      "14/14 [==============================] - 0s 593us/step - loss: 1822.9773\n",
      "Epoch 98/150\n",
      "14/14 [==============================] - 0s 601us/step - loss: 1826.6064\n",
      "Epoch 99/150\n",
      "14/14 [==============================] - 0s 578us/step - loss: 1825.3503\n",
      "Epoch 100/150\n",
      "14/14 [==============================] - 0s 597us/step - loss: 1823.7723\n",
      "Epoch 101/150\n",
      "14/14 [==============================] - 0s 580us/step - loss: 1834.3936\n",
      "Epoch 102/150\n",
      "14/14 [==============================] - 0s 553us/step - loss: 1831.4547\n",
      "Epoch 103/150\n",
      "14/14 [==============================] - 0s 536us/step - loss: 1833.5236\n",
      "Epoch 104/150\n",
      "14/14 [==============================] - 0s 556us/step - loss: 1832.1366\n",
      "Epoch 105/150\n",
      "14/14 [==============================] - 0s 537us/step - loss: 1827.3495\n",
      "Epoch 106/150\n",
      "14/14 [==============================] - 0s 554us/step - loss: 1829.1506\n",
      "Epoch 107/150\n",
      "14/14 [==============================] - 0s 547us/step - loss: 1836.5776\n",
      "Epoch 108/150\n",
      "14/14 [==============================] - 0s 548us/step - loss: 1829.8143\n",
      "Epoch 109/150\n",
      "14/14 [==============================] - 0s 566us/step - loss: 1828.6045\n",
      "Epoch 110/150\n",
      "14/14 [==============================] - 0s 548us/step - loss: 1822.3267\n",
      "Epoch 111/150\n",
      "14/14 [==============================] - 0s 586us/step - loss: 1824.6053\n",
      "Epoch 112/150\n",
      "14/14 [==============================] - 0s 570us/step - loss: 1828.5239\n",
      "Epoch 113/150\n",
      "14/14 [==============================] - 0s 530us/step - loss: 1826.0149\n",
      "Epoch 114/150\n",
      "14/14 [==============================] - 0s 551us/step - loss: 1829.6566\n",
      "Epoch 115/150\n",
      "14/14 [==============================] - 0s 514us/step - loss: 1834.6272\n",
      "Epoch 116/150\n",
      "14/14 [==============================] - 0s 556us/step - loss: 1825.8113\n",
      "Epoch 117/150\n",
      "14/14 [==============================] - 0s 531us/step - loss: 1832.1154\n",
      "Epoch 118/150\n",
      "14/14 [==============================] - 0s 539us/step - loss: 1830.7510\n",
      "Epoch 119/150\n",
      "14/14 [==============================] - 0s 543us/step - loss: 1834.1184\n",
      "Epoch 120/150\n",
      "14/14 [==============================] - 0s 580us/step - loss: 1822.8207\n",
      "Epoch 121/150\n",
      "14/14 [==============================] - 0s 554us/step - loss: 1822.2584\n",
      "Epoch 122/150\n",
      "14/14 [==============================] - 0s 566us/step - loss: 1829.0576\n",
      "Epoch 123/150\n",
      "14/14 [==============================] - 0s 552us/step - loss: 1833.0251\n",
      "Epoch 124/150\n",
      "14/14 [==============================] - 0s 554us/step - loss: 1830.8590\n",
      "Epoch 125/150\n",
      "14/14 [==============================] - 0s 555us/step - loss: 1841.4994\n",
      "Epoch 126/150\n",
      "14/14 [==============================] - 0s 568us/step - loss: 1825.7443\n",
      "Epoch 127/150\n",
      "14/14 [==============================] - 0s 524us/step - loss: 1823.9399\n",
      "Epoch 128/150\n",
      "14/14 [==============================] - 0s 554us/step - loss: 1830.7111\n",
      "Epoch 129/150\n",
      "14/14 [==============================] - 0s 560us/step - loss: 1818.4619\n",
      "Epoch 130/150\n",
      "14/14 [==============================] - 0s 555us/step - loss: 1837.2064\n",
      "Epoch 131/150\n",
      "14/14 [==============================] - 0s 573us/step - loss: 1828.2599\n",
      "Epoch 132/150\n",
      "14/14 [==============================] - 0s 546us/step - loss: 1826.8867\n",
      "Epoch 133/150\n",
      "14/14 [==============================] - 0s 532us/step - loss: 1827.8370\n",
      "Epoch 134/150\n",
      "14/14 [==============================] - 0s 533us/step - loss: 1827.1299\n",
      "Epoch 135/150\n",
      "14/14 [==============================] - 0s 560us/step - loss: 1830.8934\n",
      "Epoch 136/150\n",
      "14/14 [==============================] - 0s 551us/step - loss: 1835.8800\n",
      "Epoch 137/150\n",
      "14/14 [==============================] - 0s 553us/step - loss: 1822.5099\n",
      "Epoch 138/150\n",
      "14/14 [==============================] - 0s 577us/step - loss: 1826.5615\n",
      "Epoch 139/150\n",
      "14/14 [==============================] - 0s 580us/step - loss: 1836.3561\n",
      "Epoch 140/150\n",
      "14/14 [==============================] - 0s 571us/step - loss: 1820.7600\n",
      "Epoch 141/150\n",
      "14/14 [==============================] - 0s 567us/step - loss: 1820.0609\n",
      "Epoch 142/150\n",
      "14/14 [==============================] - 0s 543us/step - loss: 1835.3673\n",
      "Epoch 143/150\n",
      "14/14 [==============================] - 0s 566us/step - loss: 1829.2716\n",
      "Epoch 144/150\n",
      "14/14 [==============================] - 0s 554us/step - loss: 1828.0446\n",
      "Epoch 145/150\n",
      "14/14 [==============================] - 0s 554us/step - loss: 1827.2209\n",
      "Epoch 146/150\n",
      "14/14 [==============================] - 0s 551us/step - loss: 1828.5481\n",
      "Epoch 147/150\n",
      "14/14 [==============================] - 0s 566us/step - loss: 1839.5806\n",
      "Epoch 148/150\n",
      "14/14 [==============================] - 0s 565us/step - loss: 1831.0110\n",
      "Epoch 149/150\n",
      "14/14 [==============================] - 0s 579us/step - loss: 1820.8154\n",
      "Epoch 150/150\n",
      "14/14 [==============================] - 0s 590us/step - loss: 1820.2557\n"
     ]
    }
   ],
   "source": [
    "history = model.fit(x,y, epochs=150, batch_size=30)"
   ],
   "metadata": {
    "collapsed": false,
    "pycharm": {
     "name": "#%%\n"
    }
   }
  },
  {
   "cell_type": "markdown",
   "source": [
    "We get a printed output for each episodes, showing some information about the step. Below the 'Epochs', we see that a batch size of 30 at a 300 observations results in 10 (300 divided by 30) updates per epoch.\n",
    "\n",
    "Of more interest is the rightmost piece of information, the loss. As the weights are adjusted, the model predictions fit the data progressively better - the loss decreases. At some point, the model in its current configuration reaches an optimal weight setting and the loss will oscillate around some value.\n",
    "\n",
    "Note that by setting `verbose=0`, we can suppress any output.\n",
    "\n",
    "Using `history` we can now plot the loss over time/epochs. To do so, we use \"our\" `history` object and access its `.history` attribute, which is a dict:"
   ],
   "metadata": {
    "collapsed": false,
    "pycharm": {
     "name": "#%% md\n"
    }
   }
  },
  {
   "cell_type": "code",
   "execution_count": 7,
   "outputs": [
    {
     "name": "stdout",
     "output_type": "stream",
     "text": [
      "<class 'dict'>\n",
      "dict_keys(['loss'])\n"
     ]
    }
   ],
   "source": [
    "print(type(history.history))\n",
    "print(history.history.keys())"
   ],
   "metadata": {
    "collapsed": false,
    "pycharm": {
     "name": "#%%\n"
    }
   }
  },
  {
   "cell_type": "markdown",
   "source": [
    "Note that more values may be added to this dict. We will see this case for the next model.\n",
    "\n",
    "With matplotlib, we plot the loss over time."
   ],
   "metadata": {
    "collapsed": false,
    "pycharm": {
     "name": "#%% md\n"
    }
   }
  },
  {
   "cell_type": "code",
   "execution_count": 8,
   "outputs": [
    {
     "data": {
      "text/plain": "[<matplotlib.lines.Line2D at 0x7faa18b00520>]"
     },
     "execution_count": 8,
     "metadata": {},
     "output_type": "execute_result"
    },
    {
     "data": {
      "text/plain": "<Figure size 432x288 with 1 Axes>",
      "image/png": "[encoded data removed]"
     },
     "metadata": {
      "needs_background": "light"
     },
     "output_type": "display_data"
    }
   ],
   "source": [
    "plt.plot(history.history['loss'])"
   ],
   "metadata": {
    "collapsed": false,
    "pycharm": {
     "name": "#%%\n"
    }
   }
  },
  {
   "cell_type": "markdown",
   "source": [
    "Apparently, the loss dropped very quickly in the beginning and reaches a minimal level after about 75 epochs.\n",
    "\n",
    "Beside the `history` object, we can take a look at the trained weights by calling `model.get_weights()`."
   ],
   "metadata": {
    "collapsed": false,
    "pycharm": {
     "name": "#%% md\n"
    }
   }
  },
  {
   "cell_type": "code",
   "execution_count": 9,
   "outputs": [
    {
     "name": "stdout",
     "output_type": "stream",
     "text": [
      "hidden_layer: weights [array([[3.687329 , 2.6136518]], dtype=float32), array([-10.034517,  -7.102841], dtype=float32)]\n",
      "output_layer: weights [array([[13.204637],\n",
      "       [ 5.165712]], dtype=float32), array([33.05681], dtype=float32)]\n"
     ]
    }
   ],
   "source": [
    "for layer in model.layers:\n",
    "    print(f\"{layer.name}: weights {layer.get_weights()}\")"
   ],
   "metadata": {
    "collapsed": false,
    "pycharm": {
     "name": "#%%\n"
    }
   }
  },
  {
   "cell_type": "markdown",
   "source": [
    "For each layer, we see the number of entries corresponding to 'params' in the model summary above. The first array per layer gives the weights, the second array the bias.\n",
    "\n",
    "Note here, that it is perfectly possible to save the weights of a model, e.g. in a file, and then load this model again later by setting these weights to the model weights. Of course, the model configuration must remain the same in order to use the weights. However, the already implemented `.save('my_path')` method does exactly that. To load the model, use `.model.load('my_path')`.\n",
    "\n",
    "To see the predicitions from our model, we use the `.predict()` method, to which we only pass the x values, and store the result in a variable."
   ],
   "metadata": {
    "collapsed": false
   }
  },
  {
   "cell_type": "code",
   "execution_count": 10,
   "outputs": [],
   "source": [
    "y_pred = model.predict(x)"
   ],
   "metadata": {
    "collapsed": false,
    "pycharm": {
     "name": "#%%\n"
    }
   }
  },
  {
   "cell_type": "markdown",
   "source": [
    "Finally, we can get a look on how this simple neural network approximates our data:"
   ],
   "metadata": {
    "collapsed": false,
    "pycharm": {
     "name": "#%% md\n"
    }
   }
  },
  {
   "cell_type": "code",
   "execution_count": 11,
   "outputs": [
    {
     "data": {
      "text/plain": "<Figure size 432x288 with 1 Axes>",
      "image/png": "[encoded data removed]"
     },
     "metadata": {
      "needs_background": "light"
     },
     "output_type": "display_data"
    }
   ],
   "source": [
    "plt.scatter(x, y)\n",
    "plt.plot(x,y_pred.reshape(-1), color='orange', lw=4)\n",
    "plt.show()"
   ],
   "metadata": {
    "collapsed": false,
    "pycharm": {
     "name": "#%%\n"
    }
   }
  },
  {
   "cell_type": "markdown",
   "source": [
    "Interestingly, the ReLU shape of the function can be seen rather clearly."
   ],
   "metadata": {
    "collapsed": false,
    "pycharm": {
     "name": "#%% md\n"
    }
   }
  },
  {
   "cell_type": "markdown",
   "source": [
    "Now, let's try to do better than that."
   ],
   "metadata": {
    "collapsed": false,
    "pycharm": {
     "name": "#%% md\n"
    }
   }
  },
  {
   "cell_type": "markdown",
   "source": [
    "## A more complex model\n",
    "\n",
    "We will now test if a more flexible, more complex model with more layers and neurons, will approximate the data more accurately\n",
    "\n",
    "First, we define a this new model as seen above."
   ],
   "metadata": {
    "collapsed": false,
    "pycharm": {
     "name": "#%% md\n"
    }
   }
  },
  {
   "cell_type": "code",
   "execution_count": 12,
   "outputs": [],
   "source": [
    "random.set_seed(11)\n",
    "\n",
    "better_model = keras.Sequential([\n",
    "        keras.layers.Dense(22, activation=\"relu\", name=\"l1\"),\n",
    "        keras.layers.Dense(11, activation=\"relu\", name=\"l2\"),\n",
    "        keras.layers.Dense(1, name=\"lo\"),\n",
    "])"
   ],
   "metadata": {
    "collapsed": false,
    "pycharm": {
     "name": "#%%\n"
    }
   }
  },
  {
   "cell_type": "markdown",
   "source": [
    "We will try a smaller learning rate (and may thus increase the number of epochs)."
   ],
   "metadata": {
    "collapsed": false,
    "pycharm": {
     "name": "#%% md\n"
    }
   }
  },
  {
   "cell_type": "code",
   "execution_count": 13,
   "outputs": [],
   "source": [
    "better_model.compile(optimizer=keras.optimizers.RMSprop(learning_rate=6e-3), loss=keras.losses.MeanSquaredError())"
   ],
   "metadata": {
    "collapsed": false,
    "pycharm": {
     "name": "#%%\n"
    }
   }
  },
  {
   "cell_type": "markdown",
   "source": [
    "Usually, when training a model, we split the data into a training and test set. We will do this using sklearn's `train_test_split`. Conveniently, in Keras, we can pass the validation data using the `validation_data` argument of `.fit()`.\n",
    "\n",
    "Another possibility is to use `validation_split`, which will, when set for example to `.2`, omit 20% of the training data and evaluate the performance for this \"unknown\" part of the data. Beware, that this will only work for shuffled data, as the validation data is taken from the last entries of the data."
   ],
   "metadata": {
    "collapsed": false,
    "pycharm": {
     "name": "#%% md\n"
    }
   }
  },
  {
   "cell_type": "code",
   "execution_count": 14,
   "outputs": [],
   "source": [
    "from sklearn.model_selection import train_test_split\n",
    "\n",
    "x_train, x_test, y_train, y_test = train_test_split(x, y, test_size=0.15, random_state= 22)"
   ],
   "metadata": {
    "collapsed": false,
    "pycharm": {
     "name": "#%%\n"
    }
   }
  },
  {
   "cell_type": "code",
   "execution_count": 15,
   "outputs": [
    {
     "name": "stdout",
     "output_type": "stream",
     "text": [
      "Epoch 1/300\n",
      "11/11 [==============================] - 0s 10ms/step - loss: 4423.1855 - val_loss: 4764.9458\n",
      "Epoch 2/300\n",
      "11/11 [==============================] - 0s 2ms/step - loss: 4059.0317 - val_loss: 4278.1099\n",
      "Epoch 3/300\n",
      "11/11 [==============================] - 0s 2ms/step - loss: 3626.5308 - val_loss: 3720.9053\n",
      "Epoch 4/300\n",
      "11/11 [==============================] - 0s 2ms/step - loss: 3185.1636 - val_loss: 3132.7334\n",
      "Epoch 5/300\n",
      "11/11 [==============================] - 0s 2ms/step - loss: 2836.7124 - val_loss: 2668.0583\n",
      "Epoch 6/300\n",
      "11/11 [==============================] - 0s 2ms/step - loss: 2599.5562 - val_loss: 2324.5557\n",
      "Epoch 7/300\n",
      "11/11 [==============================] - 0s 2ms/step - loss: 2489.2905 - val_loss: 2163.7839\n",
      "Epoch 8/300\n",
      "11/11 [==============================] - 0s 2ms/step - loss: 2437.2393 - val_loss: 2089.0007\n",
      "Epoch 9/300\n",
      "11/11 [==============================] - 0s 2ms/step - loss: 2427.4380 - val_loss: 2063.6453\n",
      "Epoch 10/300\n",
      "11/11 [==============================] - 0s 2ms/step - loss: 2407.3762 - val_loss: 2048.8547\n",
      "Epoch 11/300\n",
      "11/11 [==============================] - 0s 2ms/step - loss: 2407.6294 - val_loss: 2029.6438\n",
      "Epoch 12/300\n",
      "11/11 [==============================] - 0s 2ms/step - loss: 2382.4631 - val_loss: 1984.9429\n",
      "Epoch 13/300\n",
      "11/11 [==============================] - 0s 2ms/step - loss: 2384.2124 - val_loss: 1997.3094\n",
      "Epoch 14/300\n",
      "11/11 [==============================] - 0s 2ms/step - loss: 2367.7571 - val_loss: 1988.3342\n",
      "Epoch 15/300\n",
      "11/11 [==============================] - 0s 2ms/step - loss: 2362.3262 - val_loss: 1971.9707\n",
      "Epoch 16/300\n",
      "11/11 [==============================] - 0s 2ms/step - loss: 2352.3003 - val_loss: 1972.9386\n",
      "Epoch 17/300\n",
      "11/11 [==============================] - 0s 2ms/step - loss: 2347.5779 - val_loss: 1963.9500\n",
      "Epoch 18/300\n",
      "11/11 [==============================] - 0s 2ms/step - loss: 2330.2170 - val_loss: 1960.7595\n",
      "Epoch 19/300\n",
      "11/11 [==============================] - 0s 2ms/step - loss: 2321.6382 - val_loss: 1949.4347\n",
      "Epoch 20/300\n",
      "11/11 [==============================] - 0s 2ms/step - loss: 2320.4150 - val_loss: 1945.5450\n",
      "Epoch 21/300\n",
      "11/11 [==============================] - 0s 2ms/step - loss: 2307.5754 - val_loss: 1958.1935\n",
      "Epoch 22/300\n",
      "11/11 [==============================] - 0s 2ms/step - loss: 2299.6653 - val_loss: 1933.4589\n",
      "Epoch 23/300\n",
      "11/11 [==============================] - 0s 2ms/step - loss: 2289.7957 - val_loss: 1909.0164\n",
      "Epoch 24/300\n",
      "11/11 [==============================] - 0s 2ms/step - loss: 2280.6848 - val_loss: 1876.4146\n",
      "Epoch 25/300\n",
      "11/11 [==============================] - 0s 2ms/step - loss: 2276.5193 - val_loss: 1878.9860\n",
      "Epoch 26/300\n",
      "11/11 [==============================] - 0s 2ms/step - loss: 2254.3245 - val_loss: 1852.4825\n",
      "Epoch 27/300\n",
      "11/11 [==============================] - 0s 2ms/step - loss: 2250.8765 - val_loss: 1860.3118\n",
      "Epoch 28/300\n",
      "11/11 [==============================] - 0s 2ms/step - loss: 2238.4756 - val_loss: 1857.7333\n",
      "Epoch 29/300\n",
      "11/11 [==============================] - 0s 2ms/step - loss: 2223.3657 - val_loss: 1819.0338\n",
      "Epoch 30/300\n",
      "11/11 [==============================] - 0s 2ms/step - loss: 2215.9365 - val_loss: 1829.9100\n",
      "Epoch 31/300\n",
      "11/11 [==============================] - 0s 2ms/step - loss: 2205.3125 - val_loss: 1827.1034\n",
      "Epoch 32/300\n",
      "11/11 [==============================] - 0s 2ms/step - loss: 2191.2227 - val_loss: 1861.8767\n",
      "Epoch 33/300\n",
      "11/11 [==============================] - 0s 2ms/step - loss: 2184.6960 - val_loss: 1803.9115\n",
      "Epoch 34/300\n",
      "11/11 [==============================] - 0s 2ms/step - loss: 2170.4136 - val_loss: 1833.3708\n",
      "Epoch 35/300\n",
      "11/11 [==============================] - 0s 2ms/step - loss: 2156.1624 - val_loss: 1833.1395\n",
      "Epoch 36/300\n",
      "11/11 [==============================] - 0s 2ms/step - loss: 2143.2627 - val_loss: 1836.7909\n",
      "Epoch 37/300\n",
      "11/11 [==============================] - 0s 2ms/step - loss: 2139.5339 - val_loss: 1835.0956\n",
      "Epoch 38/300\n",
      "11/11 [==============================] - 0s 2ms/step - loss: 2126.5618 - val_loss: 1825.0632\n",
      "Epoch 39/300\n",
      "11/11 [==============================] - 0s 2ms/step - loss: 2109.2195 - val_loss: 1771.9906\n",
      "Epoch 40/300\n",
      "11/11 [==============================] - 0s 2ms/step - loss: 2086.7637 - val_loss: 1759.2365\n",
      "Epoch 41/300\n",
      "11/11 [==============================] - 0s 2ms/step - loss: 2076.6611 - val_loss: 1755.3175\n",
      "Epoch 42/300\n",
      "11/11 [==============================] - 0s 2ms/step - loss: 2070.6731 - val_loss: 1740.5669\n",
      "Epoch 43/300\n",
      "11/11 [==============================] - 0s 2ms/step - loss: 2040.1595 - val_loss: 1703.7441\n",
      "Epoch 44/300\n",
      "11/11 [==============================] - 0s 2ms/step - loss: 2035.1434 - val_loss: 1699.3903\n",
      "Epoch 45/300\n",
      "11/11 [==============================] - 0s 2ms/step - loss: 2012.0614 - val_loss: 1726.3231\n",
      "Epoch 46/300\n",
      "11/11 [==============================] - 0s 2ms/step - loss: 2003.1420 - val_loss: 1699.9490\n",
      "Epoch 47/300\n",
      "11/11 [==============================] - 0s 2ms/step - loss: 1987.6171 - val_loss: 1706.2931\n",
      "Epoch 48/300\n",
      "11/11 [==============================] - 0s 2ms/step - loss: 1973.0715 - val_loss: 1710.7201\n",
      "Epoch 49/300\n",
      "11/11 [==============================] - 0s 2ms/step - loss: 1955.0940 - val_loss: 1659.9407\n",
      "Epoch 50/300\n",
      "11/11 [==============================] - 0s 2ms/step - loss: 1938.7159 - val_loss: 1668.3157\n",
      "Epoch 51/300\n",
      "11/11 [==============================] - 0s 2ms/step - loss: 1929.2072 - val_loss: 1646.7941\n",
      "Epoch 52/300\n",
      "11/11 [==============================] - 0s 2ms/step - loss: 1905.4500 - val_loss: 1619.4000\n",
      "Epoch 53/300\n",
      "11/11 [==============================] - 0s 2ms/step - loss: 1909.9764 - val_loss: 1623.9551\n",
      "Epoch 54/300\n",
      "11/11 [==============================] - 0s 2ms/step - loss: 1879.2267 - val_loss: 1636.4708\n",
      "Epoch 55/300\n",
      "11/11 [==============================] - 0s 2ms/step - loss: 1868.8823 - val_loss: 1621.0387\n",
      "Epoch 56/300\n",
      "11/11 [==============================] - 0s 2ms/step - loss: 1854.0105 - val_loss: 1613.7264\n",
      "Epoch 57/300\n",
      "11/11 [==============================] - 0s 2ms/step - loss: 1846.2897 - val_loss: 1583.8146\n",
      "Epoch 58/300\n",
      "11/11 [==============================] - 0s 2ms/step - loss: 1831.8914 - val_loss: 1598.0284\n",
      "Epoch 59/300\n",
      "11/11 [==============================] - 0s 2ms/step - loss: 1817.3688 - val_loss: 1568.4608\n",
      "Epoch 60/300\n",
      "11/11 [==============================] - 0s 2ms/step - loss: 1801.6073 - val_loss: 1560.3635\n",
      "Epoch 61/300\n",
      "11/11 [==============================] - 0s 2ms/step - loss: 1786.0494 - val_loss: 1600.6619\n",
      "Epoch 62/300\n",
      "11/11 [==============================] - 0s 2ms/step - loss: 1780.4113 - val_loss: 1557.3508\n",
      "Epoch 63/300\n",
      "11/11 [==============================] - 0s 2ms/step - loss: 1772.9723 - val_loss: 1536.3665\n",
      "Epoch 64/300\n",
      "11/11 [==============================] - 0s 2ms/step - loss: 1776.1638 - val_loss: 1542.3396\n",
      "Epoch 65/300\n",
      "11/11 [==============================] - 0s 2ms/step - loss: 1759.9691 - val_loss: 1531.1531\n",
      "Epoch 66/300\n",
      "11/11 [==============================] - 0s 2ms/step - loss: 1747.2798 - val_loss: 1501.9725\n",
      "Epoch 67/300\n",
      "11/11 [==============================] - 0s 2ms/step - loss: 1738.1222 - val_loss: 1551.6027\n",
      "Epoch 68/300\n",
      "11/11 [==============================] - 0s 2ms/step - loss: 1739.1207 - val_loss: 1524.2706\n",
      "Epoch 69/300\n",
      "11/11 [==============================] - 0s 2ms/step - loss: 1716.2754 - val_loss: 1564.8651\n",
      "Epoch 70/300\n",
      "11/11 [==============================] - 0s 2ms/step - loss: 1722.5901 - val_loss: 1514.6958\n",
      "Epoch 71/300\n",
      "11/11 [==============================] - 0s 2ms/step - loss: 1710.8722 - val_loss: 1515.2950\n",
      "Epoch 72/300\n",
      "11/11 [==============================] - 0s 2ms/step - loss: 1712.9485 - val_loss: 1556.0962\n",
      "Epoch 73/300\n",
      "11/11 [==============================] - 0s 2ms/step - loss: 1707.2096 - val_loss: 1521.9677\n",
      "Epoch 74/300\n",
      "11/11 [==============================] - 0s 2ms/step - loss: 1707.4171 - val_loss: 1517.0468\n",
      "Epoch 75/300\n",
      "11/11 [==============================] - 0s 2ms/step - loss: 1689.7064 - val_loss: 1554.9518\n",
      "Epoch 76/300\n",
      "11/11 [==============================] - 0s 2ms/step - loss: 1697.2592 - val_loss: 1548.3118\n",
      "Epoch 77/300\n",
      "11/11 [==============================] - 0s 2ms/step - loss: 1695.2754 - val_loss: 1520.6616\n",
      "Epoch 78/300\n",
      "11/11 [==============================] - 0s 2ms/step - loss: 1682.7366 - val_loss: 1532.7892\n",
      "Epoch 79/300\n",
      "11/11 [==============================] - 0s 2ms/step - loss: 1684.2969 - val_loss: 1524.4120\n",
      "Epoch 80/300\n",
      "11/11 [==============================] - 0s 2ms/step - loss: 1691.0632 - val_loss: 1528.9172\n",
      "Epoch 81/300\n",
      "11/11 [==============================] - 0s 2ms/step - loss: 1678.7395 - val_loss: 1515.5262\n",
      "Epoch 82/300\n",
      "11/11 [==============================] - 0s 2ms/step - loss: 1674.1667 - val_loss: 1553.6654\n",
      "Epoch 83/300\n",
      "11/11 [==============================] - 0s 2ms/step - loss: 1660.8284 - val_loss: 1498.9338\n",
      "Epoch 84/300\n",
      "11/11 [==============================] - 0s 2ms/step - loss: 1669.5421 - val_loss: 1517.6790\n",
      "Epoch 85/300\n",
      "11/11 [==============================] - 0s 2ms/step - loss: 1668.9930 - val_loss: 1519.8484\n",
      "Epoch 86/300\n",
      "11/11 [==============================] - 0s 2ms/step - loss: 1659.4877 - val_loss: 1564.2252\n",
      "Epoch 87/300\n",
      "11/11 [==============================] - 0s 2ms/step - loss: 1654.0789 - val_loss: 1504.6898\n",
      "Epoch 88/300\n",
      "11/11 [==============================] - 0s 2ms/step - loss: 1662.3572 - val_loss: 1499.4330\n",
      "Epoch 89/300\n",
      "11/11 [==============================] - 0s 2ms/step - loss: 1652.7659 - val_loss: 1537.8497\n",
      "Epoch 90/300\n",
      "11/11 [==============================] - 0s 2ms/step - loss: 1648.4963 - val_loss: 1552.9883\n",
      "Epoch 91/300\n",
      "11/11 [==============================] - 0s 2ms/step - loss: 1646.8544 - val_loss: 1547.1010\n",
      "Epoch 92/300\n",
      "11/11 [==============================] - 0s 2ms/step - loss: 1640.8298 - val_loss: 1524.5757\n",
      "Epoch 93/300\n",
      "11/11 [==============================] - 0s 2ms/step - loss: 1655.3790 - val_loss: 1534.5071\n",
      "Epoch 94/300\n",
      "11/11 [==============================] - 0s 2ms/step - loss: 1636.5000 - val_loss: 1572.8560\n",
      "Epoch 95/300\n",
      "11/11 [==============================] - 0s 2ms/step - loss: 1642.4287 - val_loss: 1526.5636\n",
      "Epoch 96/300\n",
      "11/11 [==============================] - 0s 2ms/step - loss: 1636.4489 - val_loss: 1510.4445\n",
      "Epoch 97/300\n",
      "11/11 [==============================] - 0s 2ms/step - loss: 1629.0291 - val_loss: 1511.6960\n",
      "Epoch 98/300\n",
      "11/11 [==============================] - 0s 2ms/step - loss: 1630.6163 - val_loss: 1538.9628\n",
      "Epoch 99/300\n",
      "11/11 [==============================] - 0s 2ms/step - loss: 1633.2094 - val_loss: 1525.2015\n",
      "Epoch 100/300\n",
      "11/11 [==============================] - 0s 2ms/step - loss: 1626.9652 - val_loss: 1543.1016\n",
      "Epoch 101/300\n",
      "11/11 [==============================] - 0s 2ms/step - loss: 1627.0695 - val_loss: 1564.2291\n",
      "Epoch 102/300\n",
      "11/11 [==============================] - 0s 2ms/step - loss: 1621.2656 - val_loss: 1527.1366\n",
      "Epoch 103/300\n",
      "11/11 [==============================] - 0s 2ms/step - loss: 1638.5375 - val_loss: 1561.5431\n",
      "Epoch 104/300\n",
      "11/11 [==============================] - 0s 2ms/step - loss: 1635.5902 - val_loss: 1559.9377\n",
      "Epoch 105/300\n",
      "11/11 [==============================] - 0s 2ms/step - loss: 1631.9353 - val_loss: 1526.4905\n",
      "Epoch 106/300\n",
      "11/11 [==============================] - 0s 2ms/step - loss: 1631.1542 - val_loss: 1565.6115\n",
      "Epoch 107/300\n",
      "11/11 [==============================] - 0s 2ms/step - loss: 1621.7507 - val_loss: 1556.8276\n",
      "Epoch 108/300\n",
      "11/11 [==============================] - 0s 2ms/step - loss: 1609.6445 - val_loss: 1537.3052\n",
      "Epoch 109/300\n",
      "11/11 [==============================] - 0s 2ms/step - loss: 1622.6921 - val_loss: 1569.3217\n",
      "Epoch 110/300\n",
      "11/11 [==============================] - 0s 2ms/step - loss: 1625.3201 - val_loss: 1535.8531\n",
      "Epoch 111/300\n",
      "11/11 [==============================] - 0s 2ms/step - loss: 1609.6055 - val_loss: 1558.5278\n",
      "Epoch 112/300\n",
      "11/11 [==============================] - 0s 2ms/step - loss: 1608.5817 - val_loss: 1626.5984\n",
      "Epoch 113/300\n",
      "11/11 [==============================] - 0s 2ms/step - loss: 1617.4250 - val_loss: 1555.0901\n",
      "Epoch 114/300\n",
      "11/11 [==============================] - 0s 2ms/step - loss: 1608.8340 - val_loss: 1548.9974\n",
      "Epoch 115/300\n",
      "11/11 [==============================] - 0s 2ms/step - loss: 1606.7340 - val_loss: 1509.8851\n",
      "Epoch 116/300\n",
      "11/11 [==============================] - 0s 2ms/step - loss: 1608.7386 - val_loss: 1540.9830\n",
      "Epoch 117/300\n",
      "11/11 [==============================] - 0s 2ms/step - loss: 1634.4485 - val_loss: 1551.6420\n",
      "Epoch 118/300\n",
      "11/11 [==============================] - 0s 2ms/step - loss: 1603.2123 - val_loss: 1567.3442\n",
      "Epoch 119/300\n",
      "11/11 [==============================] - 0s 2ms/step - loss: 1601.6088 - val_loss: 1602.0024\n",
      "Epoch 120/300\n",
      "11/11 [==============================] - 0s 2ms/step - loss: 1601.8127 - val_loss: 1543.4882\n",
      "Epoch 121/300\n",
      "11/11 [==============================] - 0s 2ms/step - loss: 1601.4474 - val_loss: 1543.1669\n",
      "Epoch 122/300\n",
      "11/11 [==============================] - 0s 2ms/step - loss: 1599.8573 - val_loss: 1519.5914\n",
      "Epoch 123/300\n",
      "11/11 [==============================] - 0s 2ms/step - loss: 1603.9243 - val_loss: 1552.5315\n",
      "Epoch 124/300\n",
      "11/11 [==============================] - 0s 2ms/step - loss: 1593.6224 - val_loss: 1530.9850\n",
      "Epoch 125/300\n",
      "11/11 [==============================] - 0s 2ms/step - loss: 1601.7449 - val_loss: 1556.5278\n",
      "Epoch 126/300\n",
      "11/11 [==============================] - 0s 2ms/step - loss: 1604.2119 - val_loss: 1577.8442\n",
      "Epoch 127/300\n",
      "11/11 [==============================] - 0s 2ms/step - loss: 1597.8873 - val_loss: 1545.0284\n",
      "Epoch 128/300\n",
      "11/11 [==============================] - 0s 2ms/step - loss: 1601.1166 - val_loss: 1584.9552\n",
      "Epoch 129/300\n",
      "11/11 [==============================] - 0s 2ms/step - loss: 1597.3550 - val_loss: 1583.9049\n",
      "Epoch 130/300\n",
      "11/11 [==============================] - 0s 2ms/step - loss: 1598.3264 - val_loss: 1572.8289\n",
      "Epoch 131/300\n",
      "11/11 [==============================] - 0s 2ms/step - loss: 1593.5022 - val_loss: 1557.4766\n",
      "Epoch 132/300\n",
      "11/11 [==============================] - 0s 2ms/step - loss: 1592.7837 - val_loss: 1543.2180\n",
      "Epoch 133/300\n",
      "11/11 [==============================] - 0s 2ms/step - loss: 1603.6610 - val_loss: 1554.4800\n",
      "Epoch 134/300\n",
      "11/11 [==============================] - 0s 2ms/step - loss: 1589.2123 - val_loss: 1536.2039\n",
      "Epoch 135/300\n",
      "11/11 [==============================] - 0s 2ms/step - loss: 1594.7056 - val_loss: 1561.5310\n",
      "Epoch 136/300\n",
      "11/11 [==============================] - 0s 2ms/step - loss: 1595.2435 - val_loss: 1557.5048\n",
      "Epoch 137/300\n",
      "11/11 [==============================] - 0s 2ms/step - loss: 1591.3816 - val_loss: 1546.0234\n",
      "Epoch 138/300\n",
      "11/11 [==============================] - 0s 2ms/step - loss: 1592.2623 - val_loss: 1548.6661\n",
      "Epoch 139/300\n",
      "11/11 [==============================] - 0s 2ms/step - loss: 1600.5662 - val_loss: 1547.2429\n",
      "Epoch 140/300\n",
      "11/11 [==============================] - 0s 2ms/step - loss: 1599.4938 - val_loss: 1562.3004\n",
      "Epoch 141/300\n",
      "11/11 [==============================] - 0s 2ms/step - loss: 1571.6519 - val_loss: 1525.0636\n",
      "Epoch 142/300\n",
      "11/11 [==============================] - 0s 2ms/step - loss: 1591.9324 - val_loss: 1573.1453\n",
      "Epoch 143/300\n",
      "11/11 [==============================] - 0s 2ms/step - loss: 1585.0814 - val_loss: 1572.6677\n",
      "Epoch 144/300\n",
      "11/11 [==============================] - 0s 2ms/step - loss: 1591.8785 - val_loss: 1554.7677\n",
      "Epoch 145/300\n",
      "11/11 [==============================] - 0s 2ms/step - loss: 1575.1523 - val_loss: 1587.6812\n",
      "Epoch 146/300\n",
      "11/11 [==============================] - 0s 2ms/step - loss: 1574.8285 - val_loss: 1568.2628\n",
      "Epoch 147/300\n",
      "11/11 [==============================] - 0s 2ms/step - loss: 1594.5159 - val_loss: 1570.6367\n",
      "Epoch 148/300\n",
      "11/11 [==============================] - 0s 2ms/step - loss: 1584.5305 - val_loss: 1546.7961\n",
      "Epoch 149/300\n",
      "11/11 [==============================] - 0s 2ms/step - loss: 1581.7692 - val_loss: 1532.8899\n",
      "Epoch 150/300\n",
      "11/11 [==============================] - 0s 2ms/step - loss: 1597.2368 - val_loss: 1539.4625\n",
      "Epoch 151/300\n",
      "11/11 [==============================] - 0s 2ms/step - loss: 1582.0146 - val_loss: 1520.5320\n",
      "Epoch 152/300\n",
      "11/11 [==============================] - 0s 2ms/step - loss: 1600.4520 - val_loss: 1517.5708\n",
      "Epoch 153/300\n",
      "11/11 [==============================] - 0s 2ms/step - loss: 1582.8906 - val_loss: 1525.6820\n",
      "Epoch 154/300\n",
      "11/11 [==============================] - 0s 2ms/step - loss: 1585.0962 - val_loss: 1554.5916\n",
      "Epoch 155/300\n",
      "11/11 [==============================] - 0s 2ms/step - loss: 1584.7213 - val_loss: 1552.6920\n",
      "Epoch 156/300\n",
      "11/11 [==============================] - 0s 2ms/step - loss: 1583.2677 - val_loss: 1552.2941\n",
      "Epoch 157/300\n",
      "11/11 [==============================] - 0s 2ms/step - loss: 1604.7129 - val_loss: 1577.1658\n",
      "Epoch 158/300\n",
      "11/11 [==============================] - 0s 2ms/step - loss: 1579.1442 - val_loss: 1541.2098\n",
      "Epoch 159/300\n",
      "11/11 [==============================] - 0s 2ms/step - loss: 1590.1934 - val_loss: 1562.9781\n",
      "Epoch 160/300\n",
      "11/11 [==============================] - 0s 2ms/step - loss: 1581.8678 - val_loss: 1525.3079\n",
      "Epoch 161/300\n",
      "11/11 [==============================] - 0s 2ms/step - loss: 1582.3097 - val_loss: 1546.0269\n",
      "Epoch 162/300\n",
      "11/11 [==============================] - 0s 2ms/step - loss: 1587.5035 - val_loss: 1544.0813\n",
      "Epoch 163/300\n",
      "11/11 [==============================] - 0s 2ms/step - loss: 1584.4094 - val_loss: 1544.0259\n",
      "Epoch 164/300\n",
      "11/11 [==============================] - 0s 2ms/step - loss: 1579.3372 - val_loss: 1567.4923\n",
      "Epoch 165/300\n",
      "11/11 [==============================] - 0s 2ms/step - loss: 1584.9952 - val_loss: 1557.6849\n",
      "Epoch 166/300\n",
      "11/11 [==============================] - 0s 2ms/step - loss: 1575.2402 - val_loss: 1605.4515\n",
      "Epoch 167/300\n",
      "11/11 [==============================] - 0s 2ms/step - loss: 1590.4186 - val_loss: 1547.1206\n",
      "Epoch 168/300\n",
      "11/11 [==============================] - 0s 2ms/step - loss: 1584.8517 - val_loss: 1534.5641\n",
      "Epoch 169/300\n",
      "11/11 [==============================] - 0s 2ms/step - loss: 1573.8840 - val_loss: 1586.3196\n",
      "Epoch 170/300\n",
      "11/11 [==============================] - 0s 2ms/step - loss: 1567.0675 - val_loss: 1563.1681\n",
      "Epoch 171/300\n",
      "11/11 [==============================] - 0s 2ms/step - loss: 1577.1860 - val_loss: 1536.2443\n",
      "Epoch 172/300\n",
      "11/11 [==============================] - 0s 2ms/step - loss: 1586.8375 - val_loss: 1521.8265\n",
      "Epoch 173/300\n",
      "11/11 [==============================] - 0s 2ms/step - loss: 1570.8157 - val_loss: 1623.8457\n",
      "Epoch 174/300\n",
      "11/11 [==============================] - 0s 2ms/step - loss: 1593.0073 - val_loss: 1567.9115\n",
      "Epoch 175/300\n",
      "11/11 [==============================] - 0s 2ms/step - loss: 1574.0054 - val_loss: 1570.0867\n",
      "Epoch 176/300\n",
      "11/11 [==============================] - 0s 2ms/step - loss: 1576.5784 - val_loss: 1579.1342\n",
      "Epoch 177/300\n",
      "11/11 [==============================] - 0s 2ms/step - loss: 1566.2333 - val_loss: 1573.2433\n",
      "Epoch 178/300\n",
      "11/11 [==============================] - 0s 2ms/step - loss: 1589.8158 - val_loss: 1578.4375\n",
      "Epoch 179/300\n",
      "11/11 [==============================] - 0s 2ms/step - loss: 1595.2684 - val_loss: 1551.7893\n",
      "Epoch 180/300\n",
      "11/11 [==============================] - 0s 2ms/step - loss: 1575.2947 - val_loss: 1570.6444\n",
      "Epoch 181/300\n",
      "11/11 [==============================] - 0s 2ms/step - loss: 1575.6421 - val_loss: 1553.1021\n",
      "Epoch 182/300\n",
      "11/11 [==============================] - 0s 2ms/step - loss: 1589.1985 - val_loss: 1530.7257\n",
      "Epoch 183/300\n",
      "11/11 [==============================] - 0s 2ms/step - loss: 1574.0476 - val_loss: 1584.0522\n",
      "Epoch 184/300\n",
      "11/11 [==============================] - 0s 2ms/step - loss: 1579.0439 - val_loss: 1561.8593\n",
      "Epoch 185/300\n",
      "11/11 [==============================] - 0s 2ms/step - loss: 1585.8994 - val_loss: 1592.4614\n",
      "Epoch 186/300\n",
      "11/11 [==============================] - 0s 2ms/step - loss: 1580.5999 - val_loss: 1586.7515\n",
      "Epoch 187/300\n",
      "11/11 [==============================] - 0s 2ms/step - loss: 1575.4419 - val_loss: 1583.8198\n",
      "Epoch 188/300\n",
      "11/11 [==============================] - 0s 2ms/step - loss: 1581.0305 - val_loss: 1544.8184\n",
      "Epoch 189/300\n",
      "11/11 [==============================] - 0s 2ms/step - loss: 1582.2794 - val_loss: 1558.7670\n",
      "Epoch 190/300\n",
      "11/11 [==============================] - 0s 2ms/step - loss: 1555.6042 - val_loss: 1623.3396\n",
      "Epoch 191/300\n",
      "11/11 [==============================] - 0s 2ms/step - loss: 1576.8892 - val_loss: 1534.8136\n",
      "Epoch 192/300\n",
      "11/11 [==============================] - 0s 2ms/step - loss: 1582.4779 - val_loss: 1562.0891\n",
      "Epoch 193/300\n",
      "11/11 [==============================] - 0s 2ms/step - loss: 1588.1860 - val_loss: 1546.0768\n",
      "Epoch 194/300\n",
      "11/11 [==============================] - 0s 2ms/step - loss: 1566.7875 - val_loss: 1536.5773\n",
      "Epoch 195/300\n",
      "11/11 [==============================] - 0s 2ms/step - loss: 1570.4266 - val_loss: 1548.6268\n",
      "Epoch 196/300\n",
      "11/11 [==============================] - 0s 2ms/step - loss: 1568.4626 - val_loss: 1570.4242\n",
      "Epoch 197/300\n",
      "11/11 [==============================] - 0s 2ms/step - loss: 1594.3583 - val_loss: 1552.9857\n",
      "Epoch 198/300\n",
      "11/11 [==============================] - 0s 2ms/step - loss: 1571.0608 - val_loss: 1570.5228\n",
      "Epoch 199/300\n",
      "11/11 [==============================] - 0s 2ms/step - loss: 1573.9783 - val_loss: 1607.8411\n",
      "Epoch 200/300\n",
      "11/11 [==============================] - 0s 2ms/step - loss: 1567.0817 - val_loss: 1536.7209\n",
      "Epoch 201/300\n",
      "11/11 [==============================] - 0s 2ms/step - loss: 1582.2728 - val_loss: 1554.9406\n",
      "Epoch 202/300\n",
      "11/11 [==============================] - 0s 2ms/step - loss: 1577.5270 - val_loss: 1580.7789\n",
      "Epoch 203/300\n",
      "11/11 [==============================] - 0s 2ms/step - loss: 1569.0411 - val_loss: 1597.0370\n",
      "Epoch 204/300\n",
      "11/11 [==============================] - 0s 2ms/step - loss: 1565.9851 - val_loss: 1631.4062\n",
      "Epoch 205/300\n",
      "11/11 [==============================] - 0s 2ms/step - loss: 1567.3202 - val_loss: 1551.7507\n",
      "Epoch 206/300\n",
      "11/11 [==============================] - 0s 2ms/step - loss: 1585.5850 - val_loss: 1598.4767\n",
      "Epoch 207/300\n",
      "11/11 [==============================] - 0s 2ms/step - loss: 1566.3518 - val_loss: 1619.4183\n",
      "Epoch 208/300\n",
      "11/11 [==============================] - 0s 2ms/step - loss: 1574.1832 - val_loss: 1560.6444\n",
      "Epoch 209/300\n",
      "11/11 [==============================] - 0s 2ms/step - loss: 1580.4655 - val_loss: 1560.6724\n",
      "Epoch 210/300\n",
      "11/11 [==============================] - 0s 2ms/step - loss: 1572.0847 - val_loss: 1565.8807\n",
      "Epoch 211/300\n",
      "11/11 [==============================] - 0s 2ms/step - loss: 1570.1130 - val_loss: 1580.2874\n",
      "Epoch 212/300\n",
      "11/11 [==============================] - 0s 2ms/step - loss: 1576.7911 - val_loss: 1550.1537\n",
      "Epoch 213/300\n",
      "11/11 [==============================] - 0s 2ms/step - loss: 1564.2692 - val_loss: 1594.7606\n",
      "Epoch 214/300\n",
      "11/11 [==============================] - 0s 2ms/step - loss: 1572.5992 - val_loss: 1572.5922\n",
      "Epoch 215/300\n",
      "11/11 [==============================] - 0s 2ms/step - loss: 1569.0338 - val_loss: 1551.5193\n",
      "Epoch 216/300\n",
      "11/11 [==============================] - 0s 2ms/step - loss: 1569.7334 - val_loss: 1595.5281\n",
      "Epoch 217/300\n",
      "11/11 [==============================] - 0s 2ms/step - loss: 1571.8217 - val_loss: 1612.4626\n",
      "Epoch 218/300\n",
      "11/11 [==============================] - 0s 2ms/step - loss: 1573.0623 - val_loss: 1559.8917\n",
      "Epoch 219/300\n",
      "11/11 [==============================] - 0s 2ms/step - loss: 1573.8481 - val_loss: 1575.1794\n",
      "Epoch 220/300\n",
      "11/11 [==============================] - 0s 2ms/step - loss: 1555.1716 - val_loss: 1618.5461\n",
      "Epoch 221/300\n",
      "11/11 [==============================] - 0s 2ms/step - loss: 1580.7625 - val_loss: 1562.4581\n",
      "Epoch 222/300\n",
      "11/11 [==============================] - 0s 2ms/step - loss: 1554.1061 - val_loss: 1579.8020\n",
      "Epoch 223/300\n",
      "11/11 [==============================] - 0s 2ms/step - loss: 1578.8394 - val_loss: 1579.0542\n",
      "Epoch 224/300\n",
      "11/11 [==============================] - 0s 2ms/step - loss: 1565.7498 - val_loss: 1538.3357\n",
      "Epoch 225/300\n",
      "11/11 [==============================] - 0s 2ms/step - loss: 1560.6449 - val_loss: 1584.1310\n",
      "Epoch 226/300\n",
      "11/11 [==============================] - 0s 2ms/step - loss: 1586.7312 - val_loss: 1576.9091\n",
      "Epoch 227/300\n",
      "11/11 [==============================] - 0s 2ms/step - loss: 1569.4865 - val_loss: 1547.1921\n",
      "Epoch 228/300\n",
      "11/11 [==============================] - 0s 2ms/step - loss: 1574.4011 - val_loss: 1557.0574\n",
      "Epoch 229/300\n",
      "11/11 [==============================] - 0s 2ms/step - loss: 1569.9548 - val_loss: 1571.8396\n",
      "Epoch 230/300\n",
      "11/11 [==============================] - 0s 2ms/step - loss: 1573.1643 - val_loss: 1558.2521\n",
      "Epoch 231/300\n",
      "11/11 [==============================] - 0s 2ms/step - loss: 1578.2638 - val_loss: 1605.5591\n",
      "Epoch 232/300\n",
      "11/11 [==============================] - 0s 2ms/step - loss: 1571.3629 - val_loss: 1562.9531\n",
      "Epoch 233/300\n",
      "11/11 [==============================] - 0s 2ms/step - loss: 1549.4421 - val_loss: 1595.6134\n",
      "Epoch 234/300\n",
      "11/11 [==============================] - 0s 2ms/step - loss: 1577.4187 - val_loss: 1565.2087\n",
      "Epoch 235/300\n",
      "11/11 [==============================] - 0s 2ms/step - loss: 1572.1504 - val_loss: 1597.2532\n",
      "Epoch 236/300\n",
      "11/11 [==============================] - 0s 2ms/step - loss: 1560.6211 - val_loss: 1604.7072\n",
      "Epoch 237/300\n",
      "11/11 [==============================] - 0s 2ms/step - loss: 1575.2947 - val_loss: 1543.2906\n",
      "Epoch 238/300\n",
      "11/11 [==============================] - 0s 2ms/step - loss: 1544.9934 - val_loss: 1626.3749\n",
      "Epoch 239/300\n",
      "11/11 [==============================] - 0s 2ms/step - loss: 1570.3925 - val_loss: 1556.6169\n",
      "Epoch 240/300\n",
      "11/11 [==============================] - 0s 2ms/step - loss: 1572.1591 - val_loss: 1582.3872\n",
      "Epoch 241/300\n",
      "11/11 [==============================] - 0s 2ms/step - loss: 1564.7419 - val_loss: 1584.8131\n",
      "Epoch 242/300\n",
      "11/11 [==============================] - 0s 2ms/step - loss: 1557.1899 - val_loss: 1557.7401\n",
      "Epoch 243/300\n",
      "11/11 [==============================] - 0s 2ms/step - loss: 1570.7762 - val_loss: 1587.8607\n",
      "Epoch 244/300\n",
      "11/11 [==============================] - 0s 2ms/step - loss: 1553.3586 - val_loss: 1594.0687\n",
      "Epoch 245/300\n",
      "11/11 [==============================] - 0s 2ms/step - loss: 1564.3462 - val_loss: 1554.9625\n",
      "Epoch 246/300\n",
      "11/11 [==============================] - 0s 2ms/step - loss: 1558.7959 - val_loss: 1576.0776\n",
      "Epoch 247/300\n",
      "11/11 [==============================] - 0s 2ms/step - loss: 1577.1257 - val_loss: 1580.2261\n",
      "Epoch 248/300\n",
      "11/11 [==============================] - 0s 2ms/step - loss: 1557.5142 - val_loss: 1538.2916\n",
      "Epoch 249/300\n",
      "11/11 [==============================] - 0s 2ms/step - loss: 1579.5326 - val_loss: 1556.5726\n",
      "Epoch 250/300\n",
      "11/11 [==============================] - 0s 2ms/step - loss: 1570.4338 - val_loss: 1602.2930\n",
      "Epoch 251/300\n",
      "11/11 [==============================] - 0s 2ms/step - loss: 1552.5555 - val_loss: 1582.3070\n",
      "Epoch 252/300\n",
      "11/11 [==============================] - 0s 2ms/step - loss: 1562.6261 - val_loss: 1543.5740\n",
      "Epoch 253/300\n",
      "11/11 [==============================] - 0s 2ms/step - loss: 1568.2202 - val_loss: 1596.4591\n",
      "Epoch 254/300\n",
      "11/11 [==============================] - 0s 2ms/step - loss: 1567.4917 - val_loss: 1603.4777\n",
      "Epoch 255/300\n",
      "11/11 [==============================] - 0s 2ms/step - loss: 1564.7239 - val_loss: 1535.4740\n",
      "Epoch 256/300\n",
      "11/11 [==============================] - 0s 2ms/step - loss: 1567.7380 - val_loss: 1546.9358\n",
      "Epoch 257/300\n",
      "11/11 [==============================] - 0s 2ms/step - loss: 1559.7917 - val_loss: 1540.4062\n",
      "Epoch 258/300\n",
      "11/11 [==============================] - 0s 2ms/step - loss: 1563.7710 - val_loss: 1569.5797\n",
      "Epoch 259/300\n",
      "11/11 [==============================] - 0s 2ms/step - loss: 1562.3267 - val_loss: 1570.1714\n",
      "Epoch 260/300\n",
      "11/11 [==============================] - 0s 2ms/step - loss: 1567.4618 - val_loss: 1529.7367\n",
      "Epoch 261/300\n",
      "11/11 [==============================] - 0s 2ms/step - loss: 1560.2017 - val_loss: 1541.1654\n",
      "Epoch 262/300\n",
      "11/11 [==============================] - 0s 2ms/step - loss: 1571.0651 - val_loss: 1550.7667\n",
      "Epoch 263/300\n",
      "11/11 [==============================] - 0s 2ms/step - loss: 1549.1348 - val_loss: 1552.2969\n",
      "Epoch 264/300\n",
      "11/11 [==============================] - 0s 2ms/step - loss: 1554.8848 - val_loss: 1581.8367\n",
      "Epoch 265/300\n",
      "11/11 [==============================] - 0s 2ms/step - loss: 1567.4281 - val_loss: 1592.4705\n",
      "Epoch 266/300\n",
      "11/11 [==============================] - 0s 2ms/step - loss: 1567.9866 - val_loss: 1579.9174\n",
      "Epoch 267/300\n",
      "11/11 [==============================] - 0s 2ms/step - loss: 1561.2045 - val_loss: 1555.7815\n",
      "Epoch 268/300\n",
      "11/11 [==============================] - 0s 2ms/step - loss: 1556.8666 - val_loss: 1592.7440\n",
      "Epoch 269/300\n",
      "11/11 [==============================] - 0s 2ms/step - loss: 1564.5590 - val_loss: 1585.8793\n",
      "Epoch 270/300\n",
      "11/11 [==============================] - 0s 2ms/step - loss: 1546.4834 - val_loss: 1536.9432\n",
      "Epoch 271/300\n",
      "11/11 [==============================] - 0s 2ms/step - loss: 1559.5850 - val_loss: 1605.3159\n",
      "Epoch 272/300\n",
      "11/11 [==============================] - 0s 2ms/step - loss: 1560.4030 - val_loss: 1587.2866\n",
      "Epoch 273/300\n",
      "11/11 [==============================] - 0s 2ms/step - loss: 1558.9346 - val_loss: 1641.6567\n",
      "Epoch 274/300\n",
      "11/11 [==============================] - 0s 2ms/step - loss: 1558.9396 - val_loss: 1603.2734\n",
      "Epoch 275/300\n",
      "11/11 [==============================] - 0s 2ms/step - loss: 1550.6918 - val_loss: 1543.0065\n",
      "Epoch 276/300\n",
      "11/11 [==============================] - 0s 2ms/step - loss: 1540.8167 - val_loss: 1611.1958\n",
      "Epoch 277/300\n",
      "11/11 [==============================] - 0s 2ms/step - loss: 1560.6385 - val_loss: 1560.2147\n",
      "Epoch 278/300\n",
      "11/11 [==============================] - 0s 2ms/step - loss: 1563.7156 - val_loss: 1556.2844\n",
      "Epoch 279/300\n",
      "11/11 [==============================] - 0s 2ms/step - loss: 1549.4388 - val_loss: 1585.1172\n",
      "Epoch 280/300\n",
      "11/11 [==============================] - 0s 2ms/step - loss: 1554.1494 - val_loss: 1559.1740\n",
      "Epoch 281/300\n",
      "11/11 [==============================] - 0s 2ms/step - loss: 1557.2256 - val_loss: 1586.3242\n",
      "Epoch 282/300\n",
      "11/11 [==============================] - 0s 2ms/step - loss: 1574.8818 - val_loss: 1595.7247\n",
      "Epoch 283/300\n",
      "11/11 [==============================] - 0s 2ms/step - loss: 1557.7780 - val_loss: 1551.9180\n",
      "Epoch 284/300\n",
      "11/11 [==============================] - 0s 2ms/step - loss: 1555.5768 - val_loss: 1610.3619\n",
      "Epoch 285/300\n",
      "11/11 [==============================] - 0s 2ms/step - loss: 1551.4695 - val_loss: 1550.2325\n",
      "Epoch 286/300\n",
      "11/11 [==============================] - 0s 2ms/step - loss: 1558.0886 - val_loss: 1637.1415\n",
      "Epoch 287/300\n",
      "11/11 [==============================] - 0s 2ms/step - loss: 1565.4258 - val_loss: 1564.7794\n",
      "Epoch 288/300\n",
      "11/11 [==============================] - 0s 2ms/step - loss: 1556.3398 - val_loss: 1561.7880\n",
      "Epoch 289/300\n",
      "11/11 [==============================] - 0s 2ms/step - loss: 1557.1294 - val_loss: 1528.2310\n",
      "Epoch 290/300\n",
      "11/11 [==============================] - 0s 2ms/step - loss: 1570.4331 - val_loss: 1584.6252\n",
      "Epoch 291/300\n",
      "11/11 [==============================] - 0s 2ms/step - loss: 1550.8514 - val_loss: 1601.6328\n",
      "Epoch 292/300\n",
      "11/11 [==============================] - 0s 2ms/step - loss: 1546.9905 - val_loss: 1604.6683\n",
      "Epoch 293/300\n",
      "11/11 [==============================] - 0s 2ms/step - loss: 1549.1362 - val_loss: 1606.8207\n",
      "Epoch 294/300\n",
      "11/11 [==============================] - 0s 2ms/step - loss: 1550.2656 - val_loss: 1550.4507\n",
      "Epoch 295/300\n",
      "11/11 [==============================] - 0s 2ms/step - loss: 1540.8870 - val_loss: 1582.9281\n",
      "Epoch 296/300\n",
      "11/11 [==============================] - 0s 2ms/step - loss: 1570.1682 - val_loss: 1558.8130\n",
      "Epoch 297/300\n",
      "11/11 [==============================] - 0s 2ms/step - loss: 1545.7144 - val_loss: 1529.3497\n",
      "Epoch 298/300\n",
      "11/11 [==============================] - 0s 2ms/step - loss: 1559.2699 - val_loss: 1546.9230\n",
      "Epoch 299/300\n",
      "11/11 [==============================] - 0s 2ms/step - loss: 1558.9611 - val_loss: 1590.2181\n",
      "Epoch 300/300\n",
      "11/11 [==============================] - 0s 2ms/step - loss: 1560.4011 - val_loss: 1547.3069\n"
     ]
    }
   ],
   "source": [
    "better_history = better_model.fit(x_train,y_train, epochs=300, validation_data=(x_test,y_test))"
   ],
   "metadata": {
    "collapsed": false,
    "pycharm": {
     "name": "#%%\n"
    }
   }
  },
  {
   "cell_type": "markdown",
   "source": [
    "We can see the additional information given for the loss when applying the current weights of each epoch to the\n",
    "        validation data.\n",
    "Let's have a look at it."
   ],
   "metadata": {
    "collapsed": false,
    "pycharm": {
     "name": "#%% md\n"
    }
   }
  },
  {
   "cell_type": "code",
   "execution_count": 16,
   "outputs": [
    {
     "data": {
      "text/plain": "<Figure size 432x288 with 1 Axes>",
      "image/png": "[encoded data removed]"
     },
     "metadata": {
      "needs_background": "light"
     },
     "output_type": "display_data"
    }
   ],
   "source": [
    "plt.plot(better_history.history['loss'], label='training')\n",
    "plt.plot(better_history.history['val_loss'], label='validation')\n",
    "plt.legend()\n",
    "plt.title('loss')\n",
    "plt.show()"
   ],
   "metadata": {
    "collapsed": false,
    "pycharm": {
     "name": "#%%\n"
    }
   }
  },
  {
   "cell_type": "markdown",
   "source": [
    "We see a moderate, yet steady decrease in both curves before hitting a plateau of slight oscillation. The graphic shows, that we do not have to deal with overfitting and that our model seems to have converged.\n",
    "\n",
    "Finally, let's have a look at the predictions of the trained model again:\n",
    "\n",
    "There are ways to handle overfitting but we will not discuss them here.\n",
    "\n",
    "Finally, let's have a look at the trained model again, using all the data:"
   ],
   "metadata": {
    "collapsed": false,
    "pycharm": {
     "name": "#%% md\n"
    }
   }
  },
  {
   "cell_type": "code",
   "execution_count": 17,
   "outputs": [],
   "source": [
    "y_pred = better_model.predict(x)"
   ],
   "metadata": {
    "collapsed": false,
    "pycharm": {
     "name": "#%%\n"
    }
   }
  },
  {
   "cell_type": "code",
   "execution_count": 18,
   "outputs": [
    {
     "data": {
      "text/plain": "<Figure size 432x288 with 1 Axes>",
      "image/png": "[encoded data removed]"
     },
     "metadata": {
      "needs_background": "light"
     },
     "output_type": "display_data"
    }
   ],
   "source": [
    "plt.scatter(x, y)\n",
    "plt.plot(x,make_data(-.5,2,1.5,noise=False), c='red', lw=4)\n",
    "plt.plot(x,y_pred.reshape(-1), c='orange', lw=4)\n",
    "plt.show()"
   ],
   "metadata": {
    "collapsed": false,
    "pycharm": {
     "name": "#%%\n"
    }
   }
  },
  {
   "cell_type": "markdown",
   "source": [
    "At last, we see that our more complex model is very well able to find the underlying function which we used to generate our data."
   ],
   "metadata": {
    "collapsed": false,
    "pycharm": {
     "name": "#%% md\n"
    }
   }
  },
  {
   "cell_type": "markdown",
   "source": [
    "While we have only covered a tiny bit of TensorFlow and Keras, the syntax stays the same for different kinds of networks. For example, to build a convolutional artificial neural network, we would use `keras.Conv2D()` instead of `keras.Dense`. For more types of layers and how to build more complex architectures, visit the documentation refered to above."
   ],
   "metadata": {
    "collapsed": false,
    "pycharm": {
     "name": "#%% md\n"
    }
   }
  }
 ],
 "metadata": {
  "kernelspec": {
   "display_name": "Python 3 (ipykernel)",
   "language": "python",
   "name": "python3"
  },
  "language_info": {
   "codemirror_mode": {
    "name": "ipython",
    "version": 3
   },
   "file_extension": ".py",
   "mimetype": "text/x-python",
   "name": "python",
   "nbconvert_exporter": "python",
   "pygments_lexer": "ipython3",
   "version": "3.8.8"
  }
 },
 "nbformat": 4,
 "nbformat_minor": 5
}