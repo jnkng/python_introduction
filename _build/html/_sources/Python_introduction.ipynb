{
 "cells": [
  {
   "cell_type": "markdown",
   "id": "de35cf8d",
   "metadata": {},
   "source": [
    "# Python - an introduction\n",
    "\n",
    "# What is Python and why use it?\n",
    "\n",
    "Python (named after the comedy troupe Monty Python) is an interpreted programming language, meaning the written code needs to be \"translated\" to commands for the machine by a so called interpreter in order to be run. This apparent detour however makes for a better readability, writability and error location for us humans. Python is free to use and it's also free to contribute by writing own packages. As of February 2021, the TIOBE index, a measure for popularity of programming languages, ranks python third (behind C and Java), stating its widespread acceptance and usage. One field in which python has had major impact is statistics and emerging from it, data science. A plethora of packages are available to work with data smoothly in many ways. Eventually, in order to come to this joy, one must first install python properly.\n",
    "\n",
    "## Installation\n",
    "\n",
    "Albeit there are different ways to install and manage python and its packages and versions is to use the [Anaconda distribution](https://www.anaconda.com/products/individual). It comes with a variety of programs and allows for a simple installation of all needed dependencies. Furthermore, it accesses the conda repository to provide a user-friendly installation of additional packages.\n",
    "\n",
    "## Installing more Packages\n",
    "On the left in the anaconda navigator, click on \"Environments\". A list of all installed packages is shown with the respective version on the right. Blue colour and a little arrow indicate that updates for this package are available.\n",
    "```{warning}\n",
    "New is not always better. As some packages may depend on others, their latest update might come with changes not yet supported.\n",
    "Check for compatibility before updating!\n",
    "```\n",
    "Selecting \"not installed\" provides a list of not (yet) installed packages. The search panel lets you find the desired package. To install, select the checkbox and click \"Apply\" (appears only after checking a box) in the lower right corner.\n",
    "\n",
    "## Jupyter Notebook\n",
    "After a successful installation, feel free to make yourself familiar with the included programs. However, this course will depend mainly on the use of **jupyter notebooks**. These are web applications and thus should open a browser window where they offer all the functionality necessary for this course. Besides the usual coding, they offer ways to present your code clearly by enabling more formatting functionality, e.g. with **markdown**.\n",
    "\n",
    "Double click the jupyter symbol in your anaconda navigator to start and get a browser window opened, looking similar to this:\n",
    "\n",
    "![title](graphics/jupyter.png)\n",
    "\n",
    "You should be able to browse your files and navigate to any folder. Feel invited to experiment with opening different data types you find on your machine.\n",
    "\n",
    "To open a new notebook, click the drop down menu new on the right and choose your installed python version. A new tab in your browser opens with an empty notebook.\n",
    "\n",
    "![title](graphics/notebook.png)\n",
    "\n",
    "On the very top \"Untitled\" is found. By clicking on it, one can rename the file. Make yourself familiar with all possible options in the bar beneath the title. Since most options you will discover can be called by Keyboard shortcuts, making use of the shortcuts will reduce the number of times where the mouse is needed and it is thus highly recommended. Press \"**h**\" on your Keyboard to view the available keyboard shortcuts.\n",
    "In the following some useful shortcuts for basic operations are presented:\n",
    "\n",
    "- to enter edit Mode, press **enter**. The blue frame of the currently selected cell will change to green and a cursor will appear inside the cell. Write your name and press **escape** to leave edit mode.\n",
    "\n",
    "- press **b** to create a new cell below the current cell. Then use the **up arrow** to navigate your selection back to the first cell.\n",
    "\n",
    "- press **a** to create a new cell above the currently selected cell.\n",
    "\n",
    "- navigate to the lowest cell and double press **d** to delete it\n",
    "\n",
    "\n",
    "Inside the cells, code is written and each cell can be run separately. When running all cells at once, they will be executed from top to bottom."
   ]
  },
  {
   "cell_type": "markdown",
   "id": "1313aa64",
   "metadata": {},
   "source": [
    "# First steps\n",
    "\n",
    "This chapter provides an introduction to basic commands and useful built-in libraries.  \n",
    "\n",
    "As mentioned, this course will rely on jupyter notebooks. Code will be written in cells, which can be run independently. \n",
    "To run a cell, one can use the run symbol above the cells by clicking on it. A more convenient way is again using the corresponding keyboard shortcut: holding **shift** and  pressing **enter**.\\\n",
    "This will run the current cell and select the next cell below."
   ]
  },
  {
   "cell_type": "code",
   "execution_count": 1,
   "id": "9c418fd7",
   "metadata": {},
   "outputs": [
    {
     "data": {
      "text/plain": [
       "'3.9.5 (default, May  4 2021, 03:36:27) \\n[Clang 12.0.0 (clang-1200.0.32.29)]'"
      ]
     },
     "execution_count": 1,
     "metadata": {},
     "output_type": "execute_result"
    }
   ],
   "source": [
    "import sys\n",
    "sys.version"
   ]
  },
  {
   "cell_type": "markdown",
   "id": "6119099e",
   "metadata": {},
   "source": [
    "## Basic Python\n",
    "\n",
    "Just starting a jupyter notebook and thus a python kernel already allows several basicoperations. The perhaps most obvious functionality would be to use a cell to calculate a mathematical expression. To do so, just enter the expression and run the cell:"
   ]
  },
  {
   "cell_type": "code",
   "execution_count": 2,
   "id": "4c3c0fa0",
   "metadata": {},
   "outputs": [
    {
     "data": {
      "text/plain": [
       "1000"
      ]
     },
     "execution_count": 2,
     "metadata": {},
     "output_type": "execute_result"
    }
   ],
   "source": [
    "999+1"
   ]
  },
  {
   "cell_type": "code",
   "execution_count": 3,
   "id": "5122729f",
   "metadata": {},
   "outputs": [
    {
     "data": {
      "text/plain": [
       "4"
      ]
     },
     "execution_count": 3,
     "metadata": {},
     "output_type": "execute_result"
    }
   ],
   "source": [
    "# comments inside the cell, starting with '#' help readers to understand your code. \n",
    "# These lines are not run! \n",
    "2 * (2 + 2) - 4"
   ]
  },
  {
   "cell_type": "markdown",
   "id": "86cfde04",
   "metadata": {},
   "source": [
    "While jupyter will print the result of such one line expressions immediately, writing both expressions in one cell will print only the last computed result:"
   ]
  },
  {
   "cell_type": "code",
   "execution_count": 4,
   "id": "33d9bf0e",
   "metadata": {},
   "outputs": [
    {
     "data": {
      "text/plain": [
       "4"
      ]
     },
     "execution_count": 4,
     "metadata": {},
     "output_type": "execute_result"
    }
   ],
   "source": [
    "999+1\n",
    "2 * (2 + 2) - 4"
   ]
  },
  {
   "cell_type": "markdown",
   "id": "b31232c0",
   "metadata": {},
   "source": [
    "In the common case, where code inside one cell will exceed one line or will produce more than just on result, the ```print()``` function can be used. Functions in python get their parameters in parentheses (more on functions later):"
   ]
  },
  {
   "cell_type": "code",
   "execution_count": 5,
   "id": "2ba149a3",
   "metadata": {},
   "outputs": [
    {
     "name": "stdout",
     "output_type": "stream",
     "text": [
      "1000\n",
      "4\n"
     ]
    }
   ],
   "source": [
    "print(999+1)\n",
    "print(2 * (2 + 2) - 4)"
   ]
  },
  {
   "cell_type": "markdown",
   "id": "b4568829",
   "metadata": {},
   "source": [
    "Some basic operations and functions are"
   ]
  },
  {
   "cell_type": "code",
   "execution_count": 6,
   "id": "228c27ce",
   "metadata": {},
   "outputs": [
    {
     "name": "stdout",
     "output_type": "stream",
     "text": [
      "Addition: 2\n",
      "Subtraction: 1\n",
      "Division: 2\n",
      "Multiplication: 2.0\n",
      "Modulus: 1\n",
      "Floor division: 2\n",
      "Exponent: 8\n",
      "Minimum: 2\n",
      "Maximum: 5\n"
     ]
    }
   ],
   "source": [
    "print('Addition:',       1 + 1 )      \n",
    "print('Subtraction:',    2 - 1 )      \n",
    "print('Division:',       1 * 2 )      \n",
    "print('Multiplication:', 2 / 1 )      \n",
    "print('Modulus:',        3 % 2 )      \n",
    "print('Floor division:', 5 // 2 )     \n",
    "print('Exponent:',       2 ** 3 )     \n",
    "print('Minimum:',       min(2,5))\n",
    "print('Maximum:',       max(2,5))"
   ]
  },
  {
   "cell_type": "markdown",
   "id": "67b5f2d9",
   "metadata": {},
   "source": [
    "Autocompletion is a very useful tool for writing code. Not only will it provide already defined variables. It will also show you available methods on different objects (more on objects later).\n",
    "\n",
    "Autocompletion or suggestions for completion will appear when pressing **tab** in code, as long as it is not the beginning of a line (where it will indent the line, see loops, functions).\\\n",
    "For instance, when typing ```pri``` and hitting **tab**, jupyter will complete it to ```print```."
   ]
  },
  {
   "cell_type": "markdown",
   "id": "bd905cf2",
   "metadata": {},
   "source": [
    "### Help\n",
    "In order to get information, for example on the ```print()```function, help can be summoned by using yet another function:"
   ]
  },
  {
   "cell_type": "code",
   "execution_count": 7,
   "id": "269fb2e5",
   "metadata": {},
   "outputs": [
    {
     "name": "stdout",
     "output_type": "stream",
     "text": [
      "Help on built-in function print in module builtins:\n",
      "\n",
      "print(...)\n",
      "    print(value, ..., sep=' ', end='\\n', file=sys.stdout, flush=False)\n",
      "    \n",
      "    Prints the values to a stream, or to sys.stdout by default.\n",
      "    Optional keyword arguments:\n",
      "    file:  a file-like object (stream); defaults to the current sys.stdout.\n",
      "    sep:   string inserted between values, default a space.\n",
      "    end:   string appended after the last value, default a newline.\n",
      "    flush: whether to forcibly flush the stream.\n",
      "\n"
     ]
    }
   ],
   "source": [
    "help(print)"
   ]
  },
  {
   "cell_type": "markdown",
   "id": "e4030959",
   "metadata": {},
   "source": [
    "### Data Types\n",
    "\n",
    "The most basic data types in python are numeric, string and boolean. However, there are many, many more. In order for many operations wo work properly, the data types must be compatible with one another. With the ```type()``` function the datatype of an object can be printed. "
   ]
  },
  {
   "cell_type": "code",
   "execution_count": 8,
   "id": "890b2b54",
   "metadata": {},
   "outputs": [
    {
     "name": "stdout",
     "output_type": "stream",
     "text": [
      "a: <class 'int'>\n",
      "b: <class 'float'>\n",
      "c: <class 'str'>\n",
      "d: <class 'bool'>\n"
     ]
    }
   ],
   "source": [
    "a = 1\n",
    "b = 1.0\n",
    "c = 'two'\n",
    "d = True\n",
    "print('a:', type(a))\n",
    "print('b:', type(b))\n",
    "print('c:', type(c))\n",
    "print('d:', type(d))"
   ]
  },
  {
   "cell_type": "markdown",
   "id": "70768bf5",
   "metadata": {},
   "source": [
    "Changing the type of a variable can be achieved by the respective functions:"
   ]
  },
  {
   "cell_type": "code",
   "execution_count": 9,
   "id": "010a722e",
   "metadata": {},
   "outputs": [
    {
     "name": "stdout",
     "output_type": "stream",
     "text": [
      "3\n",
      "12.5\n"
     ]
    }
   ],
   "source": [
    "print(int(3.14))\n",
    "\n",
    "f = \"2.5\"\n",
    "print(10 + float(f))"
   ]
  },
  {
   "cell_type": "markdown",
   "id": "f7981298",
   "metadata": {},
   "source": [
    "Some mathematical operations can also be applied to strings/lists:"
   ]
  },
  {
   "cell_type": "code",
   "execution_count": 10,
   "id": "f0598c17",
   "metadata": {},
   "outputs": [
    {
     "name": "stdout",
     "output_type": "stream",
     "text": [
      "Who would have thought?????\n"
     ]
    }
   ],
   "source": [
    "a = 'Who would '\n",
    "b = 'have thought'\n",
    "c = '?'\n",
    "print(a+b+(c*5))"
   ]
  },
  {
   "cell_type": "markdown",
   "id": "60b2cda2",
   "metadata": {},
   "source": [
    "## Packages and Modules\n",
    "\n",
    "Python's functionality can be expanded by loading modules to the namespace. A module may be seen as a chunk of python code for a special task someone has already written for you to use while package signifies the inclusion of the underlying file structure to load the modules. \n",
    "\n",
    "In order to make a module's complete functionality available, it has to be loaded to the namespace trailing the ```import``` statement. Calling a module function in this case requires the module name with a dot before the function: ```package.function()```. \n",
    "\n",
    "A module can be imported under an alias, using the ```as``` statement. This can help someone reading your code to know from which module a function is imported while keeping the code shorter and thus better readable.\n",
    "\n",
    ":::{admonition} Tip \n",
    ":class: tip\n",
    "By convention all imports are done at the beginning of the code.\n",
    ":::"
   ]
  },
  {
   "cell_type": "code",
   "execution_count": 11,
   "id": "a448e8ca",
   "metadata": {},
   "outputs": [
    {
     "name": "stdout",
     "output_type": "stream",
     "text": [
      "2.0\n",
      "2.0\n"
     ]
    }
   ],
   "source": [
    "import math\n",
    "print(math.sqrt(4))\n",
    "\n",
    "import numpy as np\n",
    "print(np.sqrt(4.0))"
   ]
  },
  {
   "cell_type": "markdown",
   "id": "a9174afa",
   "metadata": {},
   "source": [
    "To import a single function (or class) from a module one calls ```from <module> import <function>```. Here, the module's name does not need to be added when calling the function. Similarly, an asterisk can be used as a wild card, as in ```from <package> import *```, to import all functions (classes) from one module (so not to add the module prefix every time in the code). \\\n",
    "The following examples uses the ```math``` module, which contains functions such as the sine, cosine or square root."
   ]
  },
  {
   "cell_type": "code",
   "execution_count": 12,
   "id": "f3ea6b10",
   "metadata": {},
   "outputs": [
    {
     "name": "stdout",
     "output_type": "stream",
     "text": [
      "2.0\n"
     ]
    }
   ],
   "source": [
    "from math import sqrt\n",
    "print(sqrt(4))"
   ]
  },
  {
   "cell_type": "markdown",
   "id": "65147038",
   "metadata": {},
   "source": [
    ":::{admonition} Note\n",
    "Calling a function which is not imported results in an error.\n",
    "    \n",
    "Usually, python is rather explicit in where to look for your mistake.\n",
    ":::"
   ]
  },
  {
   "cell_type": "code",
   "execution_count": 13,
   "id": "69d72808",
   "metadata": {
    "scrolled": true
   },
   "outputs": [],
   "source": [
    "#print(cos(0))    # would raise error as cos() function is not imported"
   ]
  },
  {
   "cell_type": "markdown",
   "id": "48358d11",
   "metadata": {},
   "source": [
    "![](graphics/cos_error.png)"
   ]
  },
  {
   "cell_type": "markdown",
   "id": "de993392",
   "metadata": {},
   "source": [
    "With the wild card, all functions from the math module are now loaded to the namespace."
   ]
  },
  {
   "cell_type": "code",
   "execution_count": 14,
   "id": "ec42afb5",
   "metadata": {},
   "outputs": [
    {
     "data": {
      "text/plain": [
       "1.0"
      ]
     },
     "execution_count": 14,
     "metadata": {},
     "output_type": "execute_result"
    }
   ],
   "source": [
    "from math import *\n",
    "cos(0)"
   ]
  },
  {
   "cell_type": "markdown",
   "id": "657ac4bd",
   "metadata": {},
   "source": [
    "## Variables\n",
    "\n",
    "Objects can be stored in variables by assigning them using ```=```. Since everything in python is an object, anything can be saved in a variable: numbers, strings, lists, etc. Python will automatically recognize the format of a variable to let the user know about incompatibilities. Calling a variable before it is assigned will also throw an error.\\\n",
    "Note that python is case sensitive, meaning that when assigning variables a ≠ A."
   ]
  },
  {
   "cell_type": "code",
   "execution_count": 15,
   "id": "eb8659a2",
   "metadata": {},
   "outputs": [
    {
     "name": "stdout",
     "output_type": "stream",
     "text": [
      "25\n",
      "twenty five\n"
     ]
    }
   ],
   "source": [
    "var_1 = 5 ** 2\n",
    "print(var_1)\n",
    "var_2 = 'twenty five'\n",
    "print(var_2)"
   ]
  },
  {
   "cell_type": "markdown",
   "id": "11c75a40",
   "metadata": {},
   "source": [
    ":::{admonition} Caution\n",
    ":class: caution\n",
    "Do not name your variables like built-in python objects!\n",
    ":::\n",
    "In jupyter notebooks, built-in objects are automatically coloured green.\n",
    "For example:"
   ]
  },
  {
   "cell_type": "code",
   "execution_count": 16,
   "id": "dce28941",
   "metadata": {},
   "outputs": [
    {
     "data": {
      "text/plain": [
       "dict"
      ]
     },
     "execution_count": 16,
     "metadata": {},
     "output_type": "execute_result"
    }
   ],
   "source": [
    "list\n",
    "int\n",
    "dict"
   ]
  },
  {
   "cell_type": "markdown",
   "id": "fa7d3aa1",
   "metadata": {},
   "source": [
    "## Logical Conditions\n",
    "\n",
    "\n",
    "In order to compare values, logical operators can be used. The most common are\n",
    "\n",
    "| Operator   | Meaning |\n",
    "| :--------- | ------: |\n",
    "| ==  | equal  |\n",
    "| 1!=  | not equal  |\n",
    "| >  | greater than |\n",
    "| <  | less than |\n",
    "| >=  | greater than or equal to |\n",
    "| <=  | less than or equal to |\n",
    "\n",
    "The result will be a boolean: either ```True``` or ```False```. \\\n",
    "Comparing statements may also be combined by ```and``` or ```or``` and can be negated by ```not```."
   ]
  },
  {
   "cell_type": "code",
   "execution_count": 17,
   "id": "915c2556",
   "metadata": {},
   "outputs": [
    {
     "name": "stdout",
     "output_type": "stream",
     "text": [
      "True False\n",
      "False\n",
      "True\n"
     ]
    }
   ],
   "source": [
    "a = (1<2)\n",
    "b = (0 == 1)\n",
    "print(a, b)\n",
    "print(a and b)\n",
    "print(a or b)"
   ]
  },
  {
   "cell_type": "markdown",
   "id": "56d9a5df",
   "metadata": {},
   "source": [
    "## Branching\n",
    "\n",
    "In a program, code must often be run conditionally on some input or previous result. The ```if```, ```else``` and ```elif```statement can be used to select which branch of code shall be run. The condition is followed by a colon and the respective code for that condition must be indented (automatically with a line break or by pressing ***tab***).\n",
    "\n",
    ":::{admonition} Caution\n",
    ":class: caution\n",
    "Indentation is not to be used for better readability. \n",
    "    \n",
    "Instead, it has a function and must not be used when not necessary!\n",
    ":::"
   ]
  },
  {
   "cell_type": "code",
   "execution_count": 18,
   "id": "16463d17",
   "metadata": {},
   "outputs": [
    {
     "name": "stdout",
     "output_type": "stream",
     "text": [
      "a is positive\n"
     ]
    }
   ],
   "source": [
    "a = 4\n",
    "\n",
    "if a < 0:\n",
    "    print('a is negative')\n",
    "elif a > 0:\n",
    "    print('a is positive')\n",
    "else:\n",
    "    print('a equals zero')"
   ]
  },
  {
   "cell_type": "markdown",
   "id": "ec031a6a",
   "metadata": {},
   "source": [
    "## Lists and Tuples\n",
    "\n",
    "Lists and tuples are both an ordered collection of objects. While tuples cannot be modified, lists are rather flexible. Objects can be added to a list, removed or replaced. Lists appear in square brackets ```[]```, tuples in parentheses ```()```.  \\\n",
    "Lists and tuples can be nested, meaning elements of a list or tuple can again be a list or tuple. Duplicates are also allowed. (A ```set()``` would not allow duplicates and is not ordered). \\\n",
    "Elements can be accessed by indexing with square brackets behind the list name.\n",
    "\n",
    "\n",
    "\n",
    ":::{admonition} Note\n",
    "Indexing in python starts with zero, so the first element of a list will have index 0.\n",
    ":::"
   ]
  },
  {
   "cell_type": "code",
   "execution_count": 19,
   "id": "baf2de79",
   "metadata": {},
   "outputs": [
    {
     "name": "stdout",
     "output_type": "stream",
     "text": [
      "0. the length of my list is 5 , the length of the word \"list\" 4\n",
      "1. first element from my_list: 1\n",
      "2. second element of my_tuple: b\n",
      "3. changing the third element in my_list: [1, 2, 3, 4, 5]\n",
      "4. first letter in my_str: e\n",
      "5. last element of my_tuple: c\n",
      "6. from element 3 to end of my_list: [3, 4, 5]\n",
      "7. reverse order of my_list and slice: [4, 3, 2, 1]\n",
      "8. add new element: [1, 2, 3, 4]\n"
     ]
    }
   ],
   "source": [
    "my_list = [1,2,0,4,5]\n",
    "my_tuple = ('a', 'b', 'c')\n",
    "\n",
    "# length of object:\n",
    "print('0. the length of my list is', len(my_list),', the length of the word \"list\"', len('list'))\n",
    "\n",
    "# access first element\n",
    "print('1. first element from my_list:', my_list[0])\n",
    "\n",
    "# print variables more conveniently\n",
    "print(f'2. second element of my_tuple: {my_tuple[1]}')\n",
    "\n",
    "# to change an element\n",
    "my_list[2] = 3\n",
    "print(f'3. changing the third element in my_list: {my_list}')\n",
    "\n",
    "# note that strings are lists of characters:\n",
    "my_str = 'expression'\n",
    "print(f'4. first letter in my_str: {my_str[0]}')\n",
    "\n",
    "# last element \n",
    "print(f'5. last element of my_tuple: {my_tuple[-1]}')\n",
    "\n",
    "# slicing\n",
    "print(f'6. from element 3 to end of my_list: {my_list[2:]}')\n",
    "\n",
    "# reverse order\n",
    "print(f'7. reverse order of my_list and slice: {my_list[3::-1]}')\n",
    "\n",
    "# delete element\n",
    "del(my_list[4])\n",
    "print(f'8. add new element: {my_list}')"
   ]
  },
  {
   "cell_type": "markdown",
   "id": "ae02a578",
   "metadata": {},
   "source": [
    "Lists also allow for element checks using ```in``` (negated by ```not```):"
   ]
  },
  {
   "cell_type": "code",
   "execution_count": 20,
   "id": "e838ccdf",
   "metadata": {},
   "outputs": [
    {
     "name": "stdout",
     "output_type": "stream",
     "text": [
      "2 is an element of my_list\n"
     ]
    }
   ],
   "source": [
    "my_list = [1,2,3,4]\n",
    "\n",
    "if 2 in my_list:\n",
    "    print('2 is an element of my_list')\n",
    "    \n",
    "if 10 in my_list:\n",
    "    print('10 is an element of my_list')"
   ]
  },
  {
   "cell_type": "markdown",
   "id": "d59ee7db",
   "metadata": {},
   "source": [
    "Beside definition by hand, the the functions ```list()``` and ```tuple()``` can be used to transform a suitable object to a list or tuple."
   ]
  },
  {
   "cell_type": "code",
   "execution_count": 21,
   "id": "6c07a680",
   "metadata": {},
   "outputs": [
    {
     "name": "stdout",
     "output_type": "stream",
     "text": [
      "(1, 2, 3, 4)\n",
      "['p', 'y', 't', 'h', 'o', 'n']\n"
     ]
    }
   ],
   "source": [
    "print(tuple(my_list))\n",
    "print(list('python'))"
   ]
  },
  {
   "cell_type": "markdown",
   "id": "c95ca30a",
   "metadata": {},
   "source": [
    "## Dictionaries\n",
    "\n",
    "Dictionaries allow to store *key - value* pairs in a kind of named list fashion. By convention the *key* element is of type string, while the *value* can be any object (including dictionaries). To define a dictionary, inside curly braces ```{}```, the *key* element is followed by a colon and the *value*. The *keys* must be unique in a dictionary, since the *value* elements are accessed via the respective *key*: as in lists, one uses square brackets. Yet not with an index number but the desired *key*.\\\n",
    "New key-value pairs can be added to a dict in a similar way as they are accessed. The new *key* in square brackets follows the dict name and a *value* is assigned by an equal sign.\\\n",
    "Dictionaries are not ordered, as can be seen from the way of accessing and adding new k-v pairs."
   ]
  },
  {
   "cell_type": "code",
   "execution_count": 22,
   "id": "74583386",
   "metadata": {},
   "outputs": [
    {
     "name": "stdout",
     "output_type": "stream",
     "text": [
      "1\n",
      "{'start': 1, 'end': 20, 'mid': 10}\n"
     ]
    }
   ],
   "source": [
    "my_dict = {'start': 1, 'end': 20}\n",
    "print(my_dict['start'])\n",
    "\n",
    "# new k-v pair\n",
    "my_dict['mid'] = 10\n",
    "print(my_dict)"
   ]
  },
  {
   "cell_type": "markdown",
   "id": "44240edd",
   "metadata": {},
   "source": [
    "All *keys* and *value* can be accessed with the ```.keys()``` and ```.values()``` method (more on methods later)."
   ]
  },
  {
   "cell_type": "code",
   "execution_count": 23,
   "id": "3103fb5e",
   "metadata": {},
   "outputs": [
    {
     "name": "stdout",
     "output_type": "stream",
     "text": [
      "dict_keys(['start', 'end', 'mid']) dict_values([1, 20, 10])\n"
     ]
    }
   ],
   "source": [
    "print(my_dict.keys(), my_dict.values())"
   ]
  },
  {
   "cell_type": "markdown",
   "id": "475a5327",
   "metadata": {},
   "source": [
    "## (Un)packing\n",
    "\n",
    "Python allows to assign multiple variables at once, called (un)packing. This is most common with tuples but can be expanded to other iterables. The variables to be assigned are separated by a comma. "
   ]
  },
  {
   "cell_type": "code",
   "execution_count": 24,
   "id": "3e0f2d39",
   "metadata": {},
   "outputs": [
    {
     "name": "stdout",
     "output_type": "stream",
     "text": [
      "one 2 three\n",
      "[1, 2, 3] 4\n"
     ]
    }
   ],
   "source": [
    "my_tuple = ('one', 2, 'three')\n",
    "a, b, c = my_tuple\n",
    "print(a, b, c)\n",
    "\n",
    "# the asterisk assigns all surplus values on the right hand side of the equal sign to a\n",
    "*a, b = 1, 2, 3, 4\n",
    "print(a ,b)"
   ]
  },
  {
   "cell_type": "markdown",
   "id": "929cf94f",
   "metadata": {},
   "source": [
    "## Loops\n",
    "\n",
    "### for-loop\n",
    "\n",
    "A for-loop is used for iteration, if the number of iterations is known prior to execution. A for loop iterates over any sequence like lists, tuples, strings etc. A common way is to loop over a ```range(n)``` object. Caution: indexing starts from 0 and for range objects ends at ```n-1```!\\\n",
    "\n",
    "Note that when iterating a list or tuple it might be worth considering to choose an informative name (especially when nesting loops).\\ \n",
    "\n",
    "To write a loop, ```for``` is followed by the iterating variable, ```in``` and the sequence to iterate before a colon. The code to execute every step begins in the next line and is indented.  "
   ]
  },
  {
   "cell_type": "code",
   "execution_count": 25,
   "id": "7b2eb779",
   "metadata": {},
   "outputs": [
    {
     "name": "stdout",
     "output_type": "stream",
     "text": [
      "0 squared is 0\n",
      "1 squared is 1\n",
      "2 squared is 4\n",
      "3 squared is 9\n",
      "4 squared is 16\n",
      "\n",
      "one\n",
      "2\n",
      "three\n",
      "\n",
      "one at position 0\n",
      "2 at position 1\n",
      "three at position 2\n",
      "\n",
      "key: start, value: 1 \n",
      "key: end, value: 20 \n",
      "key: mid, value: 10 \n"
     ]
    }
   ],
   "source": [
    "# range object for iterating numbers\n",
    "for i in range(5):\n",
    "    print(f'{i} squared is {i**2}')  \n",
    "print('')\n",
    "\n",
    "# iterate over a tuple/list\n",
    "for tuple_element in my_tuple:\n",
    "    print(tuple_element)\n",
    "print('')\n",
    "# iterate over tuple/list element and index\n",
    "for i, tup_el in enumerate(my_tuple):\n",
    "    print(f'{tup_el} at position {i}')\n",
    "print('')  \n",
    "# iterate over keys and values in dict\n",
    "for k,v in my_dict.items():\n",
    "    print(f'key: {k}, value: {v} ')"
   ]
  },
  {
   "cell_type": "markdown",
   "id": "3179d0d3",
   "metadata": {},
   "source": [
    "### while-loop\n",
    "\n",
    "When the number of iterations for a loop is not knwon beforehand, a while-loop can be used. It will run, until a terminal state is reached or some criterion is satisfied. Usually, an initial state is given which will be altered by some operation and thus lead to termination.\\\n",
    "A while-loop start with ```while``` followed by the condition and a colon. The condition may be negated with ```not```.\\\n",
    ":::{admonition} Warning\n",
    ":class: warning\n",
    "Infinit loops may occur when the terminal criterion is not properly defined or the code is otherwise defective.\n",
    ":::\n"
   ]
  },
  {
   "cell_type": "code",
   "execution_count": 26,
   "id": "4ca7e944",
   "metadata": {},
   "outputs": [
    {
     "name": "stdout",
     "output_type": "stream",
     "text": [
      "0\n",
      "1\n",
      "2\n",
      "3\n",
      "5 is greater zero\n",
      "4 is greater zero\n",
      "3 is greater zero\n",
      "2 is greater zero\n",
      "1 is greater zero\n"
     ]
    }
   ],
   "source": [
    "a = 0\n",
    "while a < 4:\n",
    "    print(a)\n",
    "    # use combined operator a += 1, equal to a = a + 1\n",
    "    a += 1      # when not including this line, a will forever stay a = 0 and the loop will not terminate by itself\n",
    "                # What will be printed in this case?\n",
    "    \n",
    "var = 5\n",
    "check = True\n",
    "while check:\n",
    "    print(f'{var} is greater zero')\n",
    "    var -= 1 \n",
    "    check = var > 0\n"
   ]
  },
  {
   "cell_type": "markdown",
   "id": "b86a512c",
   "metadata": {},
   "source": [
    "## List comprehension\n",
    "Python offers a handy way to create lists. It looks like a for-loop in a list and is called list comprehension. It is written in one line instead of indenting as in ordinary for-loops. These expression can also be nested."
   ]
  },
  {
   "cell_type": "code",
   "execution_count": 27,
   "id": "20832242",
   "metadata": {},
   "outputs": [
    {
     "name": "stdout",
     "output_type": "stream",
     "text": [
      "list_1: [0, 1, 2, 3, 4]\n",
      "list_2: [[0, 0, 0, 0, 0], [0, 1, 2, 3, 4]]\n"
     ]
    }
   ],
   "source": [
    "list_1 = [i for i in range(5)]\n",
    "print('list_1:', list_1)\n",
    "\n",
    "# a nested expression\n",
    "list_2 = [[i*j for i in list_1] for j in [0,1]]\n",
    "print('list_2:', list_2)"
   ]
  },
  {
   "cell_type": "markdown",
   "id": "c6f1f1e4",
   "metadata": {},
   "source": [
    "### break and continue\n",
    "\n",
    "For more control over a loop, the ```break```and ```continue``` statements can be engaged. Used with a condition, ```break``` will terminate the loop when satisfied while ```continue``` will stop and skip the current iteration to jump to the next."
   ]
  },
  {
   "cell_type": "code",
   "execution_count": 28,
   "id": "e5b8630e",
   "metadata": {},
   "outputs": [
    {
     "name": "stdout",
     "output_type": "stream",
     "text": [
      "0 is even\n",
      "2 is even\n",
      "4 is even\n",
      "6 is even\n",
      "8 is even\n"
     ]
    }
   ],
   "source": [
    "for i in range(100):\n",
    "    if i % 2 != 0:    # % is the modulo operator\n",
    "        continue      # continue in the if-statement skips printing for odd i\n",
    "    print(f'{i} is even')\n",
    "    if i == 8:        # when i equals 8, the loop terminates (the print statement for i == 8 is executed before)\n",
    "        break"
   ]
  },
  {
   "cell_type": "markdown",
   "id": "88a2f541",
   "metadata": {},
   "source": [
    "## Functions\n",
    "\n",
    "Python come with many built in functions, some of which have been shown or used before, as well as the option to define new functions.\n",
    "\n",
    "To define a function, use ```def function_name(args):``` before the indented body of the function begins in a new line. ```args``` here means arguments, which are passed to function. \n",
    "\n",
    "Note that a function must not necessarily be defined using arguments."
   ]
  },
  {
   "cell_type": "code",
   "execution_count": 29,
   "id": "9f0ec111",
   "metadata": {},
   "outputs": [
    {
     "name": "stdout",
     "output_type": "stream",
     "text": [
      "Greetings\n",
      "hi\n"
     ]
    }
   ],
   "source": [
    "def my_print(word):\n",
    "    print(word)\n",
    "    \n",
    "my_print('Greetings')\n",
    "\n",
    "def print_hi():\n",
    "    print('hi')\n",
    "    \n",
    "print_hi()"
   ]
  },
  {
   "cell_type": "markdown",
   "id": "1b253fc8",
   "metadata": {},
   "source": [
    "### Return\n",
    "\n",
    "To assign the result of a function to a variable for further use, the ```return``` keyword is used. If more than one object is to be returned, use commas to separate them.\n",
    "\n",
    "The ```return``` statement is indented at least once from ```def```, even more than once when using branching, for example.\n",
    "With branching, several return statements may appear in one function. \n",
    "\n",
    "The ```return``` command must not be confused with a ```print()``` statement! "
   ]
  },
  {
   "cell_type": "code",
   "execution_count": 30,
   "id": "944fd92f",
   "metadata": {},
   "outputs": [
    {
     "name": "stdout",
     "output_type": "stream",
     "text": [
      "4.0\n",
      "4.0\n"
     ]
    }
   ],
   "source": [
    "import numpy as np\n",
    "\n",
    "data = [1,2,3,4,5,6,7]\n",
    "print(np.mean(data))\n",
    "\n",
    "def my_mean(arg_list):\n",
    "    sum_ = 0\n",
    "    length_count = 0\n",
    "    for el in arg_list:\n",
    "        sum_ += el\n",
    "        length_count += 1\n",
    "    return sum_/length_count\n",
    "\n",
    "print(my_mean(data))"
   ]
  },
  {
   "cell_type": "markdown",
   "id": "d66e6328",
   "metadata": {},
   "source": [
    "### Yield\n",
    "\n",
    "Besides ```return```, another option is ```yield```. The main difference is that ```return``` will do a calculation and send the result back at once, while when using ```yield``` a **generator object** is created and results can be returned sequentially.\n",
    "\n",
    "Comparing the following two examples, the ```return_list``` function stores the complete list in the memory, while the ```yield_list``` function does not. Instead, it returns the values one after another (when using the ```next()``` function or a loop) remembering the current state of the function."
   ]
  },
  {
   "cell_type": "code",
   "execution_count": 31,
   "id": "b2ec6a2e",
   "metadata": {},
   "outputs": [],
   "source": [
    "def return_list(n):\n",
    "    return [i for i in range(n)]\n",
    "\n",
    "def yield_list(n):    # function mimics range()\n",
    "    i = 0\n",
    "    while i < n:\n",
    "        yield i\n",
    "        i += 1"
   ]
  },
  {
   "cell_type": "code",
   "execution_count": 32,
   "id": "1ff5bfee",
   "metadata": {},
   "outputs": [
    {
     "data": {
      "text/plain": [
       "[0, 1, 2, 3, 4]"
      ]
     },
     "execution_count": 32,
     "metadata": {},
     "output_type": "execute_result"
    }
   ],
   "source": [
    "return_list(5)"
   ]
  },
  {
   "cell_type": "code",
   "execution_count": 33,
   "id": "4b069f72",
   "metadata": {},
   "outputs": [
    {
     "data": {
      "text/plain": [
       "<generator object yield_list at 0x110ee6b30>"
      ]
     },
     "execution_count": 33,
     "metadata": {},
     "output_type": "execute_result"
    }
   ],
   "source": [
    "yield_list(5)   # creates a generator object"
   ]
  },
  {
   "cell_type": "code",
   "execution_count": 34,
   "id": "3b231e83",
   "metadata": {},
   "outputs": [],
   "source": [
    "gen = yield_list(5)    # assign generator object to variable"
   ]
  },
  {
   "cell_type": "code",
   "execution_count": 35,
   "id": "bb4a648c",
   "metadata": {},
   "outputs": [
    {
     "name": "stdout",
     "output_type": "stream",
     "text": [
      "0\n",
      "1\n",
      "2\n"
     ]
    }
   ],
   "source": [
    "print(next(gen))    # call next() to jump to next 'yield'\n",
    "print(next(gen))    # only one value in memory\n",
    "print(next(gen)) # another next() throws error because the generator is depleted after 4!"
   ]
  },
  {
   "cell_type": "markdown",
   "id": "a9a7c3c9",
   "metadata": {},
   "source": [
    "Since the state of the generator is remembered and we have already moved beyond 2 using ```next()```, the following for loop 'finishes' the generator:"
   ]
  },
  {
   "cell_type": "code",
   "execution_count": 36,
   "id": "eb3300c0",
   "metadata": {},
   "outputs": [
    {
     "name": "stdout",
     "output_type": "stream",
     "text": [
      "3\n",
      "4\n"
     ]
    }
   ],
   "source": [
    "for i in gen:\n",
    "    print(i)"
   ]
  },
  {
   "cell_type": "markdown",
   "id": "f7331665",
   "metadata": {},
   "source": [
    "Generator object can be useful when working with huge files which do not fit into memory."
   ]
  },
  {
   "cell_type": "markdown",
   "id": "bd4fa501",
   "metadata": {},
   "source": [
    "For functions with several arguments, the order of inputs is important. They will be read according to the function definition. When the arguments are specified in the function call, the input order does not matter."
   ]
  },
  {
   "cell_type": "code",
   "execution_count": 37,
   "id": "dce2c066",
   "metadata": {},
   "outputs": [
    {
     "name": "stdout",
     "output_type": "stream",
     "text": [
      "5.0\n",
      "0.2\n",
      "5.0\n"
     ]
    }
   ],
   "source": [
    "def divide(numer, denom):\n",
    "    return numer / denom\n",
    "\n",
    "print(divide(10,2))\n",
    "print(divide(2,10))\n",
    "\n",
    "print(divide(denom=2, numer=10))"
   ]
  },
  {
   "cell_type": "markdown",
   "id": "6a19f08d",
   "metadata": {},
   "source": [
    "Default values for a function can be set. If an argument is not specified when calling the function, the default value will be used."
   ]
  },
  {
   "cell_type": "code",
   "execution_count": 38,
   "id": "c54af2a5",
   "metadata": {},
   "outputs": [
    {
     "name": "stdout",
     "output_type": "stream",
     "text": [
      "10.0\n"
     ]
    }
   ],
   "source": [
    "def divide(numer, denom = 1):\n",
    "    return numer / denom\n",
    "print(divide(numer=10))"
   ]
  },
  {
   "cell_type": "markdown",
   "id": "7cb460e6",
   "metadata": {},
   "source": [
    "More advanced function writing involves recursion, meaning python allows a function to call itself."
   ]
  },
  {
   "cell_type": "code",
   "execution_count": 39,
   "id": "8ba6bbc5",
   "metadata": {},
   "outputs": [
    {
     "name": "stdout",
     "output_type": "stream",
     "text": [
      "120\n",
      "120\n"
     ]
    }
   ],
   "source": [
    "import math\n",
    "\n",
    "def my_factorial(n):\n",
    "    if n == 0:\n",
    "        return 1\n",
    "    else:\n",
    "        return n * my_factorial(n-1)\n",
    "    \n",
    "print(my_factorial(5))\n",
    "print(math.factorial(5))"
   ]
  },
  {
   "cell_type": "markdown",
   "id": "0f63571b",
   "metadata": {},
   "source": [
    "### Global and Local Variables\n",
    "\n",
    "Variables can be defined globally, i.e. outside of functions. A variable definded inside a function will only exist inside the scope of the function. Should a local variable be given the same name as a global variable, the function will use the value locally defined!\\\n",
    "Global variables inside functions can be defined using the ```global``` keyword before the respective variables."
   ]
  },
  {
   "cell_type": "code",
   "execution_count": 40,
   "id": "f50bc9b9",
   "metadata": {},
   "outputs": [
    {
     "name": "stdout",
     "output_type": "stream",
     "text": [
      "calling f_1, x = 7\n",
      "after calling f_2: x = 7\n",
      "calling f_3: x = 10\n",
      "after calling f_3: x = 7\n",
      "after calling f_4: x = 10\n"
     ]
    }
   ],
   "source": [
    "x = 7\n",
    "def f_1():\n",
    "    print('calling f_1, x =',x)\n",
    "\n",
    "f_1()\n",
    "    \n",
    "def f_2():\n",
    "    x = 10\n",
    "\n",
    "f_2()\n",
    "print('after calling f_2: x =', x)\n",
    "    \n",
    "def f_3():\n",
    "    x = 10\n",
    "    print('calling f_3: x =', x)\n",
    "    \n",
    "f_3()\n",
    "print('after calling f_3: x =', x)\n",
    "    \n",
    "def f_4():\n",
    "    global x\n",
    "    x = 10\n",
    "\n",
    "f_4()\n",
    "print('after calling f_4: x =', x)"
   ]
  },
  {
   "cell_type": "markdown",
   "id": "2cb7b4d5",
   "metadata": {},
   "source": [
    "## Lambda functions\n",
    "It might occur that a function is needed which is only needed once and has only a limited functionality. To spare you and the reader of the code from jumping to a block of defining such a function you can use a **lambda function**. They are written in-line by the keyword ```lambda```, followed by the parameters and a colon before the body.\\\n",
    "Arguments are passed in parentheses as usual.\n",
    "\n",
    ":::{admonition} Note\n",
    "The lambda syntax should only be used for simple functions!\n",
    ":::"
   ]
  },
  {
   "cell_type": "code",
   "execution_count": 41,
   "id": "936bf367",
   "metadata": {},
   "outputs": [
    {
     "name": "stdout",
     "output_type": "stream",
     "text": [
      "0.6065306597126334\n",
      "0.6065306597126334\n",
      "0.6065306597126334\n"
     ]
    }
   ],
   "source": [
    "from math import exp\n",
    "\n",
    "# regular way\n",
    "def reg_func(x):\n",
    "    return 1/exp(x)\n",
    "print(reg_func(.5))\n",
    "\n",
    "#lambda function with identifier \n",
    "l_func = lambda x: 1/exp(x)        # this way, it is hard to find the origin of a function if it is called elewhere\n",
    "print(l_func(.5))                  # in your code. It is not recommended, yet still possible.\n",
    "\n",
    "# for single use, no identifier\n",
    "print((lambda x: 1/exp(x))(.5) )"
   ]
  },
  {
   "cell_type": "markdown",
   "id": "6c094486",
   "metadata": {},
   "source": [
    "Lambda functions can be easily applied in combination with list comprehension, where the can be defined in place."
   ]
  },
  {
   "cell_type": "code",
   "execution_count": 42,
   "id": "57aa56ce",
   "metadata": {},
   "outputs": [
    {
     "name": "stdout",
     "output_type": "stream",
     "text": [
      "[1.0, 0.36787944117144233, 0.1353352832366127, 0.049787068367863944, 0.018315638888734182]\n",
      "[1.0, 0.36787944117144233, 0.1353352832366127, 0.049787068367863944, 0.018315638888734182]\n"
     ]
    }
   ],
   "source": [
    "# with list comprehension\n",
    "l_list = [(lambda x: 1/exp(x))(i) for i in list_1]\n",
    "print(l_list)\n",
    "\n",
    "# always consider doing it without a lambda function\n",
    "print([(1/exp(i)) for i in list_1])"
   ]
  },
  {
   "cell_type": "markdown",
   "id": "7f13c4b9",
   "metadata": {},
   "source": [
    "## Callbacks\n",
    "\n",
    "A callback is a function, which is run as soon as some criterion is met, usually when some other task is finished to use this result in further computations. One example might be a file which needs to be imported and subsequently transformed in some way, but only as the import is complete. When defining callbacks, we make use of python's property that anything is an object. So, here we pass a function as an argument to another function. The basic syntax when defining functions is the same as before.\n",
    "\n",
    "The following is a basic example for a callback. The first function `enter_string` will print the string provided as argument. The string will then be handled depending on the callback: the length of the string will be printed or the string will be printed in reverse. The `if` clause in `enter_string` together with a default value of `None` allows us to omit a callback."
   ]
  },
  {
   "cell_type": "code",
   "execution_count": 43,
   "id": "8dd77068",
   "metadata": {},
   "outputs": [
    {
     "name": "stdout",
     "output_type": "stream",
     "text": [
      "onomatopoeia\n",
      "12\n",
      "stressed\n",
      "desserts\n",
      "no callback here\n"
     ]
    }
   ],
   "source": [
    "def enter_string(string, callback=None):\n",
    "    print(string)\n",
    "    if callback:\n",
    "        callback(string)\n",
    "    \n",
    "def print_len(string):\n",
    "    print(len(string))\n",
    "    \n",
    "def reverse_string(string):\n",
    "    print(string[::-1])\n",
    "    \n",
    "enter_string('onomatopoeia', callback=print_len)\n",
    "\n",
    "enter_string('stressed', callback=reverse_string)\n",
    "\n",
    "enter_string('no callback here')\n"
   ]
  },
  {
   "cell_type": "markdown",
   "id": "4ddfaac4",
   "metadata": {},
   "source": [
    "## Decorators\n",
    "\n",
    "Functions which expand the functionality of another function are called decorators (or wrappers). However, these decorators do not change the underlying function, i.e. the one that *gets decorated*. \n",
    "\n",
    "This is possible since functions, just like anything in python, are objects and can get passed as arguments to other functions (we have seen this in the context of callbacks). Furthermore, functions may be defined inside other functions, using the the same syntax as usual.\n",
    "\n",
    "Let's look at a simple example of a function and a wrapper/decorator.\n",
    "The initial function `text_to_wrap` simply prints a string. The decorator returns the `wrapper()` function, which adds a line above and below the text, when printing."
   ]
  },
  {
   "cell_type": "code",
   "execution_count": 44,
   "id": "b8fd106d",
   "metadata": {},
   "outputs": [
    {
     "name": "stdout",
     "output_type": "stream",
     "text": [
      "my text\n"
     ]
    }
   ],
   "source": [
    "def text_to_wrap():\n",
    "    print('my text')\n",
    "    \n",
    "text_to_wrap()"
   ]
  },
  {
   "cell_type": "code",
   "execution_count": 45,
   "id": "9765dc45",
   "metadata": {},
   "outputs": [],
   "source": [
    "def emphasize_decorator(func):\n",
    "    def wrapper():\n",
    "        print('##################')\n",
    "        func()\n",
    "        print('!!!!!!!!!!!!!!!!!!')\n",
    "    return wrapper"
   ]
  },
  {
   "cell_type": "markdown",
   "id": "cb1d3124",
   "metadata": {},
   "source": [
    "To decorate `text_to_wrap`, we can assign the decorator with '`text_to_wrap`' as argument to the initial function name. Note that we pass the function name without parentheses."
   ]
  },
  {
   "cell_type": "code",
   "execution_count": 46,
   "id": "ae36e4ff",
   "metadata": {},
   "outputs": [],
   "source": [
    "text_to_wrap = emphasize_decorator(text_to_wrap)"
   ]
  },
  {
   "cell_type": "code",
   "execution_count": 47,
   "id": "1d2166f3",
   "metadata": {
    "scrolled": true
   },
   "outputs": [
    {
     "name": "stdout",
     "output_type": "stream",
     "text": [
      "##################\n",
      "my text\n",
      "!!!!!!!!!!!!!!!!!!\n"
     ]
    }
   ],
   "source": [
    "text_to_wrap()"
   ]
  },
  {
   "cell_type": "markdown",
   "id": "ca584cf8",
   "metadata": {},
   "source": [
    "To shorten this procedure, python includes a special syntax for decorators. With `@emphasize_decorator` (no parentheses!) before the definition of the inner function, we can achieve the same behaviour."
   ]
  },
  {
   "cell_type": "code",
   "execution_count": 48,
   "id": "979e79e5",
   "metadata": {},
   "outputs": [],
   "source": [
    "# emphasize_decorator is being treated as already defined\n",
    "\n",
    "@emphasize_decorator\n",
    "def print_greeting():\n",
    "    print('Hello')"
   ]
  },
  {
   "cell_type": "code",
   "execution_count": 49,
   "id": "588bdb46",
   "metadata": {},
   "outputs": [
    {
     "name": "stdout",
     "output_type": "stream",
     "text": [
      "##################\n",
      "Hello\n",
      "!!!!!!!!!!!!!!!!!!\n"
     ]
    }
   ],
   "source": [
    "print_greeting()"
   ]
  },
  {
   "cell_type": "markdown",
   "id": "ced5f8a8",
   "metadata": {},
   "source": [
    "We see, that `print_greeting()` has initially been defined to print 'Hello'. With the decorator call using `@`, however, we have decorated it on the fly to add the emphasis lines around the text from `emphasize_decorator()`. \n",
    "\n",
    "Furthermore, decorators may be chained by subsequent calls of the decorator functions with the same `@`-syntax before the definition of the inner function. This example uses the same decorator twice, which is just a special case. Any decorators can be chained."
   ]
  },
  {
   "cell_type": "code",
   "execution_count": 50,
   "id": "0ef57f61",
   "metadata": {},
   "outputs": [],
   "source": [
    "@emphasize_decorator\n",
    "@emphasize_decorator\n",
    "def print_greeting():\n",
    "    print('Hello')"
   ]
  },
  {
   "cell_type": "markdown",
   "id": "9e36b28b",
   "metadata": {},
   "source": [
    "To pass arguments through the decorator, we can use `*args` and `**kwargs` as placeholder for an arbitrary number of positional arguments and keyword arguments. Note that this is not unique for decorators, but can be used for the definition of any function! We will now update the first two examples from above:\n",
    "    - `text_to_wrap` will get two arguments to print\n",
    "    - `wrapper` inside `emphasize_decorator` will get the placeholders in it's definition "
   ]
  },
  {
   "cell_type": "code",
   "execution_count": 51,
   "id": "56b2d53a",
   "metadata": {},
   "outputs": [],
   "source": [
    "def emphasize_decorator(func):\n",
    "    def wrapper(*args, **kwargs):\n",
    "        print('##################')\n",
    "        func(*args, **kwargs)\n",
    "        print('!!!!!!!!!!!!!!!!!!')\n",
    "    return wrapper"
   ]
  },
  {
   "cell_type": "code",
   "execution_count": 52,
   "id": "2b62dbbd",
   "metadata": {},
   "outputs": [],
   "source": [
    "@emphasize_decorator\n",
    "def text_to_wrap(w1, w2):\n",
    "    print(f\"{w1}\\n{w2}\")"
   ]
  },
  {
   "cell_type": "code",
   "execution_count": 53,
   "id": "362fb9dd",
   "metadata": {
    "scrolled": false
   },
   "outputs": [
    {
     "name": "stdout",
     "output_type": "stream",
     "text": [
      "##################\n",
      "line1\n",
      "line2\n",
      "!!!!!!!!!!!!!!!!!!\n"
     ]
    }
   ],
   "source": [
    "text_to_wrap('line1', 'line2')"
   ]
  },
  {
   "cell_type": "code",
   "execution_count": null,
   "id": "59ab5f34",
   "metadata": {},
   "outputs": [],
   "source": []
  },
  {
   "cell_type": "markdown",
   "id": "290c2c07",
   "metadata": {},
   "source": [
    "## Classes\n",
    "\n",
    "Since almost everything in python is an object, classes are a very important element to its functionality. A class can be seen as a constructor for certain objects. \\\n",
    "\n",
    "To define a class, the ```class``` keyword is followed by the class name. By convention, for class names the CamelCase style is used. "
   ]
  },
  {
   "cell_type": "code",
   "execution_count": 54,
   "id": "0949f42e",
   "metadata": {},
   "outputs": [
    {
     "name": "stdout",
     "output_type": "stream",
     "text": [
      "Uni: Passau\n",
      "Chris' subject: biology\n",
      "class name: Student\n",
      "Tina's subject: biology\n"
     ]
    }
   ],
   "source": [
    "# define class Student\n",
    "\n",
    "class Student():\n",
    "    uni = 'Passau'\n",
    "    subject = 'math'\n",
    "    grades = [1.3, 1.7, 3.0]\n",
    "        \n",
    "# instantiate object  \n",
    "Chris = Student\n",
    "Tina = Student\n",
    "\n",
    "# get uni of student Chris\n",
    "print('Uni:', Chris.uni)\n",
    "\n",
    "# student changes subject\n",
    "Chris.subject = 'biology'\n",
    "\n",
    "print(\"Chris' subject:\", Chris.subject)\n",
    "print('class name:', Chris.__name__)\n",
    "\n",
    "print(\"Tina's subject:\", Tina.subject)"
   ]
  },
  {
   "cell_type": "markdown",
   "id": "25dff0bc",
   "metadata": {},
   "source": [
    "Classes can not only store values but also functions, called methods. Methods are defined just like regular functions, but inside the class body. To make a class more useful (compared to the example above), the ```__init__()``` method is needed. As arguments, it takes ```self``` and all other arguments needed as input to build the object. ```self``` is used for instance variables, i.e. variables that belong to an object and not the whole class.\n",
    "\n",
    "Methods and class variables are chained by a ```.``` to the object.\n"
   ]
  },
  {
   "cell_type": "code",
   "execution_count": 55,
   "id": "0b0e5072",
   "metadata": {},
   "outputs": [
    {
     "name": "stdout",
     "output_type": "stream",
     "text": [
      "Chris: engineering\n",
      "Tina: Physics\n",
      "2.0\n",
      "2.75\n"
     ]
    }
   ],
   "source": [
    "import numpy as np\n",
    "\n",
    "class Student():\n",
    "    def __init__(self, uni, subject, grades):\n",
    "        self.uni = uni\n",
    "        self.subject = subject\n",
    "        self.grades = grades\n",
    "    \n",
    "    #define method to show average grade\n",
    "    def avg_grade(self):\n",
    "        return np.mean(self.grades)\n",
    "     \n",
    "Chris = Student('Passau', 'Art', [1.3, 1.7, 3.0])\n",
    "Tina = Student('Regensburg', 'Physics', [1.0, 2.0])\n",
    "\n",
    "Chris.subject = 'engineering'\n",
    "print(f'Chris: {Chris.subject}')\n",
    "print(f'Tina: {Tina.subject}')\n",
    "\n",
    "print(Chris.avg_grade())\n",
    "\n",
    "# lists have a built-in method append, which adds items given as arguments to the end of the list (see help(list))\n",
    "Chris.grades.append(5.0)\n",
    "print(Chris.avg_grade())"
   ]
  },
  {
   "cell_type": "markdown",
   "id": "4da936c2",
   "metadata": {},
   "source": [
    "### Inheritance\n",
    "\n",
    "Classes can inherit all properties from other classes by using the ```super()``` function in the constructor. This should be applied, if a new class should expand the functionality of the original class without wanting to change the original class. For example if a Student is also a resident: "
   ]
  },
  {
   "cell_type": "code",
   "execution_count": 56,
   "id": "b36d6319",
   "metadata": {},
   "outputs": [
    {
     "name": "stdout",
     "output_type": "stream",
     "text": [
      " Uni and address: Passau, Innstr. 27\n",
      "<class '__main__.LocalResident'>\n"
     ]
    }
   ],
   "source": [
    "class LocalResident(Student):\n",
    "    def __init__(self, uni, subject, grades, address):\n",
    "        super().__init__(uni, subject, grades)\n",
    "        self.address = address\n",
    "        \n",
    "Chris = LocalResident('Passau', 'Art', [1.3, 1.7, 3.0, 5.0], 'Innstr. 27')\n",
    "\n",
    "print(f\" Uni and address: {Chris.uni}, {Chris.address}\")\n",
    "print(type(Chris))"
   ]
  },
  {
   "cell_type": "markdown",
   "id": "0abe2c47",
   "metadata": {},
   "source": [
    "## Files\n",
    "\n",
    "Regular python files end with *.py* and code can be written and read in any text editor. Only the suffix will tell the interpreter how to handle the file, in this case as a python script.\n",
    "\n",
    "Jupyter Notebook files end with *.ipynb*. The special cell-wise structure leads to more formatting effort which is stored in a .json format (see later chapters), meaning that when a *.ipynb* file is opened in an ordinary text editor, the structure will be very different from what is shown in this jupyter interface. \n",
    "\n",
    "Below a jupyter notebook is shown on the left. The formatting is seen on the right, where the *.ipynb* file was openened using a text editor. "
   ]
  },
  {
   "cell_type": "markdown",
   "id": "2d2820f1",
   "metadata": {},
   "source": [
    "![](graphics/struc.png)"
   ]
  },
  {
   "cell_type": "markdown",
   "id": "0b984a7b",
   "metadata": {},
   "source": [
    "# Second steps\n",
    "\n",
    "In the following, some common operations are shown in order to get used to the python language und its functionality.\n",
    "\n",
    "## NumPy\n",
    "One of the most useful and widely used libraries is **NumPy**. It makes working with arrays, and thus vectors and matrices, very efficient and includes a broad variety of mathematical tools. Because of its powerful implementations, it serves many other packages as a basis.\n",
    "\n",
    "Even though this course will hardly rely on numpy itself, a short introduction is given in the following.\n",
    "\n",
    "We will start with importing as **np**. Information will mainly be given by comments in the code."
   ]
  },
  {
   "cell_type": "code",
   "execution_count": 57,
   "id": "25df5f87",
   "metadata": {},
   "outputs": [
    {
     "name": "stdout",
     "output_type": "stream",
     "text": [
      "sin(pi) =  1.2246467991473532e-16\n"
     ]
    }
   ],
   "source": [
    "import numpy as np\n",
    "\n",
    "# mathematical functions:\n",
    "print('sin(pi) = ',np.sin(np.pi)) \n",
    "# note that the sine of the number pi is defined as zero, yet python returns a small number > 0"
   ]
  },
  {
   "cell_type": "markdown",
   "id": "1fc4597f",
   "metadata": {},
   "source": [
    "One of the most useful concepts is that of *arrays*, which can have an arbitrary number of dimensions (yet three should do here). Arrays correspond mainly to what you should know as scalar, vector or matrix. "
   ]
  },
  {
   "cell_type": "code",
   "execution_count": 58,
   "id": "ffc18cf5",
   "metadata": {},
   "outputs": [
    {
     "name": "stdout",
     "output_type": "stream",
     "text": [
      "0. dimension of array a (5,)\n",
      "1. sum of array a: 15\n",
      "2. variance of array a: 2.0\n",
      "3. one plus array b: [1 1 1 1 2]\n",
      "4. element-wise multiplication of arrays: [0 0 0 0 5]\n",
      "5. scalar by dot product: 5\n",
      "5.1 vector multiplication: \n",
      " [[0 0 0 0 1]\n",
      " [0 0 0 0 2]\n",
      " [0 0 0 0 3]\n",
      " [0 0 0 0 4]\n",
      " [0 0 0 0 5]]\n",
      "5.2 transposed array: (5,) transp. matrix: (5, 1)\n",
      "6. array:     reshaped:           same result:\n",
      " [[0. 0. 0.]\n",
      " [0. 0. 0.]] [0. 0. 0. 0. 0. 0.] [0. 0. 0. 0. 0. 0.]\n"
     ]
    }
   ],
   "source": [
    "arr_a = np.array([1,2,3,4,5])\n",
    "arr_b = np.array([0,0,0,0,1])\n",
    "\n",
    "#dimensions of an array\n",
    "print('0. dimension of array a', arr_a.shape)\n",
    "\n",
    "# operations can be performed by methods and methods chaining on these array objects\n",
    "print('1. sum of array a:',arr_a.sum())\n",
    "print('2. variance of array a:', arr_a.var())\n",
    "\n",
    "# broadcasting a scalar to an array\n",
    "print('3. one plus array b:', 1 + arr_b)\n",
    "print('4. element-wise multiplication of arrays:', arr_a * arr_b)\n",
    "\n",
    "# vector multiplication / dot product\n",
    "print('5. scalar by dot product:', arr_a.transpose().dot(arr_b))   # this should not yield a scalar for vectors!\n",
    "\n",
    "# for real vectors, the inner dimension of the product is crucial -> (5x5)\n",
    "print('5.1 vector multiplication: \\n', np.matrix(arr_a).transpose().dot(np.matrix(arr_b)))\n",
    "\n",
    "# shapes differ for arrays and matrices\n",
    "print('5.2 transposed array:', arr_a.transpose().shape, 'transp. matrix:', np.matrix(arr_a).transpose().shape )\n",
    "\n",
    "# to reshape an array, use the reshape method\n",
    "zero_arr = np.zeros(shape=(2,3))\n",
    "print('6. array:     reshaped:           same result:\\n', \n",
    "      zero_arr, zero_arr.reshape(-1,), zero_arr.reshape(6,))  \n",
    "# -1 is for \"unknown\" dim (like a wildcard)"
   ]
  },
  {
   "cell_type": "code",
   "execution_count": 59,
   "id": "34b61a27",
   "metadata": {},
   "outputs": [
    {
     "name": "stdout",
     "output_type": "stream",
     "text": [
      "[[0.42037307 1.3779819  0.27930685 0.81065315 0.79621486]\n",
      " [0.34305529 0.19302226 0.39015801 0.75026547 2.46052019]\n",
      " [0.40279914 0.65335425 0.19088938 0.03304772 0.25533564]\n",
      " [0.64371123 0.09291452 0.41924845 0.24788059 0.1614324 ]\n",
      " [0.72723591 0.25638157 0.40633876 0.15185479 0.70814738]]\n"
     ]
    }
   ],
   "source": [
    "# random number generation with np.random module\n",
    "\n",
    "# for a list of probability distributions, the autocomplete function can be used (press tab after the dot)\n",
    "random_expo = np.random.exponential(scale=.5, size=(5,5))\n",
    "print(random_expo)"
   ]
  },
  {
   "cell_type": "markdown",
   "id": "a552af17",
   "metadata": {},
   "source": [
    "# Working with Data \n",
    "Several libraries offer useful tools to work with data in order to allow for a meaningful analysis. One of the most popular and powerful is [**Pandas**](https://pandas.pydata.org/pandas-docs/stable/index.html). Beside including efficient ways for cleaning and manipulating data, pandas also includes functions for statistical analysis and graphics.\n",
    "\n",
    "Usually, pandas is imported under the alias ```pd```."
   ]
  },
  {
   "cell_type": "code",
   "execution_count": 60,
   "id": "f3606ea9",
   "metadata": {},
   "outputs": [],
   "source": [
    "import pandas as pd"
   ]
  },
  {
   "cell_type": "markdown",
   "id": "88222dcc",
   "metadata": {},
   "source": [
    "## Pandas - DataFrames and Series\n",
    "\n",
    "### Indexing\n",
    "The basic elements for data are *DataFrames* and *Series*. A DataFrame is a whole matrix- or table-like representation of data with column and row names. A Series can be understood as a single column of such a data matrix (but without the need for a table).\\\n",
    "There are respective functions to turn other objects, e.g. lists or dicts, into DataFrames or Series. Indexing, similar to lists or dicts, uses square brackets."
   ]
  },
  {
   "cell_type": "code",
   "execution_count": 61,
   "id": "ada292aa",
   "metadata": {},
   "outputs": [
    {
     "name": "stdout",
     "output_type": "stream",
     "text": [
      "df:\n",
      "    var1\n",
      "0     1\n",
      "1     2\n",
      "2     3\n",
      "3     4\n",
      "4     5\n",
      "5     6\n",
      "6     7\n",
      "series:\n",
      " 0    1\n",
      "1    2\n",
      "2    3\n",
      "3    4\n",
      "4    5\n",
      "5    6\n",
      "6    7\n",
      "dtype: int64\n",
      "select column from df:\n",
      " 0    1\n",
      "1    2\n",
      "2    3\n",
      "3    4\n",
      "4    5\n",
      "5    6\n",
      "6    7\n",
      "Name: var1, dtype: int64\n"
     ]
    }
   ],
   "source": [
    "my_list = [1,2,3,4,5,6,7]\n",
    "my_df = pd.DataFrame(my_list, columns=['var1'])\n",
    "print('df:\\n', my_df)\n",
    "\n",
    "my_series = pd.Series(my_list)\n",
    "print('series:\\n',my_series)\n",
    "\n",
    "# selecting a single column from a DataFrame\n",
    "print('select column from df:\\n', my_df['var1'])"
   ]
  },
  {
   "cell_type": "markdown",
   "id": "3cf19ced",
   "metadata": {},
   "source": [
    "To select specific rows or columns, the ```iloc``` method, for selecting based on an index, and ```loc``` method, based on labels, are recommended. Especially when several columns are to be selected. Indexing can also be done by boolean Series (or lists) and thus conditionally. \\\n",
    "Another way to select a single column is by chaining the column's name to the DataFrame's name by a dot (like in method chaining)."
   ]
  },
  {
   "cell_type": "code",
   "execution_count": 62,
   "id": "5bcc5634",
   "metadata": {},
   "outputs": [
    {
     "name": "stdout",
     "output_type": "stream",
     "text": [
      "          age  height\n",
      "person_a   20     183\n",
      "person_b   34     179\n",
      "person_c   56     172\n",
      "1.: 34 is the same as 34\n",
      "indexing by condition/list\n",
      "           age  height\n",
      "person_b   34     179\n",
      "person_c   56     172 \n",
      "corresponds to \n",
      "           age  height\n",
      "person_b   34     179\n",
      "person_c   56     172\n",
      "<class 'pandas.core.series.Series'>\n"
     ]
    }
   ],
   "source": [
    "my_df = pd.DataFrame(\n",
    "{'age': [20, 34, 56],\n",
    " 'height': [183, 179, 172]\n",
    "}, index=['person_a', 'person_b', 'person_c'])\n",
    "print(my_df)\n",
    "print('1.:', my_df.loc['person_b','age'], 'is the same as',  my_df.iloc[1,0])\n",
    "\n",
    "# age > 27\n",
    "print('indexing by condition/list\\n', my_df.loc[my_df.age >27], '\\ncorresponds to \\n', my_df.loc[[False, True, True]])\n",
    "print(type(my_df.age >27))"
   ]
  },
  {
   "cell_type": "markdown",
   "id": "5b57bc08",
   "metadata": {},
   "source": [
    "### Useful Methods\n",
    "\n",
    "Pandas includes many useful methods that will help you get to know and manipulate a dataset. Some of these methods are shown in the following, others are introduced later when needed.\\\n",
    "More often than not, a dataset will contain missing values, i.e. cells in a data table contain no value. They will be depicted as ```NaN```, **N**ot **a** **N**umber."
   ]
  },
  {
   "cell_type": "code",
   "execution_count": 63,
   "id": "c2f3bb91",
   "metadata": {},
   "outputs": [
    {
     "data": {
      "text/html": [
       "<div>\n",
       "<style scoped>\n",
       "    .dataframe tbody tr th:only-of-type {\n",
       "        vertical-align: middle;\n",
       "    }\n",
       "\n",
       "    .dataframe tbody tr th {\n",
       "        vertical-align: top;\n",
       "    }\n",
       "\n",
       "    .dataframe thead th {\n",
       "        text-align: right;\n",
       "    }\n",
       "</style>\n",
       "<table border=\"1\" class=\"dataframe\">\n",
       "  <thead>\n",
       "    <tr style=\"text-align: right;\">\n",
       "      <th></th>\n",
       "      <th>age</th>\n",
       "      <th>height</th>\n",
       "    </tr>\n",
       "  </thead>\n",
       "  <tbody>\n",
       "    <tr>\n",
       "      <th>0</th>\n",
       "      <td>20.0</td>\n",
       "      <td>183.0</td>\n",
       "    </tr>\n",
       "    <tr>\n",
       "      <th>1</th>\n",
       "      <td>34.0</td>\n",
       "      <td>179.0</td>\n",
       "    </tr>\n",
       "    <tr>\n",
       "      <th>2</th>\n",
       "      <td>56.0</td>\n",
       "      <td>NaN</td>\n",
       "    </tr>\n",
       "    <tr>\n",
       "      <th>3</th>\n",
       "      <td>NaN</td>\n",
       "      <td>163.0</td>\n",
       "    </tr>\n",
       "    <tr>\n",
       "      <th>4</th>\n",
       "      <td>44.0</td>\n",
       "      <td>NaN</td>\n",
       "    </tr>\n",
       "  </tbody>\n",
       "</table>\n",
       "</div>"
      ],
      "text/plain": [
       "    age  height\n",
       "0  20.0   183.0\n",
       "1  34.0   179.0\n",
       "2  56.0     NaN\n",
       "3   NaN   163.0\n",
       "4  44.0     NaN"
      ]
     },
     "execution_count": 63,
     "metadata": {},
     "output_type": "execute_result"
    }
   ],
   "source": [
    "import numpy as np\n",
    "my_df =  pd.DataFrame(\n",
    "{'age': [20, 34, 56, np.nan, 44],\n",
    " 'height': [183, 179, np.nan,  163, np.nan]\n",
    "})\n",
    "my_df"
   ]
  },
  {
   "cell_type": "code",
   "execution_count": 64,
   "id": "c1b588a2",
   "metadata": {},
   "outputs": [
    {
     "name": "stdout",
     "output_type": "stream",
     "text": [
      "0.\n",
      "     age  height\n",
      "0  20.0   183.0\n",
      "1  34.0   179.0\n",
      "2  56.0     NaN\n",
      "3   NaN   163.0\n",
      "4  44.0     NaN\n",
      "\n",
      "1.\n",
      "<class 'pandas.core.frame.DataFrame'>\n",
      "RangeIndex: 5 entries, 0 to 4\n",
      "Data columns (total 2 columns):\n",
      " #   Column  Non-Null Count  Dtype  \n",
      "---  ------  --------------  -----  \n",
      " 0   age     4 non-null      float64\n",
      " 1   height  3 non-null      float64\n",
      "dtypes: float64(2)\n",
      "memory usage: 208.0 bytes\n",
      "\n",
      "2.\n",
      "              age      height\n",
      "count   4.000000    3.000000\n",
      "mean   38.500000  175.000000\n",
      "std    15.264338   10.583005\n",
      "min    20.000000  163.000000\n",
      "25%    30.500000  171.000000\n",
      "50%    39.000000  179.000000\n",
      "75%    47.000000  181.000000\n",
      "max    56.000000  183.000000\n",
      "\n",
      "3.\n",
      " age       1\n",
      "height    2\n",
      "dtype: int64\n",
      "\n",
      "4.\n",
      " 38.5\n",
      "\n",
      " 5.\n",
      "     age  height\n",
      "0  20.0   183.0\n",
      "1  34.0   179.0\n",
      "2  56.0   175.0\n",
      "3  38.5   163.0\n",
      "4  44.0   175.0\n",
      "\n",
      "6.\n",
      "     age  height\n",
      "3  38.5   163.0\n",
      "2  56.0   175.0\n",
      "4  44.0   175.0\n",
      "1  34.0   179.0\n",
      "0  20.0   183.0\n"
     ]
    }
   ],
   "source": [
    "# view the first rows (view last rows with .tail())\n",
    "print('0.\\n', my_df.head(n=5))\n",
    "\n",
    "\n",
    "# general information\n",
    "print('\\n1.')\n",
    "my_df.info()\n",
    "\n",
    "# descriptive statistsics on dataset\n",
    "print('\\n2.\\n',my_df.describe())\n",
    "\n",
    "# number of missing values per column\n",
    "print('\\n3.\\n',my_df.isnull().sum())\n",
    "\n",
    "# single statistics are included as methods, also for single columns\n",
    "print('\\n4.\\n', my_df.age.mean())\n",
    "\n",
    "# fill missing values (e.g. with mean of column)\n",
    "print('\\n 5.\\n', my_df.fillna(my_df.mean()))    \n",
    "\n",
    "# note that you must assign this to my_df (or a different variable) in order to impute missing values permanently!\n",
    "my_df = my_df.fillna(my_df.mean())\n",
    "\n",
    "# sort values by column(s)\n",
    "print('\\n6.\\n', my_df.sort_values(by=['height']))    "
   ]
  },
  {
   "cell_type": "code",
   "execution_count": 65,
   "id": "1a4cd5ba",
   "metadata": {},
   "outputs": [
    {
     "name": "stdout",
     "output_type": "stream",
     "text": [
      "7.\n",
      " Index(['age', 'height'], dtype='object')\n",
      "8.\n",
      "     age  height\n",
      "0  20.0   183.0\n",
      "1  34.0   179.0\n",
      "2  56.0   175.0\n",
      "3  38.5   163.0\n",
      "4  44.0   175.0\n",
      "9.\n",
      "    height\n",
      "0   183.0\n",
      "1   179.0\n",
      "2   175.0\n",
      "3   163.0\n",
      "4   175.0\n",
      "10.\n",
      "     age  height  weight\n",
      "0  20.0   183.0      83\n",
      "1  34.0   179.0      63\n",
      "2  56.0   175.0      98\n",
      "3  44.0   175.0      77\n",
      "11.\n",
      "              age    height    weight\n",
      "age     1.000000 -0.946549  0.481176\n",
      "height -0.946549  1.000000 -0.282126\n",
      "weight  0.481176 -0.282126  1.000000\n"
     ]
    },
    {
     "data": {
      "text/html": [
       "<div>\n",
       "<style scoped>\n",
       "    .dataframe tbody tr th:only-of-type {\n",
       "        vertical-align: middle;\n",
       "    }\n",
       "\n",
       "    .dataframe tbody tr th {\n",
       "        vertical-align: top;\n",
       "    }\n",
       "\n",
       "    .dataframe thead th {\n",
       "        text-align: right;\n",
       "    }\n",
       "</style>\n",
       "<table border=\"1\" class=\"dataframe\">\n",
       "  <thead>\n",
       "    <tr style=\"text-align: right;\">\n",
       "      <th></th>\n",
       "      <th>age</th>\n",
       "      <th>height</th>\n",
       "      <th>weight</th>\n",
       "      <th>bmi</th>\n",
       "    </tr>\n",
       "  </thead>\n",
       "  <tbody>\n",
       "    <tr>\n",
       "      <th>0</th>\n",
       "      <td>20.0</td>\n",
       "      <td>183.0</td>\n",
       "      <td>83</td>\n",
       "      <td>24.784258</td>\n",
       "    </tr>\n",
       "    <tr>\n",
       "      <th>1</th>\n",
       "      <td>34.0</td>\n",
       "      <td>179.0</td>\n",
       "      <td>63</td>\n",
       "      <td>19.662308</td>\n",
       "    </tr>\n",
       "    <tr>\n",
       "      <th>2</th>\n",
       "      <td>56.0</td>\n",
       "      <td>175.0</td>\n",
       "      <td>98</td>\n",
       "      <td>32.000000</td>\n",
       "    </tr>\n",
       "    <tr>\n",
       "      <th>3</th>\n",
       "      <td>44.0</td>\n",
       "      <td>175.0</td>\n",
       "      <td>77</td>\n",
       "      <td>25.142857</td>\n",
       "    </tr>\n",
       "  </tbody>\n",
       "</table>\n",
       "</div>"
      ],
      "text/plain": [
       "    age  height  weight        bmi\n",
       "0  20.0   183.0      83  24.784258\n",
       "1  34.0   179.0      63  19.662308\n",
       "2  56.0   175.0      98  32.000000\n",
       "3  44.0   175.0      77  25.142857"
      ]
     },
     "execution_count": 65,
     "metadata": {},
     "output_type": "execute_result"
    }
   ],
   "source": [
    "# get column names (useful for looping)\n",
    "print('7.\\n', my_df.columns)\n",
    "\n",
    "# drop rows containing missing values\n",
    "print('8.\\n', my_df.dropna()) \n",
    "\n",
    "# drop rows or columns\n",
    "print('9.\\n', my_df.drop(['age'], axis=1))\n",
    "\n",
    "# merge DataFrames (automatically on shared variable if not specified otherwise)\n",
    "df2 = pd.DataFrame(\n",
    "{'age': [20, 34, 56, np.nan, 44],\n",
    " 'weight': [83, 63, 98,  50, 77]\n",
    "})\n",
    "print('10.\\n', my_df.merge(df2))\n",
    "my_df = my_df.merge(df2)\n",
    "\n",
    "# correlation matrix\n",
    "print('11.\\n', my_df.corr())\n",
    "\n",
    "# adding new columns\n",
    "my_df = my_df.assign(bmi = my_df.weight/(my_df.height/100)**2)\n",
    "my_df"
   ]
  },
  {
   "cell_type": "markdown",
   "id": "8eb288ed",
   "metadata": {},
   "source": [
    "As a last tool in this section, we will look at the ```get_dummies()``` function. Dummy variables are used to encode categorical variables with zero and one, for example in order to calculate the correlation with some other numerical variable."
   ]
  },
  {
   "cell_type": "code",
   "execution_count": 66,
   "id": "03953e12",
   "metadata": {},
   "outputs": [
    {
     "name": "stdout",
     "output_type": "stream",
     "text": [
      "   black  blonde  red\n",
      "0      0       1    0\n",
      "1      1       0    0\n",
      "2      0       0    1\n",
      "3      0       0    1\n",
      "4      1       0    0\n"
     ]
    }
   ],
   "source": [
    "df3 = pd.DataFrame(\n",
    "{'hair': ['blonde', 'black', 'red', 'red', 'black']\n",
    "})\n",
    "\n",
    "print(pd.get_dummies(df3.hair))"
   ]
  },
  {
   "cell_type": "markdown",
   "id": "482e1c7e",
   "metadata": {},
   "source": [
    "### Plots\n",
    "Methods for standard pot types are available. For a histogram of the data, just use ```.hist()```. Other types are available by chaining ```.plot.``` and the plot type. "
   ]
  },
  {
   "cell_type": "code",
   "execution_count": 67,
   "id": "d859bf32",
   "metadata": {},
   "outputs": [
    {
     "data": {
      "text/plain": [
       "array([[<AxesSubplot:title={'center':'age'}>,\n",
       "        <AxesSubplot:title={'center':'height'}>],\n",
       "       [<AxesSubplot:title={'center':'weight'}>,\n",
       "        <AxesSubplot:title={'center':'bmi'}>]], dtype=object)"
      ]
     },
     "execution_count": 67,
     "metadata": {},
     "output_type": "execute_result"
    },
    {
     "data": {
      "image/png": "[encoded data removed]",
      "text/plain": [
       "<Figure size 432x288 with 4 Axes>"
      ]
     },
     "metadata": {
      "needs_background": "light"
     },
     "output_type": "display_data"
    }
   ],
   "source": [
    "# histogram\n",
    "my_df.hist()"
   ]
  },
  {
   "cell_type": "code",
   "execution_count": 68,
   "id": "3d1101e9",
   "metadata": {},
   "outputs": [
    {
     "data": {
      "text/plain": [
       "<AxesSubplot:xlabel='age'>"
      ]
     },
     "execution_count": 68,
     "metadata": {},
     "output_type": "execute_result"
    },
    {
     "data": {
      "image/png": "[encoded data removed]",
      "text/plain": [
       "<Figure size 432x288 with 1 Axes>"
      ]
     },
     "metadata": {
      "needs_background": "light"
     },
     "output_type": "display_data"
    }
   ],
   "source": [
    "# lineplot\n",
    "my_df.sort_values(by='age').plot.line(x='age', y='height')"
   ]
  },
  {
   "cell_type": "code",
   "execution_count": 69,
   "id": "95284075",
   "metadata": {},
   "outputs": [
    {
     "data": {
      "text/plain": [
       "<AxesSubplot:xlabel='age', ylabel='weight'>"
      ]
     },
     "execution_count": 69,
     "metadata": {},
     "output_type": "execute_result"
    },
    {
     "data": {
      "image/png": "[encoded data removed]",
      "text/plain": [
       "<Figure size 432x288 with 1 Axes>"
      ]
     },
     "metadata": {
      "needs_background": "light"
     },
     "output_type": "display_data"
    }
   ],
   "source": [
    "# scatter plot\n",
    "my_df.plot.scatter(x='age', y='weight')"
   ]
  },
  {
   "cell_type": "markdown",
   "id": "89cea4a0",
   "metadata": {},
   "source": [
    "### Importing and Exporting Data\n",
    "\n",
    "Your data may come to you in various file formats. Pandas enables you to import data from all common formats. The respective functions are usually called ```read_``` and ```to_``` followed by the respective file type."
   ]
  },
  {
   "cell_type": "markdown",
   "id": "7008cc2f",
   "metadata": {},
   "source": [
    "To read a *.csv* for example, use the ```read_csv()``` function. Note that the file must not be stored locally on your computer."
   ]
  },
  {
   "cell_type": "code",
   "execution_count": 70,
   "id": "9b212801",
   "metadata": {},
   "outputs": [
    {
     "name": "stdout",
     "output_type": "stream",
     "text": [
      "         Date          Open          High           Low         Close  \\\n",
      "0  2020-03-10  10724.980469  11032.290039  10423.900391  10475.490234   \n",
      "1  2020-03-11  10601.849609  10761.429688  10390.509766  10438.679688   \n",
      "2  2020-03-12   9863.990234   9932.559570   9139.120117   9161.129883   \n",
      "\n",
      "      Adj Close     Volume  \n",
      "0  10475.490234  267400800  \n",
      "1  10438.679688  216708900  \n",
      "2   9161.129883  390477000  \n",
      "           Date          Open          High           Low         Close  \\\n",
      "251  2021-03-08  14024.570313  14402.919922  13977.129883  14380.910156   \n",
      "252  2021-03-09  14345.509766  14475.650391  14309.349609  14437.940430   \n",
      "253  2021-03-10  14439.450195  14554.490234  14408.519531  14528.570313   \n",
      "\n",
      "        Adj Close     Volume  \n",
      "251  14380.910156  109071900  \n",
      "252  14437.940430  107881800  \n",
      "253  14528.570313          0  \n"
     ]
    }
   ],
   "source": [
    "# import from csv\n",
    "import pandas as pd\n",
    "dax = pd.read_csv('data/DAX.csv')\n",
    "print(dax.head(3))\n",
    "print(dax.tail(3))"
   ]
  },
  {
   "cell_type": "code",
   "execution_count": 71,
   "id": "4d146f97",
   "metadata": {},
   "outputs": [],
   "source": [
    "# save data frame to excel\n",
    "dax.to_excel('data/DAX.xlsx')"
   ]
  },
  {
   "cell_type": "markdown",
   "id": "7c05cc38",
   "metadata": {},
   "source": [
    " "
   ]
  },
  {
   "cell_type": "markdown",
   "id": "9287c34b",
   "metadata": {},
   "source": [
    "Lets do some exploration and manipulation of the historical data from the DAX index we just imported.\n",
    "$ $"
   ]
  },
  {
   "cell_type": "code",
   "execution_count": 72,
   "id": "38aa302e",
   "metadata": {},
   "outputs": [
    {
     "name": "stdout",
     "output_type": "stream",
     "text": [
      "shape: (254, 7)\n"
     ]
    }
   ],
   "source": [
    "print('shape:', dax.shape)"
   ]
  },
  {
   "cell_type": "code",
   "execution_count": 73,
   "id": "0e8ea65c",
   "metadata": {},
   "outputs": [
    {
     "name": "stdout",
     "output_type": "stream",
     "text": [
      "<class 'pandas.core.frame.DataFrame'>\n",
      "RangeIndex: 254 entries, 0 to 253\n",
      "Data columns (total 7 columns):\n",
      " #   Column     Non-Null Count  Dtype  \n",
      "---  ------     --------------  -----  \n",
      " 0   Date       254 non-null    object \n",
      " 1   Open       254 non-null    float64\n",
      " 2   High       254 non-null    float64\n",
      " 3   Low        254 non-null    float64\n",
      " 4   Close      254 non-null    float64\n",
      " 5   Adj Close  254 non-null    float64\n",
      " 6   Volume     254 non-null    int64  \n",
      "dtypes: float64(5), int64(1), object(1)\n",
      "memory usage: 14.0+ KB\n"
     ]
    }
   ],
   "source": [
    "dax.info()    # the 'Date' column is of dtype object "
   ]
  },
  {
   "cell_type": "code",
   "execution_count": 74,
   "id": "80901911",
   "metadata": {},
   "outputs": [
    {
     "name": "stdout",
     "output_type": "stream",
     "text": [
      "<class 'str'>\n"
     ]
    }
   ],
   "source": [
    "# check type of first entry in 'Date'\n",
    "print(type(dax.Date[0]))"
   ]
  },
  {
   "cell_type": "markdown",
   "id": "3786315c",
   "metadata": {},
   "source": [
    "Transform it to *datetime*, a special type for dates in python."
   ]
  },
  {
   "cell_type": "code",
   "execution_count": 75,
   "id": "0f8c55dd",
   "metadata": {},
   "outputs": [
    {
     "name": "stdout",
     "output_type": "stream",
     "text": [
      "0   2020-03-10\n",
      "1   2020-03-11\n",
      "2   2020-03-12\n",
      "Name: Datetime, dtype: datetime64[ns]\n"
     ]
    }
   ],
   "source": [
    "dax['Datetime'] = pd.to_datetime(dax.Date)\n",
    "print(dax.Datetime.head(3))    # check dtype now"
   ]
  },
  {
   "cell_type": "code",
   "execution_count": 76,
   "id": "14a13622",
   "metadata": {},
   "outputs": [
    {
     "name": "stdout",
     "output_type": "stream",
     "text": [
      "Index(['Date', 'Open', 'High', 'Low', 'Close', 'Adj Close', 'Volume',\n",
      "       'Datetime'],\n",
      "      dtype='object')\n"
     ]
    }
   ],
   "source": [
    "print(dax.columns)"
   ]
  },
  {
   "cell_type": "code",
   "execution_count": 77,
   "id": "0d08b06e",
   "metadata": {},
   "outputs": [
    {
     "name": "stdout",
     "output_type": "stream",
     "text": [
      "of 254 rows:\n",
      "Date         254\n",
      "Open         254\n",
      "High         254\n",
      "Low          254\n",
      "Close        254\n",
      "Adj Close    254\n",
      "Volume       254\n",
      "Datetime     254\n",
      "dtype: int64\n",
      "\n",
      "makes a total of 0 missing values\n"
     ]
    }
   ],
   "source": [
    "print(f'of {len(dax)} rows:\\n{dax.notna().sum()}')\n",
    "print('')\n",
    "print(f'makes a total of {dax.isnull().sum().sum()} missing values')"
   ]
  },
  {
   "cell_type": "code",
   "execution_count": 78,
   "id": "2c950da2",
   "metadata": {},
   "outputs": [
    {
     "data": {
      "text/plain": [
       "<AxesSubplot:xlabel='Datetime'>"
      ]
     },
     "execution_count": 78,
     "metadata": {},
     "output_type": "execute_result"
    },
    {
     "data": {
      "image/png": "[encoded data removed]",
      "text/plain": [
       "<Figure size 432x288 with 1 Axes>"
      ]
     },
     "metadata": {
      "needs_background": "light"
     },
     "output_type": "display_data"
    }
   ],
   "source": [
    "dax.plot(x='Datetime', y=['Open', 'Close'])    # using Datetime for plotting"
   ]
  },
  {
   "cell_type": "code",
   "execution_count": 79,
   "id": "6b878ced",
   "metadata": {},
   "outputs": [
    {
     "data": {
      "text/html": [
       "<div>\n",
       "<style scoped>\n",
       "    .dataframe tbody tr th:only-of-type {\n",
       "        vertical-align: middle;\n",
       "    }\n",
       "\n",
       "    .dataframe tbody tr th {\n",
       "        vertical-align: top;\n",
       "    }\n",
       "\n",
       "    .dataframe thead th {\n",
       "        text-align: right;\n",
       "    }\n",
       "</style>\n",
       "<table border=\"1\" class=\"dataframe\">\n",
       "  <thead>\n",
       "    <tr style=\"text-align: right;\">\n",
       "      <th></th>\n",
       "      <th>Open</th>\n",
       "      <th>High</th>\n",
       "      <th>Low</th>\n",
       "      <th>Close</th>\n",
       "      <th>Adj Close</th>\n",
       "      <th>Volume</th>\n",
       "    </tr>\n",
       "  </thead>\n",
       "  <tbody>\n",
       "    <tr>\n",
       "      <th>count</th>\n",
       "      <td>254.000000</td>\n",
       "      <td>254.000000</td>\n",
       "      <td>254.000000</td>\n",
       "      <td>254.000000</td>\n",
       "      <td>254.000000</td>\n",
       "      <td>2.540000e+02</td>\n",
       "    </tr>\n",
       "    <tr>\n",
       "      <th>mean</th>\n",
       "      <td>12488.785944</td>\n",
       "      <td>12595.082573</td>\n",
       "      <td>12373.931187</td>\n",
       "      <td>12489.142640</td>\n",
       "      <td>12489.142640</td>\n",
       "      <td>9.469272e+07</td>\n",
       "    </tr>\n",
       "    <tr>\n",
       "      <th>std</th>\n",
       "      <td>1324.154858</td>\n",
       "      <td>1295.824891</td>\n",
       "      <td>1365.892066</td>\n",
       "      <td>1331.191733</td>\n",
       "      <td>1331.191733</td>\n",
       "      <td>4.941752e+07</td>\n",
       "    </tr>\n",
       "    <tr>\n",
       "      <th>min</th>\n",
       "      <td>8495.940430</td>\n",
       "      <td>8668.480469</td>\n",
       "      <td>8255.650391</td>\n",
       "      <td>8441.709961</td>\n",
       "      <td>8441.709961</td>\n",
       "      <td>0.000000e+00</td>\n",
       "    </tr>\n",
       "    <tr>\n",
       "      <th>25%</th>\n",
       "      <td>11896.257813</td>\n",
       "      <td>12185.372315</td>\n",
       "      <td>11850.512451</td>\n",
       "      <td>12031.852783</td>\n",
       "      <td>12031.852783</td>\n",
       "      <td>6.409985e+07</td>\n",
       "    </tr>\n",
       "    <tr>\n",
       "      <th>50%</th>\n",
       "      <td>12847.964844</td>\n",
       "      <td>12945.129883</td>\n",
       "      <td>12764.479981</td>\n",
       "      <td>12851.169922</td>\n",
       "      <td>12851.169922</td>\n",
       "      <td>7.875350e+07</td>\n",
       "    </tr>\n",
       "    <tr>\n",
       "      <th>75%</th>\n",
       "      <td>13314.162353</td>\n",
       "      <td>13362.944824</td>\n",
       "      <td>13224.792481</td>\n",
       "      <td>13292.120362</td>\n",
       "      <td>13292.120362</td>\n",
       "      <td>1.085247e+08</td>\n",
       "    </tr>\n",
       "    <tr>\n",
       "      <th>max</th>\n",
       "      <td>14439.450195</td>\n",
       "      <td>14554.490234</td>\n",
       "      <td>14408.519531</td>\n",
       "      <td>14528.570313</td>\n",
       "      <td>14528.570313</td>\n",
       "      <td>3.904770e+08</td>\n",
       "    </tr>\n",
       "  </tbody>\n",
       "</table>\n",
       "</div>"
      ],
      "text/plain": [
       "               Open          High           Low         Close     Adj Close  \\\n",
       "count    254.000000    254.000000    254.000000    254.000000    254.000000   \n",
       "mean   12488.785944  12595.082573  12373.931187  12489.142640  12489.142640   \n",
       "std     1324.154858   1295.824891   1365.892066   1331.191733   1331.191733   \n",
       "min     8495.940430   8668.480469   8255.650391   8441.709961   8441.709961   \n",
       "25%    11896.257813  12185.372315  11850.512451  12031.852783  12031.852783   \n",
       "50%    12847.964844  12945.129883  12764.479981  12851.169922  12851.169922   \n",
       "75%    13314.162353  13362.944824  13224.792481  13292.120362  13292.120362   \n",
       "max    14439.450195  14554.490234  14408.519531  14528.570313  14528.570313   \n",
       "\n",
       "             Volume  \n",
       "count  2.540000e+02  \n",
       "mean   9.469272e+07  \n",
       "std    4.941752e+07  \n",
       "min    0.000000e+00  \n",
       "25%    6.409985e+07  \n",
       "50%    7.875350e+07  \n",
       "75%    1.085247e+08  \n",
       "max    3.904770e+08  "
      ]
     },
     "execution_count": 79,
     "metadata": {},
     "output_type": "execute_result"
    }
   ],
   "source": [
    "dax.describe()"
   ]
  },
  {
   "cell_type": "markdown",
   "id": "fdb2ffa3",
   "metadata": {},
   "source": [
    "For statistics on one variable, index the result as usual. "
   ]
  },
  {
   "cell_type": "code",
   "execution_count": 80,
   "id": "45c4e81e",
   "metadata": {},
   "outputs": [
    {
     "name": "stdout",
     "output_type": "stream",
     "text": [
      "12488.785944444882\n"
     ]
    }
   ],
   "source": [
    "mean_open = dax.describe().loc['mean', 'Open']\n",
    "print(mean_open)"
   ]
  },
  {
   "cell_type": "markdown",
   "id": "16d2cbfe",
   "metadata": {},
   "source": [
    "Create a new column, with a flag if the closing price was higher than the opening price."
   ]
  },
  {
   "cell_type": "code",
   "execution_count": 81,
   "id": "58cf797a",
   "metadata": {},
   "outputs": [
    {
     "name": "stdout",
     "output_type": "stream",
     "text": [
      "         Date          Open          High           Low         Close  \\\n",
      "0  2020-03-10  10724.980469  11032.290039  10423.900391  10475.490234   \n",
      "1  2020-03-11  10601.849609  10761.429688  10390.509766  10438.679688   \n",
      "2  2020-03-12   9863.990234   9932.559570   9139.120117   9161.129883   \n",
      "\n",
      "      Adj Close     Volume   Datetime  positive  \n",
      "0  10475.490234  267400800 2020-03-10     False  \n",
      "1  10438.679688  216708900 2020-03-11     False  \n",
      "2   9161.129883  390477000 2020-03-12     False  \n",
      "\n",
      "fraction of positive days: 0.5\n",
      "\n",
      "check: \n",
      " False    127\n",
      "True     127\n",
      "Name: positive, dtype: int64\n"
     ]
    }
   ],
   "source": [
    "dax = dax.assign(positive = dax.Close > dax.Open)\n",
    "print(dax.head(3))\n",
    "\n",
    "print('')\n",
    "# fraction of days when this was the case\n",
    "print('fraction of positive days:', dax.positive.mean())\n",
    "print('\\ncheck: \\n', dax.positive.value_counts())"
   ]
  },
  {
   "cell_type": "markdown",
   "id": "132300c4",
   "metadata": {},
   "source": [
    "Extract same fraction for every day in the week. Days are counted from 0 (Monday) to 6 (Sunday). "
   ]
  },
  {
   "cell_type": "code",
   "execution_count": 82,
   "id": "7bef1270",
   "metadata": {},
   "outputs": [
    {
     "name": "stdout",
     "output_type": "stream",
     "text": [
      "day 0:  0.58\n",
      "day 1:  0.49056603773584906\n",
      "day 2:  0.5283018867924528\n",
      "day 3:  0.44\n",
      "day 4:  0.4583333333333333\n",
      "day 5:  nan\n",
      "day 6:  nan\n"
     ]
    }
   ],
   "source": [
    "for i in range(7):\n",
    "    print(f'day {i}: ', dax[dax.Datetime.dt.dayofweek == i].positive.mean())\n"
   ]
  },
  {
   "cell_type": "markdown",
   "id": "d31ab90a",
   "metadata": {},
   "source": [
    "A more straight forward way using built-in methods."
   ]
  },
  {
   "cell_type": "code",
   "execution_count": 83,
   "id": "2b3ed115",
   "metadata": {
    "scrolled": true
   },
   "outputs": [
    {
     "data": {
      "text/html": [
       "<div>\n",
       "<style scoped>\n",
       "    .dataframe tbody tr th:only-of-type {\n",
       "        vertical-align: middle;\n",
       "    }\n",
       "\n",
       "    .dataframe tbody tr th {\n",
       "        vertical-align: top;\n",
       "    }\n",
       "\n",
       "    .dataframe thead th {\n",
       "        text-align: right;\n",
       "    }\n",
       "</style>\n",
       "<table border=\"1\" class=\"dataframe\">\n",
       "  <thead>\n",
       "    <tr style=\"text-align: right;\">\n",
       "      <th></th>\n",
       "      <th>Open</th>\n",
       "      <th>High</th>\n",
       "      <th>Low</th>\n",
       "      <th>Close</th>\n",
       "      <th>Adj Close</th>\n",
       "      <th>Volume</th>\n",
       "      <th>positive</th>\n",
       "    </tr>\n",
       "    <tr>\n",
       "      <th>wday</th>\n",
       "      <th></th>\n",
       "      <th></th>\n",
       "      <th></th>\n",
       "      <th></th>\n",
       "      <th></th>\n",
       "      <th></th>\n",
       "      <th></th>\n",
       "    </tr>\n",
       "  </thead>\n",
       "  <tbody>\n",
       "    <tr>\n",
       "      <th>0</th>\n",
       "      <td>12510.387852</td>\n",
       "      <td>12640.970996</td>\n",
       "      <td>12400.179629</td>\n",
       "      <td>12546.658457</td>\n",
       "      <td>12546.658457</td>\n",
       "      <td>8.860451e+07</td>\n",
       "      <td>0.580000</td>\n",
       "    </tr>\n",
       "    <tr>\n",
       "      <th>1</th>\n",
       "      <td>12523.045843</td>\n",
       "      <td>12621.270969</td>\n",
       "      <td>12403.764906</td>\n",
       "      <td>12520.457547</td>\n",
       "      <td>12520.457547</td>\n",
       "      <td>9.450496e+07</td>\n",
       "      <td>0.490566</td>\n",
       "    </tr>\n",
       "    <tr>\n",
       "      <th>2</th>\n",
       "      <td>12522.144310</td>\n",
       "      <td>12628.387014</td>\n",
       "      <td>12414.166403</td>\n",
       "      <td>12527.621886</td>\n",
       "      <td>12527.621886</td>\n",
       "      <td>9.062774e+07</td>\n",
       "      <td>0.528302</td>\n",
       "    </tr>\n",
       "    <tr>\n",
       "      <th>3</th>\n",
       "      <td>12422.626602</td>\n",
       "      <td>12512.666523</td>\n",
       "      <td>12286.600566</td>\n",
       "      <td>12394.369766</td>\n",
       "      <td>12394.369766</td>\n",
       "      <td>9.770017e+07</td>\n",
       "      <td>0.440000</td>\n",
       "    </tr>\n",
       "    <tr>\n",
       "      <th>4</th>\n",
       "      <td>12460.538106</td>\n",
       "      <td>12567.442179</td>\n",
       "      <td>12360.190674</td>\n",
       "      <td>12450.887695</td>\n",
       "      <td>12450.887695</td>\n",
       "      <td>1.025976e+08</td>\n",
       "      <td>0.458333</td>\n",
       "    </tr>\n",
       "  </tbody>\n",
       "</table>\n",
       "</div>"
      ],
      "text/plain": [
       "              Open          High           Low         Close     Adj Close  \\\n",
       "wday                                                                         \n",
       "0     12510.387852  12640.970996  12400.179629  12546.658457  12546.658457   \n",
       "1     12523.045843  12621.270969  12403.764906  12520.457547  12520.457547   \n",
       "2     12522.144310  12628.387014  12414.166403  12527.621886  12527.621886   \n",
       "3     12422.626602  12512.666523  12286.600566  12394.369766  12394.369766   \n",
       "4     12460.538106  12567.442179  12360.190674  12450.887695  12450.887695   \n",
       "\n",
       "            Volume  positive  \n",
       "wday                          \n",
       "0     8.860451e+07  0.580000  \n",
       "1     9.450496e+07  0.490566  \n",
       "2     9.062774e+07  0.528302  \n",
       "3     9.770017e+07  0.440000  \n",
       "4     1.025976e+08  0.458333  "
      ]
     },
     "execution_count": 83,
     "metadata": {},
     "output_type": "execute_result"
    }
   ],
   "source": [
    "dax = dax.assign(wday = dax.Datetime.dt.dayofweek)\n",
    "dax.groupby(['wday']).mean()  # rows with nans are not calculated"
   ]
  }
 ],
 "metadata": {
  "kernelspec": {
   "display_name": "Python 3",
   "language": "python",
   "name": "python3"
  },
  "language_info": {
   "codemirror_mode": {
    "name": "ipython",
    "version": 3
   },
   "file_extension": ".py",
   "mimetype": "text/x-python",
   "name": "python",
   "nbconvert_exporter": "python",
   "pygments_lexer": "ipython3",
   "version": "3.9.5"
  }
 },
 "nbformat": 4,
 "nbformat_minor": 5
}
